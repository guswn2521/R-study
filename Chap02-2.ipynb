{
 "cells": [
  {
   "cell_type": "code",
   "execution_count": 1,
   "metadata": {},
   "outputs": [
    {
     "name": "stdout",
     "output_type": "stream",
     "text": [
      "package 'hflights' successfully unpacked and MD5 sums checked\n",
      "\n",
      "The downloaded binary packages are in\n",
      "\tC:\\Users\\205\\AppData\\Local\\Temp\\Rtmpmq7Kgx\\downloaded_packages\n"
     ]
    }
   ],
   "source": [
    "## 샘플데이터\n",
    "install.packages('hflights')"
   ]
  },
  {
   "cell_type": "code",
   "execution_count": 6,
   "metadata": {},
   "outputs": [],
   "source": [
    "library(ggplot2)"
   ]
  },
  {
   "cell_type": "code",
   "execution_count": 5,
   "metadata": {},
   "outputs": [],
   "source": [
    "library(hflights)"
   ]
  },
  {
   "cell_type": "code",
   "execution_count": 3,
   "metadata": {},
   "outputs": [
    {
     "name": "stdout",
     "output_type": "stream",
     "text": [
      "'data.frame':\t227496 obs. of  21 variables:\n",
      " $ Year             : int  2011 2011 2011 2011 2011 2011 2011 2011 2011 2011 ...\n",
      " $ Month            : int  1 1 1 1 1 1 1 1 1 1 ...\n",
      " $ DayofMonth       : int  1 2 3 4 5 6 7 8 9 10 ...\n",
      " $ DayOfWeek        : int  6 7 1 2 3 4 5 6 7 1 ...\n",
      " $ DepTime          : int  1400 1401 1352 1403 1405 1359 1359 1355 1443 1443 ...\n",
      " $ ArrTime          : int  1500 1501 1502 1513 1507 1503 1509 1454 1554 1553 ...\n",
      " $ UniqueCarrier    : chr  \"AA\" \"AA\" \"AA\" \"AA\" ...\n",
      " $ FlightNum        : int  428 428 428 428 428 428 428 428 428 428 ...\n",
      " $ TailNum          : chr  \"N576AA\" \"N557AA\" \"N541AA\" \"N403AA\" ...\n",
      " $ ActualElapsedTime: int  60 60 70 70 62 64 70 59 71 70 ...\n",
      " $ AirTime          : int  40 45 48 39 44 45 43 40 41 45 ...\n",
      " $ ArrDelay         : int  -10 -9 -8 3 -3 -7 -1 -16 44 43 ...\n",
      " $ DepDelay         : int  0 1 -8 3 5 -1 -1 -5 43 43 ...\n",
      " $ Origin           : chr  \"IAH\" \"IAH\" \"IAH\" \"IAH\" ...\n",
      " $ Dest             : chr  \"DFW\" \"DFW\" \"DFW\" \"DFW\" ...\n",
      " $ Distance         : int  224 224 224 224 224 224 224 224 224 224 ...\n",
      " $ TaxiIn           : int  7 6 5 9 9 6 12 7 8 6 ...\n",
      " $ TaxiOut          : int  13 9 17 22 9 13 15 12 22 19 ...\n",
      " $ Cancelled        : int  0 0 0 0 0 0 0 0 0 0 ...\n",
      " $ CancellationCode : chr  \"\" \"\" \"\" \"\" ...\n",
      " $ Diverted         : int  0 0 0 0 0 0 0 0 0 0 ...\n"
     ]
    }
   ],
   "source": [
    "str(hflights)"
   ]
  },
  {
   "cell_type": "code",
   "execution_count": 4,
   "metadata": {},
   "outputs": [
    {
     "data": {
      "text/html": [
       "<table>\n",
       "<thead><tr><th></th><th scope=col>Year</th><th scope=col>Month</th><th scope=col>DayofMonth</th><th scope=col>DayOfWeek</th><th scope=col>DepTime</th><th scope=col>ArrTime</th><th scope=col>UniqueCarrier</th><th scope=col>FlightNum</th><th scope=col>TailNum</th><th scope=col>ActualElapsedTime</th><th scope=col>...</th><th scope=col>ArrDelay</th><th scope=col>DepDelay</th><th scope=col>Origin</th><th scope=col>Dest</th><th scope=col>Distance</th><th scope=col>TaxiIn</th><th scope=col>TaxiOut</th><th scope=col>Cancelled</th><th scope=col>CancellationCode</th><th scope=col>Diverted</th></tr></thead>\n",
       "<tbody>\n",
       "\t<tr><th scope=row>5424</th><td>2011  </td><td>1     </td><td>1     </td><td>6     </td><td>1400  </td><td>1500  </td><td>AA    </td><td>428   </td><td>N576AA</td><td>60    </td><td>...   </td><td>-10   </td><td> 0    </td><td>IAH   </td><td>DFW   </td><td>224   </td><td>7     </td><td>13    </td><td>0     </td><td>      </td><td>0     </td></tr>\n",
       "\t<tr><th scope=row>5425</th><td>2011  </td><td>1     </td><td>2     </td><td>7     </td><td>1401  </td><td>1501  </td><td>AA    </td><td>428   </td><td>N557AA</td><td>60    </td><td>...   </td><td> -9   </td><td> 1    </td><td>IAH   </td><td>DFW   </td><td>224   </td><td>6     </td><td> 9    </td><td>0     </td><td>      </td><td>0     </td></tr>\n",
       "\t<tr><th scope=row>5426</th><td>2011  </td><td>1     </td><td>3     </td><td>1     </td><td>1352  </td><td>1502  </td><td>AA    </td><td>428   </td><td>N541AA</td><td>70    </td><td>...   </td><td> -8   </td><td>-8    </td><td>IAH   </td><td>DFW   </td><td>224   </td><td>5     </td><td>17    </td><td>0     </td><td>      </td><td>0     </td></tr>\n",
       "\t<tr><th scope=row>5427</th><td>2011  </td><td>1     </td><td>4     </td><td>2     </td><td>1403  </td><td>1513  </td><td>AA    </td><td>428   </td><td>N403AA</td><td>70    </td><td>...   </td><td>  3   </td><td> 3    </td><td>IAH   </td><td>DFW   </td><td>224   </td><td>9     </td><td>22    </td><td>0     </td><td>      </td><td>0     </td></tr>\n",
       "\t<tr><th scope=row>5428</th><td>2011  </td><td>1     </td><td>5     </td><td>3     </td><td>1405  </td><td>1507  </td><td>AA    </td><td>428   </td><td>N492AA</td><td>62    </td><td>...   </td><td> -3   </td><td> 5    </td><td>IAH   </td><td>DFW   </td><td>224   </td><td>9     </td><td> 9    </td><td>0     </td><td>      </td><td>0     </td></tr>\n",
       "\t<tr><th scope=row>5429</th><td>2011  </td><td>1     </td><td>6     </td><td>4     </td><td>1359  </td><td>1503  </td><td>AA    </td><td>428   </td><td>N262AA</td><td>64    </td><td>...   </td><td> -7   </td><td>-1    </td><td>IAH   </td><td>DFW   </td><td>224   </td><td>6     </td><td>13    </td><td>0     </td><td>      </td><td>0     </td></tr>\n",
       "</tbody>\n",
       "</table>\n"
      ],
      "text/latex": [
       "\\begin{tabular}{r|lllllllllllllllllllll}\n",
       "  & Year & Month & DayofMonth & DayOfWeek & DepTime & ArrTime & UniqueCarrier & FlightNum & TailNum & ActualElapsedTime & ... & ArrDelay & DepDelay & Origin & Dest & Distance & TaxiIn & TaxiOut & Cancelled & CancellationCode & Diverted\\\\\n",
       "\\hline\n",
       "\t5424 & 2011   & 1      & 1      & 6      & 1400   & 1500   & AA     & 428    & N576AA & 60     & ...    & -10    &  0     & IAH    & DFW    & 224    & 7      & 13     & 0      &        & 0     \\\\\n",
       "\t5425 & 2011   & 1      & 2      & 7      & 1401   & 1501   & AA     & 428    & N557AA & 60     & ...    &  -9    &  1     & IAH    & DFW    & 224    & 6      &  9     & 0      &        & 0     \\\\\n",
       "\t5426 & 2011   & 1      & 3      & 1      & 1352   & 1502   & AA     & 428    & N541AA & 70     & ...    &  -8    & -8     & IAH    & DFW    & 224    & 5      & 17     & 0      &        & 0     \\\\\n",
       "\t5427 & 2011   & 1      & 4      & 2      & 1403   & 1513   & AA     & 428    & N403AA & 70     & ...    &   3    &  3     & IAH    & DFW    & 224    & 9      & 22     & 0      &        & 0     \\\\\n",
       "\t5428 & 2011   & 1      & 5      & 3      & 1405   & 1507   & AA     & 428    & N492AA & 62     & ...    &  -3    &  5     & IAH    & DFW    & 224    & 9      &  9     & 0      &        & 0     \\\\\n",
       "\t5429 & 2011   & 1      & 6      & 4      & 1359   & 1503   & AA     & 428    & N262AA & 64     & ...    &  -7    & -1     & IAH    & DFW    & 224    & 6      & 13     & 0      &        & 0     \\\\\n",
       "\\end{tabular}\n"
      ],
      "text/markdown": [
       "\n",
       "| <!--/--> | Year | Month | DayofMonth | DayOfWeek | DepTime | ArrTime | UniqueCarrier | FlightNum | TailNum | ActualElapsedTime | ... | ArrDelay | DepDelay | Origin | Dest | Distance | TaxiIn | TaxiOut | Cancelled | CancellationCode | Diverted |\n",
       "|---|---|---|---|---|---|---|---|---|---|---|---|---|---|---|---|---|---|---|---|---|---|\n",
       "| 5424 | 2011   | 1      | 1      | 6      | 1400   | 1500   | AA     | 428    | N576AA | 60     | ...    | -10    |  0     | IAH    | DFW    | 224    | 7      | 13     | 0      |        | 0      |\n",
       "| 5425 | 2011   | 1      | 2      | 7      | 1401   | 1501   | AA     | 428    | N557AA | 60     | ...    |  -9    |  1     | IAH    | DFW    | 224    | 6      |  9     | 0      |        | 0      |\n",
       "| 5426 | 2011   | 1      | 3      | 1      | 1352   | 1502   | AA     | 428    | N541AA | 70     | ...    |  -8    | -8     | IAH    | DFW    | 224    | 5      | 17     | 0      |        | 0      |\n",
       "| 5427 | 2011   | 1      | 4      | 2      | 1403   | 1513   | AA     | 428    | N403AA | 70     | ...    |   3    |  3     | IAH    | DFW    | 224    | 9      | 22     | 0      |        | 0      |\n",
       "| 5428 | 2011   | 1      | 5      | 3      | 1405   | 1507   | AA     | 428    | N492AA | 62     | ...    |  -3    |  5     | IAH    | DFW    | 224    | 9      |  9     | 0      |        | 0      |\n",
       "| 5429 | 2011   | 1      | 6      | 4      | 1359   | 1503   | AA     | 428    | N262AA | 64     | ...    |  -7    | -1     | IAH    | DFW    | 224    | 6      | 13     | 0      |        | 0      |\n",
       "\n"
      ],
      "text/plain": [
       "     Year Month DayofMonth DayOfWeek DepTime ArrTime UniqueCarrier FlightNum\n",
       "5424 2011 1     1          6         1400    1500    AA            428      \n",
       "5425 2011 1     2          7         1401    1501    AA            428      \n",
       "5426 2011 1     3          1         1352    1502    AA            428      \n",
       "5427 2011 1     4          2         1403    1513    AA            428      \n",
       "5428 2011 1     5          3         1405    1507    AA            428      \n",
       "5429 2011 1     6          4         1359    1503    AA            428      \n",
       "     TailNum ActualElapsedTime ... ArrDelay DepDelay Origin Dest Distance\n",
       "5424 N576AA  60                ... -10       0       IAH    DFW  224     \n",
       "5425 N557AA  60                ...  -9       1       IAH    DFW  224     \n",
       "5426 N541AA  70                ...  -8      -8       IAH    DFW  224     \n",
       "5427 N403AA  70                ...   3       3       IAH    DFW  224     \n",
       "5428 N492AA  62                ...  -3       5       IAH    DFW  224     \n",
       "5429 N262AA  64                ...  -7      -1       IAH    DFW  224     \n",
       "     TaxiIn TaxiOut Cancelled CancellationCode Diverted\n",
       "5424 7      13      0                          0       \n",
       "5425 6       9      0                          0       \n",
       "5426 5      17      0                          0       \n",
       "5427 9      22      0                          0       \n",
       "5428 9       9      0                          0       \n",
       "5429 6      13      0                          0       "
      ]
     },
     "metadata": {},
     "output_type": "display_data"
    }
   ],
   "source": [
    "head(hflights)"
   ]
  },
  {
   "cell_type": "code",
   "execution_count": null,
   "metadata": {},
   "outputs": [],
   "source": [
    "dest_table <- table(hflights$Dest)\n",
    "dest_table"
   ]
  },
  {
   "cell_type": "code",
   "execution_count": 10,
   "metadata": {},
   "outputs": [
    {
     "data": {
      "text/html": [
       "116"
      ],
      "text/latex": [
       "116"
      ],
      "text/markdown": [
       "116"
      ],
      "text/plain": [
       "[1] 116"
      ]
     },
     "metadata": {},
     "output_type": "display_data"
    },
    {
     "data": {
      "text/html": [
       "<ol class=list-inline>\n",
       "\t<li>1</li>\n",
       "\t<li>9820</li>\n",
       "</ol>\n"
      ],
      "text/latex": [
       "\\begin{enumerate*}\n",
       "\\item 1\n",
       "\\item 9820\n",
       "\\end{enumerate*}\n"
      ],
      "text/markdown": [
       "1. 1\n",
       "2. 9820\n",
       "\n",
       "\n"
      ],
      "text/plain": [
       "[1]    1 9820"
      ]
     },
     "metadata": {},
     "output_type": "display_data"
    }
   ],
   "source": [
    "length(dest_table)\n",
    "range(dest_table)"
   ]
  },
  {
   "cell_type": "code",
   "execution_count": 12,
   "metadata": {},
   "outputs": [
    {
     "data": {
      "text/html": [
       "<strong>AGS:</strong> 1"
      ],
      "text/latex": [
       "\\textbf{AGS:} 1"
      ],
      "text/markdown": [
       "**AGS:** 1"
      ],
      "text/plain": [
       "AGS \n",
       "  1 "
      ]
     },
     "metadata": {},
     "output_type": "display_data"
    },
    {
     "data": {
      "text/html": [
       "<strong>DAL:</strong> 9820"
      ],
      "text/latex": [
       "\\textbf{DAL:} 9820"
      ],
      "text/markdown": [
       "**DAL:** 9820"
      ],
      "text/plain": [
       " DAL \n",
       "9820 "
      ]
     },
     "metadata": {},
     "output_type": "display_data"
    }
   ],
   "source": [
    "dest_table[dest_table ==1]\n",
    "dest_table[dest_table==9820]"
   ]
  },
  {
   "cell_type": "code",
   "execution_count": 14,
   "metadata": {},
   "outputs": [
    {
     "data": {
      "text/plain": [
       "\n",
       " ATL  AUS  DAL  DEN  DFW  LAX  MSY  ORD  PHX \n",
       "7886 5022 9820 5920 6653 6064 6823 5748 5096 "
      ]
     },
     "metadata": {},
     "output_type": "display_data"
    }
   ],
   "source": [
    "dest_table_5000 <- dest_table[dest_table > 5000]\n",
    "dest_table_5000"
   ]
  },
  {
   "cell_type": "code",
   "execution_count": null,
   "metadata": {
    "scrolled": true
   },
   "outputs": [],
   "source": [
    "barplot(dest_table_5000)"
   ]
  },
  {
   "cell_type": "code",
   "execution_count": 16,
   "metadata": {},
   "outputs": [
    {
     "name": "stdout",
     "output_type": "stream",
     "text": [
      "'data.frame':\t18310 obs. of  8 variables:\n",
      " $ age            : int  75 52 67 62 70 76 55 72 64 71 ...\n",
      " $ sex            : Factor w/ 2 levels \"남\",\"여\": 1 2 2 1 1 2 1 1 1 1 ...\n",
      " $ height         : Factor w/ 485 levels \"100\",\"130\",\"130.2\",..: 252 408 182 262 352 352 467 165 172 232 ...\n",
      " $ weight         : Factor w/ 638 levels \"100\",\"101\",\"101.1\",..: 333 446 349 263 343 563 463 243 363 248 ...\n",
      " $ dateOfoperation: Factor w/ 351 levels \"2011-01-02\",\"2011-01-03\",..: 165 134 146 164 154 160 164 147 219 192 ...\n",
      " $ cancerStaging  : Factor w/ 5 levels \"I\",\"II\",\"III\",..: 1 4 3 1 2 3 2 3 1 2 ...\n",
      " $ hospitalization: int  48 17 10 11 10 10 12 18 15 35 ...\n",
      " $ diseaseCode    : Factor w/ 13 levels \"C18\",\"C180\",\"C181\",..: 9 9 9 9 4 11 9 4 13 11 ...\n"
     ]
    }
   ],
   "source": [
    "df <- read.csv('r-ggagi-data/example_cancer.csv')\n",
    "str(df)"
   ]
  },
  {
   "cell_type": "code",
   "execution_count": 17,
   "metadata": {},
   "outputs": [
    {
     "data": {
      "text/html": [
       "<table>\n",
       "<thead><tr><th scope=col>age</th><th scope=col>sex</th><th scope=col>height</th><th scope=col>weight</th><th scope=col>dateOfoperation</th><th scope=col>cancerStaging</th><th scope=col>hospitalization</th><th scope=col>diseaseCode</th></tr></thead>\n",
       "<tbody>\n",
       "\t<tr><td>75        </td><td>남        </td><td>161       </td><td>64        </td><td>2011-06-22</td><td>I         </td><td>48        </td><td>C187      </td></tr>\n",
       "\t<tr><td>52        </td><td>여        </td><td>176.6     </td><td>75.3      </td><td>2011-05-19</td><td>IV        </td><td>17        </td><td>C187      </td></tr>\n",
       "\t<tr><td>67        </td><td>여        </td><td>154       </td><td>65.6      </td><td>2011-05-31</td><td>III       </td><td>10        </td><td>C187      </td></tr>\n",
       "</tbody>\n",
       "</table>\n"
      ],
      "text/latex": [
       "\\begin{tabular}{r|llllllll}\n",
       " age & sex & height & weight & dateOfoperation & cancerStaging & hospitalization & diseaseCode\\\\\n",
       "\\hline\n",
       "\t 75         & 남         & 161        & 64         & 2011-06-22 & I          & 48         & C187      \\\\\n",
       "\t 52         & 여         & 176.6      & 75.3       & 2011-05-19 & IV         & 17         & C187      \\\\\n",
       "\t 67         & 여         & 154        & 65.6       & 2011-05-31 & III        & 10         & C187      \\\\\n",
       "\\end{tabular}\n"
      ],
      "text/markdown": [
       "\n",
       "| age | sex | height | weight | dateOfoperation | cancerStaging | hospitalization | diseaseCode |\n",
       "|---|---|---|---|---|---|---|---|\n",
       "| 75         | 남         | 161        | 64         | 2011-06-22 | I          | 48         | C187       |\n",
       "| 52         | 여         | 176.6      | 75.3       | 2011-05-19 | IV         | 17         | C187       |\n",
       "| 67         | 여         | 154        | 65.6       | 2011-05-31 | III        | 10         | C187       |\n",
       "\n"
      ],
      "text/plain": [
       "  age sex height weight dateOfoperation cancerStaging hospitalization\n",
       "1 75  남  161    64     2011-06-22      I             48             \n",
       "2 52  여  176.6  75.3   2011-05-19      IV            17             \n",
       "3 67  여  154    65.6   2011-05-31      III           10             \n",
       "  diseaseCode\n",
       "1 C187       \n",
       "2 C187       \n",
       "3 C187       "
      ]
     },
     "metadata": {},
     "output_type": "display_data"
    }
   ],
   "source": [
    "head(df,3)"
   ]
  },
  {
   "cell_type": "code",
   "execution_count": null,
   "metadata": {},
   "outputs": [],
   "source": []
  },
  {
   "cell_type": "code",
   "execution_count": null,
   "metadata": {},
   "outputs": [],
   "source": []
  },
  {
   "cell_type": "code",
   "execution_count": null,
   "metadata": {},
   "outputs": [],
   "source": []
  },
  {
   "cell_type": "code",
   "execution_count": null,
   "metadata": {},
   "outputs": [],
   "source": []
  },
  {
   "cell_type": "code",
   "execution_count": null,
   "metadata": {},
   "outputs": [],
   "source": []
  },
  {
   "cell_type": "code",
   "execution_count": null,
   "metadata": {},
   "outputs": [],
   "source": []
  },
  {
   "cell_type": "code",
   "execution_count": null,
   "metadata": {},
   "outputs": [],
   "source": []
  },
  {
   "cell_type": "code",
   "execution_count": null,
   "metadata": {},
   "outputs": [],
   "source": []
  },
  {
   "cell_type": "code",
   "execution_count": null,
   "metadata": {},
   "outputs": [],
   "source": []
  },
  {
   "cell_type": "code",
   "execution_count": null,
   "metadata": {},
   "outputs": [],
   "source": []
  }
 ],
 "metadata": {
  "kernelspec": {
   "display_name": "R",
   "language": "R",
   "name": "ir"
  },
  "language_info": {
   "codemirror_mode": "r",
   "file_extension": ".r",
   "mimetype": "text/x-r-source",
   "name": "R",
   "pygments_lexer": "r",
   "version": "3.6.1"
  }
 },
 "nbformat": 4,
 "nbformat_minor": 4
}
