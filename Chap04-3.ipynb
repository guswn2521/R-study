{
 "cells": [
  {
   "cell_type": "markdown",
   "metadata": {},
   "source": [
    "## 시각화\n",
    "- 보고서를 위한 그래프 그리기"
   ]
  },
  {
   "cell_type": "markdown",
   "metadata": {},
   "source": [
    "### D3.sj , 그 외 JS 그래프\n",
    "- rChart : JS 라이브러리를 R에서 사용하게 해줌\n",
    "- D3.js : interactive graph"
   ]
  },
  {
   "cell_type": "code",
   "execution_count": 1,
   "metadata": {},
   "outputs": [
    {
     "name": "stderr",
     "output_type": "stream",
     "text": [
      "Installing package into 'C:/Users/205/Documents/R/win-library/4.0'\n",
      "(as 'lib' is unspecified)\n",
      "\n"
     ]
    },
    {
     "name": "stdout",
     "output_type": "stream",
     "text": [
      "package 'devtools' successfully unpacked and MD5 sums checked\n",
      "\n",
      "The downloaded binary packages are in\n",
      "\tC:\\Users\\205\\AppData\\Local\\Temp\\RtmpITcJQB\\downloaded_packages\n"
     ]
    }
   ],
   "source": [
    "install.packages('devtools')"
   ]
  },
  {
   "cell_type": "code",
   "execution_count": 2,
   "metadata": {},
   "outputs": [
    {
     "name": "stderr",
     "output_type": "stream",
     "text": [
      "Warning message:\n",
      "\"package 'devtools' was built under R version 4.0.2\"\n",
      "Loading required package: usethis\n",
      "\n",
      "Warning message:\n",
      "\"package 'usethis' was built under R version 4.0.2\"\n"
     ]
    }
   ],
   "source": [
    "library('devtools')"
   ]
  },
  {
   "cell_type": "code",
   "execution_count": 3,
   "metadata": {},
   "outputs": [
    {
     "name": "stderr",
     "output_type": "stream",
     "text": [
      "Skipping install of 'rCharts' from a github remote, the SHA1 (e0106ed8) has not changed since last install.\n",
      "  Use `force = TRUE` to force installation\n",
      "\n"
     ]
    }
   ],
   "source": [
    "install_github('saurfang/rCharts', ref='utf8-writelines')"
   ]
  },
  {
   "cell_type": "code",
   "execution_count": 4,
   "metadata": {},
   "outputs": [],
   "source": [
    "library('rCharts')"
   ]
  },
  {
   "cell_type": "code",
   "execution_count": 5,
   "metadata": {},
   "outputs": [],
   "source": [
    "## nPlot() : Ds.js의 NVD3 라이브러리 기반\n",
    "hair_eye_male <- subset(as.data.frame(HairEyeColor), Sex=='Male')\n",
    "n1 <- nPlot(Freq~Hair, group='Eye', data=hair_eye_male, type='multiBarChart')"
   ]
  },
  {
   "cell_type": "code",
   "execution_count": 6,
   "metadata": {},
   "outputs": [],
   "source": [
    "n1"
   ]
  },
  {
   "cell_type": "code",
   "execution_count": 7,
   "metadata": {},
   "outputs": [],
   "source": [
    "##데이터 적재\n",
    "df <- read.csv('r-ggagi-data/example_studentlist2.csv')"
   ]
  },
  {
   "cell_type": "code",
   "execution_count": 8,
   "metadata": {},
   "outputs": [],
   "source": [
    "attach(df)"
   ]
  },
  {
   "cell_type": "code",
   "execution_count": 9,
   "metadata": {},
   "outputs": [],
   "source": [
    "n1 <- nPlot(data=df, height~weight, group='sex', type='scatterChart')\n",
    "n1"
   ]
  },
  {
   "cell_type": "code",
   "execution_count": 10,
   "metadata": {},
   "outputs": [],
   "source": [
    "## 파이차트 그리기\n",
    "n2 <- nPlot(data=df, ~bloodtype, type='pieChart')\n",
    "n2"
   ]
  },
  {
   "cell_type": "code",
   "execution_count": 11,
   "metadata": {},
   "outputs": [],
   "source": [
    "n2$chart(donut=T)\n",
    "n2"
   ]
  },
  {
   "cell_type": "code",
   "execution_count": 12,
   "metadata": {},
   "outputs": [
    {
     "name": "stderr",
     "output_type": "stream",
     "text": [
      "\n",
      "Attaching package: 'dplyr'\n",
      "\n",
      "\n",
      "The following objects are masked from 'package:stats':\n",
      "\n",
      "    filter, lag\n",
      "\n",
      "\n",
      "The following objects are masked from 'package:base':\n",
      "\n",
      "    intersect, setdiff, setequal, union\n",
      "\n",
      "\n"
     ]
    }
   ],
   "source": [
    "## 멀티 막대그래프\n",
    "library(dplyr)"
   ]
  },
  {
   "cell_type": "code",
   "execution_count": 13,
   "metadata": {},
   "outputs": [
    {
     "name": "stderr",
     "output_type": "stream",
     "text": [
      "`summarise()` regrouping output by 'bloodtype' (override with `.groups` argument)\n",
      "\n"
     ]
    },
    {
     "data": {
      "text/html": [
       "<table>\n",
       "<caption>A grouped_df: 8 × 3</caption>\n",
       "<thead>\n",
       "\t<tr><th scope=col>bloodtype</th><th scope=col>sex</th><th scope=col>n</th></tr>\n",
       "\t<tr><th scope=col>&lt;chr&gt;</th><th scope=col>&lt;chr&gt;</th><th scope=col>&lt;int&gt;</th></tr>\n",
       "</thead>\n",
       "<tbody>\n",
       "\t<tr><td>A </td><td>남자</td><td>13</td></tr>\n",
       "\t<tr><td>A </td><td>여자</td><td>17</td></tr>\n",
       "\t<tr><td>AB</td><td>남자</td><td> 3</td></tr>\n",
       "\t<tr><td>AB</td><td>여자</td><td> 8</td></tr>\n",
       "\t<tr><td>B </td><td>남자</td><td>14</td></tr>\n",
       "\t<tr><td>B </td><td>여자</td><td>11</td></tr>\n",
       "\t<tr><td>O </td><td>남자</td><td>18</td></tr>\n",
       "\t<tr><td>O </td><td>여자</td><td>16</td></tr>\n",
       "</tbody>\n",
       "</table>\n"
      ],
      "text/latex": [
       "A grouped\\_df: 8 × 3\n",
       "\\begin{tabular}{lll}\n",
       " bloodtype & sex & n\\\\\n",
       " <chr> & <chr> & <int>\\\\\n",
       "\\hline\n",
       "\t A  & 남자 & 13\\\\\n",
       "\t A  & 여자 & 17\\\\\n",
       "\t AB & 남자 &  3\\\\\n",
       "\t AB & 여자 &  8\\\\\n",
       "\t B  & 남자 & 14\\\\\n",
       "\t B  & 여자 & 11\\\\\n",
       "\t O  & 남자 & 18\\\\\n",
       "\t O  & 여자 & 16\\\\\n",
       "\\end{tabular}\n"
      ],
      "text/markdown": [
       "\n",
       "A grouped_df: 8 × 3\n",
       "\n",
       "| bloodtype &lt;chr&gt; | sex &lt;chr&gt; | n &lt;int&gt; |\n",
       "|---|---|---|\n",
       "| A  | 남자 | 13 |\n",
       "| A  | 여자 | 17 |\n",
       "| AB | 남자 |  3 |\n",
       "| AB | 여자 |  8 |\n",
       "| B  | 남자 | 14 |\n",
       "| B  | 여자 | 11 |\n",
       "| O  | 남자 | 18 |\n",
       "| O  | 여자 | 16 |\n",
       "\n"
      ],
      "text/plain": [
       "  bloodtype sex  n \n",
       "1 A         남자 13\n",
       "2 A         여자 17\n",
       "3 AB        남자  3\n",
       "4 AB        여자  8\n",
       "5 B         남자 14\n",
       "6 B         여자 11\n",
       "7 O         남자 18\n",
       "8 O         여자 16"
      ]
     },
     "metadata": {},
     "output_type": "display_data"
    }
   ],
   "source": [
    "# group <- group_by(df,c(bloodtype,sex))\n",
    "# df2 <- summarise(group, SumPopulation=sum(Population), Male=sum(Male))\n",
    "## ctrl+shift+m\n",
    "## 빈도수 : n=n()\n",
    "df2 <- df %>% \n",
    "    group_by(bloodtype, sex) %>% \n",
    "        summarize(n=n())\n",
    "df2"
   ]
  },
  {
   "cell_type": "code",
   "execution_count": 14,
   "metadata": {},
   "outputs": [],
   "source": [
    "n4 <- nPlot(data=df2, n~bloodtype, group='sex', type='multiBarChart')\n",
    "n4"
   ]
  },
  {
   "cell_type": "code",
   "execution_count": 15,
   "metadata": {},
   "outputs": [],
   "source": [
    "## 라인차트\n",
    "ts <- read.csv('r-ggagi-data/example_ts2.csv')"
   ]
  },
  {
   "cell_type": "code",
   "execution_count": 16,
   "metadata": {},
   "outputs": [
    {
     "data": {
      "text/html": [
       "<table>\n",
       "<caption>A data.frame: 6 × 3</caption>\n",
       "<thead>\n",
       "\t<tr><th></th><th scope=col>time</th><th scope=col>sales</th><th scope=col>year</th></tr>\n",
       "\t<tr><th></th><th scope=col>&lt;date&gt;</th><th scope=col>&lt;int&gt;</th><th scope=col>&lt;int&gt;</th></tr>\n",
       "</thead>\n",
       "<tbody>\n",
       "\t<tr><th scope=row>1</th><td>2014-01-01</td><td>4510</td><td>2014</td></tr>\n",
       "\t<tr><th scope=row>2</th><td>2014-01-08</td><td>5063</td><td>2014</td></tr>\n",
       "\t<tr><th scope=row>3</th><td>2014-01-15</td><td>3694</td><td>2014</td></tr>\n",
       "\t<tr><th scope=row>4</th><td>2014-01-22</td><td>3768</td><td>2014</td></tr>\n",
       "\t<tr><th scope=row>5</th><td>2014-01-29</td><td>3850</td><td>2014</td></tr>\n",
       "\t<tr><th scope=row>6</th><td>2014-02-05</td><td>4300</td><td>2014</td></tr>\n",
       "</tbody>\n",
       "</table>\n"
      ],
      "text/latex": [
       "A data.frame: 6 × 3\n",
       "\\begin{tabular}{r|lll}\n",
       "  & time & sales & year\\\\\n",
       "  & <date> & <int> & <int>\\\\\n",
       "\\hline\n",
       "\t1 & 2014-01-01 & 4510 & 2014\\\\\n",
       "\t2 & 2014-01-08 & 5063 & 2014\\\\\n",
       "\t3 & 2014-01-15 & 3694 & 2014\\\\\n",
       "\t4 & 2014-01-22 & 3768 & 2014\\\\\n",
       "\t5 & 2014-01-29 & 3850 & 2014\\\\\n",
       "\t6 & 2014-02-05 & 4300 & 2014\\\\\n",
       "\\end{tabular}\n"
      ],
      "text/markdown": [
       "\n",
       "A data.frame: 6 × 3\n",
       "\n",
       "| <!--/--> | time &lt;date&gt; | sales &lt;int&gt; | year &lt;int&gt; |\n",
       "|---|---|---|---|\n",
       "| 1 | 2014-01-01 | 4510 | 2014 |\n",
       "| 2 | 2014-01-08 | 5063 | 2014 |\n",
       "| 3 | 2014-01-15 | 3694 | 2014 |\n",
       "| 4 | 2014-01-22 | 3768 | 2014 |\n",
       "| 5 | 2014-01-29 | 3850 | 2014 |\n",
       "| 6 | 2014-02-05 | 4300 | 2014 |\n",
       "\n"
      ],
      "text/plain": [
       "  time       sales year\n",
       "1 2014-01-01 4510  2014\n",
       "2 2014-01-08 5063  2014\n",
       "3 2014-01-15 3694  2014\n",
       "4 2014-01-22 3768  2014\n",
       "5 2014-01-29 3850  2014\n",
       "6 2014-02-05 4300  2014"
      ]
     },
     "metadata": {},
     "output_type": "display_data"
    }
   ],
   "source": [
    "ts$time <- as.Date(ts$time)  ## 날짜형으로 변환\n",
    "ts2 <-ts  %>% filter(year==2014)\n",
    "head(ts2)"
   ]
  },
  {
   "cell_type": "code",
   "execution_count": 17,
   "metadata": {},
   "outputs": [],
   "source": [
    "n5 <- nPlot(data=ts2, sales~time, type='lineChart')\n",
    "n5"
   ]
  },
  {
   "cell_type": "code",
   "execution_count": 18,
   "metadata": {},
   "outputs": [],
   "source": [
    "n5$xAxis(tickFormat=\"#!\n",
    "    function(d){\n",
    "        return d3.time.format('%Y-%m-%d')\n",
    "            (new Date(d*1000*3600*24));\n",
    "} !#\", rotateLabels = -45)\n",
    "n5"
   ]
  },
  {
   "cell_type": "code",
   "execution_count": 19,
   "metadata": {},
   "outputs": [
    {
     "data": {
      "text/html": [
       "<style>\n",
       ".list-inline {list-style: none; margin:0; padding: 0}\n",
       ".list-inline>li {display: inline-block}\n",
       ".list-inline>li:not(:last-child)::after {content: \"\\00b7\"; padding: 0 .5ex}\n",
       "</style>\n",
       "<ol class=list-inline><li>'2014-01-01'</li><li>'2014-01-08'</li><li>'2014-01-15'</li><li>'2014-01-22'</li><li>'2014-01-29'</li><li>'2014-02-05'</li></ol>\n"
      ],
      "text/latex": [
       "\\begin{enumerate*}\n",
       "\\item '2014-01-01'\n",
       "\\item '2014-01-08'\n",
       "\\item '2014-01-15'\n",
       "\\item '2014-01-22'\n",
       "\\item '2014-01-29'\n",
       "\\item '2014-02-05'\n",
       "\\end{enumerate*}\n"
      ],
      "text/markdown": [
       "1. '2014-01-01'\n",
       "2. '2014-01-08'\n",
       "3. '2014-01-15'\n",
       "4. '2014-01-22'\n",
       "5. '2014-01-29'\n",
       "6. '2014-02-05'\n",
       "\n",
       "\n"
      ],
      "text/plain": [
       "[1] \"2014-01-01\" \"2014-01-08\" \"2014-01-15\" \"2014-01-22\" \"2014-01-29\"\n",
       "[6] \"2014-02-05\""
      ]
     },
     "metadata": {},
     "output_type": "display_data"
    }
   ],
   "source": [
    "ts3 <- read.csv('r-ggagi-data/example_ts3.csv')\n",
    "head(ts3$time)"
   ]
  },
  {
   "cell_type": "code",
   "execution_count": 20,
   "metadata": {},
   "outputs": [
    {
     "data": {
      "text/html": [
       "<style>\n",
       ".list-inline {list-style: none; margin:0; padding: 0}\n",
       ".list-inline>li {display: inline-block}\n",
       ".list-inline>li:not(:last-child)::after {content: \"\\00b7\"; padding: 0 .5ex}\n",
       "</style>\n",
       "<ol class=list-inline><li><time datetime=\"2014-01-01\">2014-01-01</time></li><li><time datetime=\"2014-01-08\">2014-01-08</time></li><li><time datetime=\"2014-01-15\">2014-01-15</time></li><li><time datetime=\"2014-01-22\">2014-01-22</time></li><li><time datetime=\"2014-01-29\">2014-01-29</time></li><li><time datetime=\"2014-02-05\">2014-02-05</time></li></ol>\n"
      ],
      "text/latex": [
       "\\begin{enumerate*}\n",
       "\\item 2014-01-01\n",
       "\\item 2014-01-08\n",
       "\\item 2014-01-15\n",
       "\\item 2014-01-22\n",
       "\\item 2014-01-29\n",
       "\\item 2014-02-05\n",
       "\\end{enumerate*}\n"
      ],
      "text/markdown": [
       "1. 2014-01-01\n",
       "2. 2014-01-08\n",
       "3. 2014-01-15\n",
       "4. 2014-01-22\n",
       "5. 2014-01-29\n",
       "6. 2014-02-05\n",
       "\n",
       "\n"
      ],
      "text/plain": [
       "[1] \"2014-01-01\" \"2014-01-08\" \"2014-01-15\" \"2014-01-22\" \"2014-01-29\"\n",
       "[6] \"2014-02-05\""
      ]
     },
     "metadata": {},
     "output_type": "display_data"
    }
   ],
   "source": [
    "ts3$time <- as.Date(ts3$time)\n",
    "head(ts3$time)\n",
    "n6 <- nPlot(data=ts3, sales~time, group='product', type='stackedAreaChart')\n",
    "n6"
   ]
  },
  {
   "cell_type": "code",
   "execution_count": 21,
   "metadata": {},
   "outputs": [],
   "source": [
    "n6$xAxis(tickFormat=\"#!\n",
    "    function(d){\n",
    "        return d3.time.format('%Y-%m-%d')\n",
    "            (new Date(d*1000*3600*24));\n",
    "} !#\", rotateLabels = -45)\n",
    "n6"
   ]
  },
  {
   "cell_type": "code",
   "execution_count": 22,
   "metadata": {},
   "outputs": [],
   "source": [
    "n7 <- nPlot(data=ts3, sales~time, group='product', type='lineWithFocusChart')\n",
    "n7"
   ]
  },
  {
   "cell_type": "code",
   "execution_count": 23,
   "metadata": {},
   "outputs": [],
   "source": [
    "n7$xAxis(tickFormat=\"#!\n",
    "    function(d){\n",
    "        return d3.time.format('%Y-%m-%d')\n",
    "            (new Date(d*1000*3600*24));\n",
    "} !#\", rotateLabels = -15)\n",
    "n7"
   ]
  },
  {
   "cell_type": "code",
   "execution_count": 24,
   "metadata": {},
   "outputs": [
    {
     "data": {
      "text/html": [
       "<table>\n",
       "<caption>A data.frame: 6 × 3</caption>\n",
       "<thead>\n",
       "\t<tr><th></th><th scope=col>time</th><th scope=col>sales</th><th scope=col>product</th></tr>\n",
       "\t<tr><th></th><th scope=col>&lt;date&gt;</th><th scope=col>&lt;int&gt;</th><th scope=col>&lt;chr&gt;</th></tr>\n",
       "</thead>\n",
       "<tbody>\n",
       "\t<tr><th scope=row>1</th><td>2014-01-01</td><td>4716</td><td>product1</td></tr>\n",
       "\t<tr><th scope=row>2</th><td>2014-01-08</td><td>4875</td><td>product1</td></tr>\n",
       "\t<tr><th scope=row>3</th><td>2014-01-15</td><td>4570</td><td>product1</td></tr>\n",
       "\t<tr><th scope=row>4</th><td>2014-01-22</td><td>3798</td><td>product1</td></tr>\n",
       "\t<tr><th scope=row>5</th><td>2014-01-29</td><td>3987</td><td>product1</td></tr>\n",
       "\t<tr><th scope=row>6</th><td>2014-02-05</td><td>3571</td><td>product1</td></tr>\n",
       "</tbody>\n",
       "</table>\n"
      ],
      "text/latex": [
       "A data.frame: 6 × 3\n",
       "\\begin{tabular}{r|lll}\n",
       "  & time & sales & product\\\\\n",
       "  & <date> & <int> & <chr>\\\\\n",
       "\\hline\n",
       "\t1 & 2014-01-01 & 4716 & product1\\\\\n",
       "\t2 & 2014-01-08 & 4875 & product1\\\\\n",
       "\t3 & 2014-01-15 & 4570 & product1\\\\\n",
       "\t4 & 2014-01-22 & 3798 & product1\\\\\n",
       "\t5 & 2014-01-29 & 3987 & product1\\\\\n",
       "\t6 & 2014-02-05 & 3571 & product1\\\\\n",
       "\\end{tabular}\n"
      ],
      "text/markdown": [
       "\n",
       "A data.frame: 6 × 3\n",
       "\n",
       "| <!--/--> | time &lt;date&gt; | sales &lt;int&gt; | product &lt;chr&gt; |\n",
       "|---|---|---|---|\n",
       "| 1 | 2014-01-01 | 4716 | product1 |\n",
       "| 2 | 2014-01-08 | 4875 | product1 |\n",
       "| 3 | 2014-01-15 | 4570 | product1 |\n",
       "| 4 | 2014-01-22 | 3798 | product1 |\n",
       "| 5 | 2014-01-29 | 3987 | product1 |\n",
       "| 6 | 2014-02-05 | 3571 | product1 |\n",
       "\n"
      ],
      "text/plain": [
       "  time       sales product \n",
       "1 2014-01-01 4716  product1\n",
       "2 2014-01-08 4875  product1\n",
       "3 2014-01-15 4570  product1\n",
       "4 2014-01-22 3798  product1\n",
       "5 2014-01-29 3987  product1\n",
       "6 2014-02-05 3571  product1"
      ]
     },
     "metadata": {},
     "output_type": "display_data"
    }
   ],
   "source": [
    "head(ts3)"
   ]
  },
  {
   "cell_type": "code",
   "execution_count": 25,
   "metadata": {},
   "outputs": [
    {
     "name": "stdout",
     "output_type": "stream",
     "text": [
      "'data.frame':\t62 obs. of  6 variables:\n",
      " $ 소관명     : chr  \"A부서\" \"A부서\" \"A부서\" \"A부서\" ...\n",
      " $ 회계명     : chr  \"과학관관련\" \"과학관관련\" \"과학관관련\" \"과학관\" ...\n",
      " $ 분야명     : chr  \"기술\" \"기술\" \"기술\" \"기술\" ...\n",
      " $ 부문명     : chr  \"기술일반\" \"기술일반\" \"기술일반\" \"기술일반\" ...\n",
      " $ 프로그램명 : chr  \"계정간거래\" \"과학관관련운영\" \"회계기금간거래\" \"계정간거래\" ...\n",
      " $ sum.확정안.: num  1301000 25336500 486000 1501000 31113145 ...\n"
     ]
    }
   ],
   "source": [
    "df <- read.csv('r-ggagi-data/example_2015_expenditure.csv')\n",
    "str(df)"
   ]
  },
  {
   "cell_type": "code",
   "execution_count": 26,
   "metadata": {},
   "outputs": [],
   "source": [
    "df2 <- df"
   ]
  },
  {
   "cell_type": "code",
   "execution_count": 27,
   "metadata": {},
   "outputs": [
    {
     "data": {
      "text/html": [
       "<table>\n",
       "<caption>A data.frame: 6 × 6</caption>\n",
       "<thead>\n",
       "\t<tr><th></th><th scope=col>소관명</th><th scope=col>회계명</th><th scope=col>분야명</th><th scope=col>부문명</th><th scope=col>프로그램명</th><th scope=col>sum.확정안.</th></tr>\n",
       "\t<tr><th></th><th scope=col>&lt;chr&gt;</th><th scope=col>&lt;chr&gt;</th><th scope=col>&lt;chr&gt;</th><th scope=col>&lt;chr&gt;</th><th scope=col>&lt;chr&gt;</th><th scope=col>&lt;dbl&gt;</th></tr>\n",
       "</thead>\n",
       "<tbody>\n",
       "\t<tr><th scope=row>1</th><td>A부서</td><td>과학관관련</td><td>기술</td><td>기술일반</td><td>계정간거래    </td><td> 1301000</td></tr>\n",
       "\t<tr><th scope=row>2</th><td>A부서</td><td>과학관관련</td><td>기술</td><td>기술일반</td><td>과학관관련운영</td><td>25336500</td></tr>\n",
       "\t<tr><th scope=row>3</th><td>A부서</td><td>과학관관련</td><td>기술</td><td>기술일반</td><td>회계기금간거래</td><td>  486000</td></tr>\n",
       "\t<tr><th scope=row>4</th><td>A부서</td><td>과학관    </td><td>기술</td><td>기술일반</td><td>계정간거래    </td><td> 1501000</td></tr>\n",
       "\t<tr><th scope=row>5</th><td>A부서</td><td>과학관    </td><td>기술</td><td>기술일반</td><td>과학관운영    </td><td>31113145</td></tr>\n",
       "\t<tr><th scope=row>6</th><td>A부서</td><td>과학관    </td><td>기술</td><td>기술일반</td><td>회계기금간거래</td><td>  419000</td></tr>\n",
       "</tbody>\n",
       "</table>\n"
      ],
      "text/latex": [
       "A data.frame: 6 × 6\n",
       "\\begin{tabular}{r|llllll}\n",
       "  & 소관명 & 회계명 & 분야명 & 부문명 & 프로그램명 & sum.확정안.\\\\\n",
       "  & <chr> & <chr> & <chr> & <chr> & <chr> & <dbl>\\\\\n",
       "\\hline\n",
       "\t1 & A부서 & 과학관관련 & 기술 & 기술일반 & 계정간거래     &  1301000\\\\\n",
       "\t2 & A부서 & 과학관관련 & 기술 & 기술일반 & 과학관관련운영 & 25336500\\\\\n",
       "\t3 & A부서 & 과학관관련 & 기술 & 기술일반 & 회계기금간거래 &   486000\\\\\n",
       "\t4 & A부서 & 과학관     & 기술 & 기술일반 & 계정간거래     &  1501000\\\\\n",
       "\t5 & A부서 & 과학관     & 기술 & 기술일반 & 과학관운영     & 31113145\\\\\n",
       "\t6 & A부서 & 과학관     & 기술 & 기술일반 & 회계기금간거래 &   419000\\\\\n",
       "\\end{tabular}\n"
      ],
      "text/markdown": [
       "\n",
       "A data.frame: 6 × 6\n",
       "\n",
       "| <!--/--> | 소관명 &lt;chr&gt; | 회계명 &lt;chr&gt; | 분야명 &lt;chr&gt; | 부문명 &lt;chr&gt; | 프로그램명 &lt;chr&gt; | sum.확정안. &lt;dbl&gt; |\n",
       "|---|---|---|---|---|---|---|\n",
       "| 1 | A부서 | 과학관관련 | 기술 | 기술일반 | 계정간거래     |  1301000 |\n",
       "| 2 | A부서 | 과학관관련 | 기술 | 기술일반 | 과학관관련운영 | 25336500 |\n",
       "| 3 | A부서 | 과학관관련 | 기술 | 기술일반 | 회계기금간거래 |   486000 |\n",
       "| 4 | A부서 | 과학관     | 기술 | 기술일반 | 계정간거래     |  1501000 |\n",
       "| 5 | A부서 | 과학관     | 기술 | 기술일반 | 과학관운영     | 31113145 |\n",
       "| 6 | A부서 | 과학관     | 기술 | 기술일반 | 회계기금간거래 |   419000 |\n",
       "\n"
      ],
      "text/plain": [
       "  소관명 회계명     분야명 부문명   프로그램명     sum.확정안.\n",
       "1 A부서  과학관관련 기술   기술일반 계정간거래      1301000   \n",
       "2 A부서  과학관관련 기술   기술일반 과학관관련운영 25336500   \n",
       "3 A부서  과학관관련 기술   기술일반 회계기금간거래   486000   \n",
       "4 A부서  과학관     기술   기술일반 계정간거래      1501000   \n",
       "5 A부서  과학관     기술   기술일반 과학관운영     31113145   \n",
       "6 A부서  과학관     기술   기술일반 회계기금간거래   419000   "
      ]
     },
     "metadata": {},
     "output_type": "display_data"
    }
   ],
   "source": [
    "head(df2)"
   ]
  },
  {
   "cell_type": "code",
   "execution_count": 28,
   "metadata": {},
   "outputs": [
    {
     "data": {
      "text/html": [
       "<table>\n",
       "<caption>A data.frame: 6 × 6</caption>\n",
       "<thead>\n",
       "\t<tr><th></th><th scope=col>소관명</th><th scope=col>회계명</th><th scope=col>분야명</th><th scope=col>부문명</th><th scope=col>프로그램명</th><th scope=col>value</th></tr>\n",
       "\t<tr><th></th><th scope=col>&lt;chr&gt;</th><th scope=col>&lt;chr&gt;</th><th scope=col>&lt;chr&gt;</th><th scope=col>&lt;chr&gt;</th><th scope=col>&lt;chr&gt;</th><th scope=col>&lt;dbl&gt;</th></tr>\n",
       "</thead>\n",
       "<tbody>\n",
       "\t<tr><th scope=row>1</th><td>A부서</td><td>과학관관련</td><td>기술</td><td>기술일반</td><td>계정간거래    </td><td> 1301</td></tr>\n",
       "\t<tr><th scope=row>2</th><td>A부서</td><td>과학관관련</td><td>기술</td><td>기술일반</td><td>과학관관련운영</td><td>25336</td></tr>\n",
       "\t<tr><th scope=row>3</th><td>A부서</td><td>과학관관련</td><td>기술</td><td>기술일반</td><td>회계기금간거래</td><td>  486</td></tr>\n",
       "\t<tr><th scope=row>4</th><td>A부서</td><td>과학관    </td><td>기술</td><td>기술일반</td><td>계정간거래    </td><td> 1501</td></tr>\n",
       "\t<tr><th scope=row>5</th><td>A부서</td><td>과학관    </td><td>기술</td><td>기술일반</td><td>과학관운영    </td><td>31113</td></tr>\n",
       "\t<tr><th scope=row>6</th><td>A부서</td><td>과학관    </td><td>기술</td><td>기술일반</td><td>회계기금간거래</td><td>  419</td></tr>\n",
       "</tbody>\n",
       "</table>\n"
      ],
      "text/latex": [
       "A data.frame: 6 × 6\n",
       "\\begin{tabular}{r|llllll}\n",
       "  & 소관명 & 회계명 & 분야명 & 부문명 & 프로그램명 & value\\\\\n",
       "  & <chr> & <chr> & <chr> & <chr> & <chr> & <dbl>\\\\\n",
       "\\hline\n",
       "\t1 & A부서 & 과학관관련 & 기술 & 기술일반 & 계정간거래     &  1301\\\\\n",
       "\t2 & A부서 & 과학관관련 & 기술 & 기술일반 & 과학관관련운영 & 25336\\\\\n",
       "\t3 & A부서 & 과학관관련 & 기술 & 기술일반 & 회계기금간거래 &   486\\\\\n",
       "\t4 & A부서 & 과학관     & 기술 & 기술일반 & 계정간거래     &  1501\\\\\n",
       "\t5 & A부서 & 과학관     & 기술 & 기술일반 & 과학관운영     & 31113\\\\\n",
       "\t6 & A부서 & 과학관     & 기술 & 기술일반 & 회계기금간거래 &   419\\\\\n",
       "\\end{tabular}\n"
      ],
      "text/markdown": [
       "\n",
       "A data.frame: 6 × 6\n",
       "\n",
       "| <!--/--> | 소관명 &lt;chr&gt; | 회계명 &lt;chr&gt; | 분야명 &lt;chr&gt; | 부문명 &lt;chr&gt; | 프로그램명 &lt;chr&gt; | value &lt;dbl&gt; |\n",
       "|---|---|---|---|---|---|---|\n",
       "| 1 | A부서 | 과학관관련 | 기술 | 기술일반 | 계정간거래     |  1301 |\n",
       "| 2 | A부서 | 과학관관련 | 기술 | 기술일반 | 과학관관련운영 | 25336 |\n",
       "| 3 | A부서 | 과학관관련 | 기술 | 기술일반 | 회계기금간거래 |   486 |\n",
       "| 4 | A부서 | 과학관     | 기술 | 기술일반 | 계정간거래     |  1501 |\n",
       "| 5 | A부서 | 과학관     | 기술 | 기술일반 | 과학관운영     | 31113 |\n",
       "| 6 | A부서 | 과학관     | 기술 | 기술일반 | 회계기금간거래 |   419 |\n",
       "\n"
      ],
      "text/plain": [
       "  소관명 회계명     분야명 부문명   프로그램명     value\n",
       "1 A부서  과학관관련 기술   기술일반 계정간거래      1301\n",
       "2 A부서  과학관관련 기술   기술일반 과학관관련운영 25336\n",
       "3 A부서  과학관관련 기술   기술일반 회계기금간거래   486\n",
       "4 A부서  과학관     기술   기술일반 계정간거래      1501\n",
       "5 A부서  과학관     기술   기술일반 과학관운영     31113\n",
       "6 A부서  과학관     기술   기술일반 회계기금간거래   419"
      ]
     },
     "metadata": {},
     "output_type": "display_data"
    }
   ],
   "source": [
    "colnames(df2)[6] <- 'value'\n",
    "df2['value'] <- round(df2['value']/1000)\n",
    "head(df2)"
   ]
  },
  {
   "cell_type": "code",
   "execution_count": 29,
   "metadata": {},
   "outputs": [],
   "source": [
    "df3 <- df2"
   ]
  },
  {
   "cell_type": "code",
   "execution_count": 30,
   "metadata": {},
   "outputs": [
    {
     "name": "stderr",
     "output_type": "stream",
     "text": [
      "`summarise()` regrouping output by '소관명' (override with `.groups` argument)\n",
      "\n",
      "`summarise()` regrouping output by '회계명' (override with `.groups` argument)\n",
      "\n",
      "`summarise()` regrouping output by '분야명' (override with `.groups` argument)\n",
      "\n",
      "`summarise()` regrouping output by '부문명' (override with `.groups` argument)\n",
      "\n"
     ]
    }
   ],
   "source": [
    "sum1 <- df3 %>% group_by(소관명,회계명) %>% summarise(sum(value))\n",
    "sum2 <- df3 %>% group_by(회계명, 분야명) %>% summarise(sum(value))\n",
    "sum3 <- df3 %>% group_by(분야명, 부문명) %>% summarise(sum(value))\n",
    "sum4 <- df3 %>% group_by(부문명, 프로그램명) %>% summarise(sum(value))"
   ]
  },
  {
   "cell_type": "code",
   "execution_count": 31,
   "metadata": {},
   "outputs": [
    {
     "data": {
      "text/html": [
       "<table>\n",
       "<caption>A grouped_df: 8 × 3</caption>\n",
       "<thead>\n",
       "\t<tr><th scope=col>소관명</th><th scope=col>회계명</th><th scope=col>sum(value)</th></tr>\n",
       "\t<tr><th scope=col>&lt;chr&gt;</th><th scope=col>&lt;chr&gt;</th><th scope=col>&lt;dbl&gt;</th></tr>\n",
       "</thead>\n",
       "<tbody>\n",
       "\t<tr><td>A부서</td><td>과학관                  </td><td>  33033</td></tr>\n",
       "\t<tr><td>A부서</td><td>과학관관련              </td><td>  27123</td></tr>\n",
       "\t<tr><td>A부서</td><td>발전균형특별회계        </td><td>3499882</td></tr>\n",
       "\t<tr><td>A부서</td><td>보험특별회계            </td><td> 609665</td></tr>\n",
       "\t<tr><td>A부서</td><td>사업특별회계            </td><td>1110638</td></tr>\n",
       "\t<tr><td>A부서</td><td>에너지및자원사업특별회계</td><td> 579411</td></tr>\n",
       "\t<tr><td>A부서</td><td>예금특별회계            </td><td>1115288</td></tr>\n",
       "\t<tr><td>A부서</td><td>일반회계                </td><td>6763710</td></tr>\n",
       "</tbody>\n",
       "</table>\n"
      ],
      "text/latex": [
       "A grouped\\_df: 8 × 3\n",
       "\\begin{tabular}{lll}\n",
       " 소관명 & 회계명 & sum(value)\\\\\n",
       " <chr> & <chr> & <dbl>\\\\\n",
       "\\hline\n",
       "\t A부서 & 과학관                   &   33033\\\\\n",
       "\t A부서 & 과학관관련               &   27123\\\\\n",
       "\t A부서 & 발전균형특별회계         & 3499882\\\\\n",
       "\t A부서 & 보험특별회계             &  609665\\\\\n",
       "\t A부서 & 사업특별회계             & 1110638\\\\\n",
       "\t A부서 & 에너지및자원사업특별회계 &  579411\\\\\n",
       "\t A부서 & 예금특별회계             & 1115288\\\\\n",
       "\t A부서 & 일반회계                 & 6763710\\\\\n",
       "\\end{tabular}\n"
      ],
      "text/markdown": [
       "\n",
       "A grouped_df: 8 × 3\n",
       "\n",
       "| 소관명 &lt;chr&gt; | 회계명 &lt;chr&gt; | sum(value) &lt;dbl&gt; |\n",
       "|---|---|---|\n",
       "| A부서 | 과학관                   |   33033 |\n",
       "| A부서 | 과학관관련               |   27123 |\n",
       "| A부서 | 발전균형특별회계         | 3499882 |\n",
       "| A부서 | 보험특별회계             |  609665 |\n",
       "| A부서 | 사업특별회계             | 1110638 |\n",
       "| A부서 | 에너지및자원사업특별회계 |  579411 |\n",
       "| A부서 | 예금특별회계             | 1115288 |\n",
       "| A부서 | 일반회계                 | 6763710 |\n",
       "\n"
      ],
      "text/plain": [
       "  소관명 회계명                   sum(value)\n",
       "1 A부서  과학관                     33033   \n",
       "2 A부서  과학관관련                 27123   \n",
       "3 A부서  발전균형특별회계         3499882   \n",
       "4 A부서  보험특별회계              609665   \n",
       "5 A부서  사업특별회계             1110638   \n",
       "6 A부서  에너지및자원사업특별회계  579411   \n",
       "7 A부서  예금특별회계             1115288   \n",
       "8 A부서  일반회계                 6763710   "
      ]
     },
     "metadata": {},
     "output_type": "display_data"
    },
    {
     "data": {
      "text/html": [
       "<table>\n",
       "<caption>A grouped_df: 16 × 3</caption>\n",
       "<thead>\n",
       "\t<tr><th scope=col>회계명</th><th scope=col>분야명</th><th scope=col>sum(value)</th></tr>\n",
       "\t<tr><th scope=col>&lt;chr&gt;</th><th scope=col>&lt;chr&gt;</th><th scope=col>&lt;dbl&gt;</th></tr>\n",
       "</thead>\n",
       "<tbody>\n",
       "\t<tr><td>과학관                  </td><td>기술                  </td><td>  33033</td></tr>\n",
       "\t<tr><td>과학관관련              </td><td>기술                  </td><td>  27123</td></tr>\n",
       "\t<tr><td>발전균형특별회계        </td><td>교육                  </td><td> 240160</td></tr>\n",
       "\t<tr><td>발전균형특별회계        </td><td>기술                  </td><td> 238347</td></tr>\n",
       "\t<tr><td>발전균형특별회계        </td><td>산업·중소기업및에너지</td><td>3017375</td></tr>\n",
       "\t<tr><td>발전균형특별회계        </td><td>통신                  </td><td>   4000</td></tr>\n",
       "\t<tr><td>보험특별회계            </td><td>통신                  </td><td> 609665</td></tr>\n",
       "\t<tr><td>사업특별회계            </td><td>통신                  </td><td>1110638</td></tr>\n",
       "\t<tr><td>에너지및자원사업특별회계</td><td>기술                  </td><td> 579411</td></tr>\n",
       "\t<tr><td>예금특별회계            </td><td>통신                  </td><td>1115288</td></tr>\n",
       "\t<tr><td>일반회계                </td><td>교육                  </td><td> 217799</td></tr>\n",
       "\t<tr><td>일반회계                </td><td>기술                  </td><td>6063845</td></tr>\n",
       "\t<tr><td>일반회계                </td><td>문화및관광            </td><td>  73747</td></tr>\n",
       "\t<tr><td>일반회계                </td><td>산업·중소기업및에너지</td><td> 172057</td></tr>\n",
       "\t<tr><td>일반회계                </td><td>일반·지방행정        </td><td>  97114</td></tr>\n",
       "\t<tr><td>일반회계                </td><td>통신                  </td><td> 139148</td></tr>\n",
       "</tbody>\n",
       "</table>\n"
      ],
      "text/latex": [
       "A grouped\\_df: 16 × 3\n",
       "\\begin{tabular}{lll}\n",
       " 회계명 & 분야명 & sum(value)\\\\\n",
       " <chr> & <chr> & <dbl>\\\\\n",
       "\\hline\n",
       "\t 과학관                   & 기술                   &   33033\\\\\n",
       "\t 과학관관련               & 기술                   &   27123\\\\\n",
       "\t 발전균형특별회계         & 교육                   &  240160\\\\\n",
       "\t 발전균형특별회계         & 기술                   &  238347\\\\\n",
       "\t 발전균형특별회계         & 산업·중소기업및에너지 & 3017375\\\\\n",
       "\t 발전균형특별회계         & 통신                   &    4000\\\\\n",
       "\t 보험특별회계             & 통신                   &  609665\\\\\n",
       "\t 사업특별회계             & 통신                   & 1110638\\\\\n",
       "\t 에너지및자원사업특별회계 & 기술                   &  579411\\\\\n",
       "\t 예금특별회계             & 통신                   & 1115288\\\\\n",
       "\t 일반회계                 & 교육                   &  217799\\\\\n",
       "\t 일반회계                 & 기술                   & 6063845\\\\\n",
       "\t 일반회계                 & 문화및관광             &   73747\\\\\n",
       "\t 일반회계                 & 산업·중소기업및에너지 &  172057\\\\\n",
       "\t 일반회계                 & 일반·지방행정         &   97114\\\\\n",
       "\t 일반회계                 & 통신                   &  139148\\\\\n",
       "\\end{tabular}\n"
      ],
      "text/markdown": [
       "\n",
       "A grouped_df: 16 × 3\n",
       "\n",
       "| 회계명 &lt;chr&gt; | 분야명 &lt;chr&gt; | sum(value) &lt;dbl&gt; |\n",
       "|---|---|---|\n",
       "| 과학관                   | 기술                   |   33033 |\n",
       "| 과학관관련               | 기술                   |   27123 |\n",
       "| 발전균형특별회계         | 교육                   |  240160 |\n",
       "| 발전균형특별회계         | 기술                   |  238347 |\n",
       "| 발전균형특별회계         | 산업·중소기업및에너지 | 3017375 |\n",
       "| 발전균형특별회계         | 통신                   |    4000 |\n",
       "| 보험특별회계             | 통신                   |  609665 |\n",
       "| 사업특별회계             | 통신                   | 1110638 |\n",
       "| 에너지및자원사업특별회계 | 기술                   |  579411 |\n",
       "| 예금특별회계             | 통신                   | 1115288 |\n",
       "| 일반회계                 | 교육                   |  217799 |\n",
       "| 일반회계                 | 기술                   | 6063845 |\n",
       "| 일반회계                 | 문화및관광             |   73747 |\n",
       "| 일반회계                 | 산업·중소기업및에너지 |  172057 |\n",
       "| 일반회계                 | 일반·지방행정         |   97114 |\n",
       "| 일반회계                 | 통신                   |  139148 |\n",
       "\n"
      ],
      "text/plain": [
       "   회계명                   분야명                 sum(value)\n",
       "1  과학관                   기술                     33033   \n",
       "2  과학관관련               기술                     27123   \n",
       "3  발전균형특별회계         교육                    240160   \n",
       "4  발전균형특별회계         기술                    238347   \n",
       "5  발전균형특별회계         산업·중소기업및에너지 3017375   \n",
       "6  발전균형특별회계         통신                      4000   \n",
       "7  보험특별회계             통신                    609665   \n",
       "8  사업특별회계             통신                   1110638   \n",
       "9  에너지및자원사업특별회계 기술                    579411   \n",
       "10 예금특별회계             통신                   1115288   \n",
       "11 일반회계                 교육                    217799   \n",
       "12 일반회계                 기술                   6063845   \n",
       "13 일반회계                 문화및관광               73747   \n",
       "14 일반회계                 산업·중소기업및에너지  172057   \n",
       "15 일반회계                 일반·지방행정           97114   \n",
       "16 일반회계                 통신                    139148   "
      ]
     },
     "metadata": {},
     "output_type": "display_data"
    },
    {
     "data": {
      "text/html": [
       "<table>\n",
       "<caption>A grouped_df: 13 × 3</caption>\n",
       "<thead>\n",
       "\t<tr><th scope=col>분야명</th><th scope=col>부문명</th><th scope=col>sum(value)</th></tr>\n",
       "\t<tr><th scope=col>&lt;chr&gt;</th><th scope=col>&lt;chr&gt;</th><th scope=col>&lt;dbl&gt;</th></tr>\n",
       "</thead>\n",
       "<tbody>\n",
       "\t<tr><td>교육                  </td><td>고등교육        </td><td> 410585</td></tr>\n",
       "\t<tr><td>교육                  </td><td>교육일반        </td><td>   2800</td></tr>\n",
       "\t<tr><td>교육                  </td><td>평생·직업교육  </td><td>  44574</td></tr>\n",
       "\t<tr><td>기술                  </td><td>기술개발        </td><td>3211448</td></tr>\n",
       "\t<tr><td>기술                  </td><td>기술연구지원    </td><td>3534898</td></tr>\n",
       "\t<tr><td>기술                  </td><td>기술일반        </td><td> 195413</td></tr>\n",
       "\t<tr><td>문화및관광            </td><td>문화및관광일반  </td><td>  45497</td></tr>\n",
       "\t<tr><td>문화및관광            </td><td>문화예술        </td><td>  28250</td></tr>\n",
       "\t<tr><td>산업·중소기업및에너지</td><td>산업진흥·고도화</td><td>3189432</td></tr>\n",
       "\t<tr><td>일반·지방행정        </td><td>국정운영        </td><td>   2118</td></tr>\n",
       "\t<tr><td>일반·지방행정        </td><td>정부자원관리    </td><td>  94996</td></tr>\n",
       "\t<tr><td>통신                  </td><td>방송통신        </td><td> 143148</td></tr>\n",
       "\t<tr><td>통신                  </td><td>정운사업        </td><td>2835591</td></tr>\n",
       "</tbody>\n",
       "</table>\n"
      ],
      "text/latex": [
       "A grouped\\_df: 13 × 3\n",
       "\\begin{tabular}{lll}\n",
       " 분야명 & 부문명 & sum(value)\\\\\n",
       " <chr> & <chr> & <dbl>\\\\\n",
       "\\hline\n",
       "\t 교육                   & 고등교육         &  410585\\\\\n",
       "\t 교육                   & 교육일반         &    2800\\\\\n",
       "\t 교육                   & 평생·직업교육   &   44574\\\\\n",
       "\t 기술                   & 기술개발         & 3211448\\\\\n",
       "\t 기술                   & 기술연구지원     & 3534898\\\\\n",
       "\t 기술                   & 기술일반         &  195413\\\\\n",
       "\t 문화및관광             & 문화및관광일반   &   45497\\\\\n",
       "\t 문화및관광             & 문화예술         &   28250\\\\\n",
       "\t 산업·중소기업및에너지 & 산업진흥·고도화 & 3189432\\\\\n",
       "\t 일반·지방행정         & 국정운영         &    2118\\\\\n",
       "\t 일반·지방행정         & 정부자원관리     &   94996\\\\\n",
       "\t 통신                   & 방송통신         &  143148\\\\\n",
       "\t 통신                   & 정운사업         & 2835591\\\\\n",
       "\\end{tabular}\n"
      ],
      "text/markdown": [
       "\n",
       "A grouped_df: 13 × 3\n",
       "\n",
       "| 분야명 &lt;chr&gt; | 부문명 &lt;chr&gt; | sum(value) &lt;dbl&gt; |\n",
       "|---|---|---|\n",
       "| 교육                   | 고등교육         |  410585 |\n",
       "| 교육                   | 교육일반         |    2800 |\n",
       "| 교육                   | 평생·직업교육   |   44574 |\n",
       "| 기술                   | 기술개발         | 3211448 |\n",
       "| 기술                   | 기술연구지원     | 3534898 |\n",
       "| 기술                   | 기술일반         |  195413 |\n",
       "| 문화및관광             | 문화및관광일반   |   45497 |\n",
       "| 문화및관광             | 문화예술         |   28250 |\n",
       "| 산업·중소기업및에너지 | 산업진흥·고도화 | 3189432 |\n",
       "| 일반·지방행정         | 국정운영         |    2118 |\n",
       "| 일반·지방행정         | 정부자원관리     |   94996 |\n",
       "| 통신                   | 방송통신         |  143148 |\n",
       "| 통신                   | 정운사업         | 2835591 |\n",
       "\n"
      ],
      "text/plain": [
       "   분야명                 부문명           sum(value)\n",
       "1  교육                   고등교육          410585   \n",
       "2  교육                   교육일반            2800   \n",
       "3  교육                   평생·직업교육     44574   \n",
       "4  기술                   기술개발         3211448   \n",
       "5  기술                   기술연구지원     3534898   \n",
       "6  기술                   기술일반          195413   \n",
       "7  문화및관광             문화및관광일반     45497   \n",
       "8  문화및관광             문화예술           28250   \n",
       "9  산업·중소기업및에너지 산업진흥·고도화 3189432   \n",
       "10 일반·지방행정         국정운영            2118   \n",
       "11 일반·지방행정         정부자원관리       94996   \n",
       "12 통신                   방송통신          143148   \n",
       "13 통신                   정운사업         2835591   "
      ]
     },
     "metadata": {},
     "output_type": "display_data"
    },
    {
     "data": {
      "text/html": [
       "<table>\n",
       "<caption>A grouped_df: 44 × 3</caption>\n",
       "<thead>\n",
       "\t<tr><th scope=col>부문명</th><th scope=col>프로그램명</th><th scope=col>sum(value)</th></tr>\n",
       "\t<tr><th scope=col>&lt;chr&gt;</th><th scope=col>&lt;chr&gt;</th><th scope=col>&lt;dbl&gt;</th></tr>\n",
       "</thead>\n",
       "<tbody>\n",
       "\t<tr><td>고등교육        </td><td>기술인력양성          </td><td> 410585</td></tr>\n",
       "\t<tr><td>교육일반        </td><td>A부서운영지원         </td><td>   2800</td></tr>\n",
       "\t<tr><td>국정운영        </td><td>A부서운영지원         </td><td>   2118</td></tr>\n",
       "\t<tr><td>기술개발        </td><td>기초연구진흥          </td><td>2103589</td></tr>\n",
       "\t<tr><td>기술개발        </td><td>미래유망원천기술개발  </td><td> 586878</td></tr>\n",
       "\t<tr><td>기술개발        </td><td>우주개발진흥          </td><td> 371891</td></tr>\n",
       "\t<tr><td>기술개발        </td><td>원자력진흥            </td><td> 149090</td></tr>\n",
       "\t<tr><td>기술연구지원    </td><td>과학문화창달          </td><td>  64200</td></tr>\n",
       "\t<tr><td>기술연구지원    </td><td>기술국제협력          </td><td>  87980</td></tr>\n",
       "\t<tr><td>기술연구지원    </td><td>기술기반조성          </td><td> 188280</td></tr>\n",
       "\t<tr><td>기술연구지원    </td><td>기술연구지원_         </td><td>  12900</td></tr>\n",
       "\t<tr><td>기술연구지원    </td><td>기술인력양성          </td><td>   2338</td></tr>\n",
       "\t<tr><td>기술연구지원    </td><td>연구공동체활성화      </td><td>   8036</td></tr>\n",
       "\t<tr><td>기술연구지원    </td><td>출연연구기관지원      </td><td>3171164</td></tr>\n",
       "\t<tr><td>기술일반        </td><td>A부서운영지원         </td><td>  36858</td></tr>\n",
       "\t<tr><td>기술일반        </td><td>계정간거래            </td><td>   2802</td></tr>\n",
       "\t<tr><td>기술일반        </td><td>과학관관련운영        </td><td>  25336</td></tr>\n",
       "\t<tr><td>기술일반        </td><td>과학관운영            </td><td>  31113</td></tr>\n",
       "\t<tr><td>기술일반        </td><td>기술국제협력          </td><td>   1600</td></tr>\n",
       "\t<tr><td>기술일반        </td><td>기술종합조정          </td><td>  38657</td></tr>\n",
       "\t<tr><td>기술일반        </td><td>회계간거래            </td><td>  52258</td></tr>\n",
       "\t<tr><td>기술일반        </td><td>회계기금간거래        </td><td>   6789</td></tr>\n",
       "\t<tr><td>문화및관광일반  </td><td>A부서운영지원         </td><td>  45497</td></tr>\n",
       "\t<tr><td>문화예술        </td><td>콘텐츠방송산업육성    </td><td>  28250</td></tr>\n",
       "\t<tr><td>방송통신        </td><td>A부서운영지원         </td><td>  60061</td></tr>\n",
       "\t<tr><td>방송통신        </td><td>방송기반조성          </td><td>  34611</td></tr>\n",
       "\t<tr><td>방송통신        </td><td>방송산업진흥          </td><td>  16006</td></tr>\n",
       "\t<tr><td>방송통신        </td><td>정보보호강화          </td><td>  25234</td></tr>\n",
       "\t<tr><td>방송통신        </td><td>회계간거래            </td><td>   7236</td></tr>\n",
       "\t<tr><td>산업진흥·고도화</td><td>SW산업활성화          </td><td> 172057</td></tr>\n",
       "\t<tr><td>산업진흥·고도화</td><td>지역경제활성화        </td><td>3017375</td></tr>\n",
       "\t<tr><td>정부자원관리    </td><td>국가사회정보화        </td><td>  94996</td></tr>\n",
       "\t<tr><td>정운사업        </td><td>계정간거래            </td><td> 127684</td></tr>\n",
       "\t<tr><td>정운사업        </td><td>보험내실화            </td><td> 199220</td></tr>\n",
       "\t<tr><td>정운사업        </td><td>정운사업경영지원      </td><td>  76922</td></tr>\n",
       "\t<tr><td>정운사업        </td><td>정운사업행정지원      </td><td> 384617</td></tr>\n",
       "\t<tr><td>정운사업        </td><td>지속가능경영          </td><td> 314414</td></tr>\n",
       "\t<tr><td>정운사업        </td><td>함께하는서비스        </td><td> 385279</td></tr>\n",
       "\t<tr><td>정운사업        </td><td>회계간거래            </td><td> 108173</td></tr>\n",
       "\t<tr><td>정운사업        </td><td>회계간거래(전출금)    </td><td> 978939</td></tr>\n",
       "\t<tr><td>정운사업        </td><td>회계기금간거래        </td><td> 234343</td></tr>\n",
       "\t<tr><td>정운사업        </td><td>회계기금간거래(전출금)</td><td>  26000</td></tr>\n",
       "\t<tr><td>평생·직업교육  </td><td>연구공동체활성화      </td><td>  26600</td></tr>\n",
       "\t<tr><td>평생·직업교육  </td><td>평생직업교육체제구축  </td><td>  17974</td></tr>\n",
       "</tbody>\n",
       "</table>\n"
      ],
      "text/latex": [
       "A grouped\\_df: 44 × 3\n",
       "\\begin{tabular}{lll}\n",
       " 부문명 & 프로그램명 & sum(value)\\\\\n",
       " <chr> & <chr> & <dbl>\\\\\n",
       "\\hline\n",
       "\t 고등교육         & 기술인력양성           &  410585\\\\\n",
       "\t 교육일반         & A부서운영지원          &    2800\\\\\n",
       "\t 국정운영         & A부서운영지원          &    2118\\\\\n",
       "\t 기술개발         & 기초연구진흥           & 2103589\\\\\n",
       "\t 기술개발         & 미래유망원천기술개발   &  586878\\\\\n",
       "\t 기술개발         & 우주개발진흥           &  371891\\\\\n",
       "\t 기술개발         & 원자력진흥             &  149090\\\\\n",
       "\t 기술연구지원     & 과학문화창달           &   64200\\\\\n",
       "\t 기술연구지원     & 기술국제협력           &   87980\\\\\n",
       "\t 기술연구지원     & 기술기반조성           &  188280\\\\\n",
       "\t 기술연구지원     & 기술연구지원\\_          &   12900\\\\\n",
       "\t 기술연구지원     & 기술인력양성           &    2338\\\\\n",
       "\t 기술연구지원     & 연구공동체활성화       &    8036\\\\\n",
       "\t 기술연구지원     & 출연연구기관지원       & 3171164\\\\\n",
       "\t 기술일반         & A부서운영지원          &   36858\\\\\n",
       "\t 기술일반         & 계정간거래             &    2802\\\\\n",
       "\t 기술일반         & 과학관관련운영         &   25336\\\\\n",
       "\t 기술일반         & 과학관운영             &   31113\\\\\n",
       "\t 기술일반         & 기술국제협력           &    1600\\\\\n",
       "\t 기술일반         & 기술종합조정           &   38657\\\\\n",
       "\t 기술일반         & 회계간거래             &   52258\\\\\n",
       "\t 기술일반         & 회계기금간거래         &    6789\\\\\n",
       "\t 문화및관광일반   & A부서운영지원          &   45497\\\\\n",
       "\t 문화예술         & 콘텐츠방송산업육성     &   28250\\\\\n",
       "\t 방송통신         & A부서운영지원          &   60061\\\\\n",
       "\t 방송통신         & 방송기반조성           &   34611\\\\\n",
       "\t 방송통신         & 방송산업진흥           &   16006\\\\\n",
       "\t 방송통신         & 정보보호강화           &   25234\\\\\n",
       "\t 방송통신         & 회계간거래             &    7236\\\\\n",
       "\t 산업진흥·고도화 & SW산업활성화           &  172057\\\\\n",
       "\t 산업진흥·고도화 & 지역경제활성화         & 3017375\\\\\n",
       "\t 정부자원관리     & 국가사회정보화         &   94996\\\\\n",
       "\t 정운사업         & 계정간거래             &  127684\\\\\n",
       "\t 정운사업         & 보험내실화             &  199220\\\\\n",
       "\t 정운사업         & 정운사업경영지원       &   76922\\\\\n",
       "\t 정운사업         & 정운사업행정지원       &  384617\\\\\n",
       "\t 정운사업         & 지속가능경영           &  314414\\\\\n",
       "\t 정운사업         & 함께하는서비스         &  385279\\\\\n",
       "\t 정운사업         & 회계간거래             &  108173\\\\\n",
       "\t 정운사업         & 회계간거래(전출금)     &  978939\\\\\n",
       "\t 정운사업         & 회계기금간거래         &  234343\\\\\n",
       "\t 정운사업         & 회계기금간거래(전출금) &   26000\\\\\n",
       "\t 평생·직업교육   & 연구공동체활성화       &   26600\\\\\n",
       "\t 평생·직업교육   & 평생직업교육체제구축   &   17974\\\\\n",
       "\\end{tabular}\n"
      ],
      "text/markdown": [
       "\n",
       "A grouped_df: 44 × 3\n",
       "\n",
       "| 부문명 &lt;chr&gt; | 프로그램명 &lt;chr&gt; | sum(value) &lt;dbl&gt; |\n",
       "|---|---|---|\n",
       "| 고등교육         | 기술인력양성           |  410585 |\n",
       "| 교육일반         | A부서운영지원          |    2800 |\n",
       "| 국정운영         | A부서운영지원          |    2118 |\n",
       "| 기술개발         | 기초연구진흥           | 2103589 |\n",
       "| 기술개발         | 미래유망원천기술개발   |  586878 |\n",
       "| 기술개발         | 우주개발진흥           |  371891 |\n",
       "| 기술개발         | 원자력진흥             |  149090 |\n",
       "| 기술연구지원     | 과학문화창달           |   64200 |\n",
       "| 기술연구지원     | 기술국제협력           |   87980 |\n",
       "| 기술연구지원     | 기술기반조성           |  188280 |\n",
       "| 기술연구지원     | 기술연구지원_          |   12900 |\n",
       "| 기술연구지원     | 기술인력양성           |    2338 |\n",
       "| 기술연구지원     | 연구공동체활성화       |    8036 |\n",
       "| 기술연구지원     | 출연연구기관지원       | 3171164 |\n",
       "| 기술일반         | A부서운영지원          |   36858 |\n",
       "| 기술일반         | 계정간거래             |    2802 |\n",
       "| 기술일반         | 과학관관련운영         |   25336 |\n",
       "| 기술일반         | 과학관운영             |   31113 |\n",
       "| 기술일반         | 기술국제협력           |    1600 |\n",
       "| 기술일반         | 기술종합조정           |   38657 |\n",
       "| 기술일반         | 회계간거래             |   52258 |\n",
       "| 기술일반         | 회계기금간거래         |    6789 |\n",
       "| 문화및관광일반   | A부서운영지원          |   45497 |\n",
       "| 문화예술         | 콘텐츠방송산업육성     |   28250 |\n",
       "| 방송통신         | A부서운영지원          |   60061 |\n",
       "| 방송통신         | 방송기반조성           |   34611 |\n",
       "| 방송통신         | 방송산업진흥           |   16006 |\n",
       "| 방송통신         | 정보보호강화           |   25234 |\n",
       "| 방송통신         | 회계간거래             |    7236 |\n",
       "| 산업진흥·고도화 | SW산업활성화           |  172057 |\n",
       "| 산업진흥·고도화 | 지역경제활성화         | 3017375 |\n",
       "| 정부자원관리     | 국가사회정보화         |   94996 |\n",
       "| 정운사업         | 계정간거래             |  127684 |\n",
       "| 정운사업         | 보험내실화             |  199220 |\n",
       "| 정운사업         | 정운사업경영지원       |   76922 |\n",
       "| 정운사업         | 정운사업행정지원       |  384617 |\n",
       "| 정운사업         | 지속가능경영           |  314414 |\n",
       "| 정운사업         | 함께하는서비스         |  385279 |\n",
       "| 정운사업         | 회계간거래             |  108173 |\n",
       "| 정운사업         | 회계간거래(전출금)     |  978939 |\n",
       "| 정운사업         | 회계기금간거래         |  234343 |\n",
       "| 정운사업         | 회계기금간거래(전출금) |   26000 |\n",
       "| 평생·직업교육   | 연구공동체활성화       |   26600 |\n",
       "| 평생·직업교육   | 평생직업교육체제구축   |   17974 |\n",
       "\n"
      ],
      "text/plain": [
       "   부문명           프로그램명             sum(value)\n",
       "1  고등교육         기술인력양성            410585   \n",
       "2  교육일반         A부서운영지원             2800   \n",
       "3  국정운영         A부서운영지원             2118   \n",
       "4  기술개발         기초연구진흥           2103589   \n",
       "5  기술개발         미래유망원천기술개발    586878   \n",
       "6  기술개발         우주개발진흥            371891   \n",
       "7  기술개발         원자력진흥              149090   \n",
       "8  기술연구지원     과학문화창달             64200   \n",
       "9  기술연구지원     기술국제협력             87980   \n",
       "10 기술연구지원     기술기반조성            188280   \n",
       "11 기술연구지원     기술연구지원_            12900   \n",
       "12 기술연구지원     기술인력양성              2338   \n",
       "13 기술연구지원     연구공동체활성화          8036   \n",
       "14 기술연구지원     출연연구기관지원       3171164   \n",
       "15 기술일반         A부서운영지원            36858   \n",
       "16 기술일반         계정간거래                2802   \n",
       "17 기술일반         과학관관련운영           25336   \n",
       "18 기술일반         과학관운영               31113   \n",
       "19 기술일반         기술국제협력              1600   \n",
       "20 기술일반         기술종합조정             38657   \n",
       "21 기술일반         회계간거래               52258   \n",
       "22 기술일반         회계기금간거래            6789   \n",
       "23 문화및관광일반   A부서운영지원            45497   \n",
       "24 문화예술         콘텐츠방송산업육성       28250   \n",
       "25 방송통신         A부서운영지원            60061   \n",
       "26 방송통신         방송기반조성             34611   \n",
       "27 방송통신         방송산업진흥             16006   \n",
       "28 방송통신         정보보호강화             25234   \n",
       "29 방송통신         회계간거래                7236   \n",
       "30 산업진흥·고도화 SW산업활성화            172057   \n",
       "31 산업진흥·고도화 지역경제활성화         3017375   \n",
       "32 정부자원관리     국가사회정보화           94996   \n",
       "33 정운사업         계정간거래              127684   \n",
       "34 정운사업         보험내실화              199220   \n",
       "35 정운사업         정운사업경영지원         76922   \n",
       "36 정운사업         정운사업행정지원        384617   \n",
       "37 정운사업         지속가능경영            314414   \n",
       "38 정운사업         함께하는서비스          385279   \n",
       "39 정운사업         회계간거래              108173   \n",
       "40 정운사업         회계간거래(전출금)      978939   \n",
       "41 정운사업         회계기금간거래          234343   \n",
       "42 정운사업         회계기금간거래(전출금)   26000   \n",
       "43 평생·직업교육   연구공동체활성화         26600   \n",
       "44 평생·직업교육   평생직업교육체제구축     17974   "
      ]
     },
     "metadata": {},
     "output_type": "display_data"
    }
   ],
   "source": [
    "sum1\n",
    "sum2\n",
    "sum3\n",
    "sum4"
   ]
  },
  {
   "cell_type": "code",
   "execution_count": 32,
   "metadata": {},
   "outputs": [],
   "source": [
    "colnames(sum1) <- c('source', 'target','value')\n",
    "colnames(sum2) <- c('source', 'target', 'value')\n",
    "colnames(sum3) <- c('source', 'target', 'value')\n",
    "colnames(sum4) <- c('source', 'target', 'value')"
   ]
  },
  {
   "cell_type": "code",
   "execution_count": 33,
   "metadata": {},
   "outputs": [
    {
     "data": {
      "text/html": [
       "<table>\n",
       "<caption>A data.frame: 81 × 3</caption>\n",
       "<thead>\n",
       "\t<tr><th scope=col>source</th><th scope=col>target</th><th scope=col>value</th></tr>\n",
       "\t<tr><th scope=col>&lt;chr&gt;</th><th scope=col>&lt;chr&gt;</th><th scope=col>&lt;dbl&gt;</th></tr>\n",
       "</thead>\n",
       "<tbody>\n",
       "\t<tr><td>A부서                   </td><td>과학관                  </td><td>  33033</td></tr>\n",
       "\t<tr><td>A부서                   </td><td>과학관관련              </td><td>  27123</td></tr>\n",
       "\t<tr><td>A부서                   </td><td>발전균형특별회계        </td><td>3499882</td></tr>\n",
       "\t<tr><td>A부서                   </td><td>보험특별회계            </td><td> 609665</td></tr>\n",
       "\t<tr><td>A부서                   </td><td>사업특별회계            </td><td>1110638</td></tr>\n",
       "\t<tr><td>A부서                   </td><td>에너지및자원사업특별회계</td><td> 579411</td></tr>\n",
       "\t<tr><td>A부서                   </td><td>예금특별회계            </td><td>1115288</td></tr>\n",
       "\t<tr><td>A부서                   </td><td>일반회계                </td><td>6763710</td></tr>\n",
       "\t<tr><td>과학관                  </td><td>기술                    </td><td>  33033</td></tr>\n",
       "\t<tr><td>과학관관련              </td><td>기술                    </td><td>  27123</td></tr>\n",
       "\t<tr><td>발전균형특별회계        </td><td>교육                    </td><td> 240160</td></tr>\n",
       "\t<tr><td>발전균형특별회계        </td><td>기술                    </td><td> 238347</td></tr>\n",
       "\t<tr><td>발전균형특별회계        </td><td>산업·중소기업및에너지  </td><td>3017375</td></tr>\n",
       "\t<tr><td>발전균형특별회계        </td><td>통신                    </td><td>   4000</td></tr>\n",
       "\t<tr><td>보험특별회계            </td><td>통신                    </td><td> 609665</td></tr>\n",
       "\t<tr><td>사업특별회계            </td><td>통신                    </td><td>1110638</td></tr>\n",
       "\t<tr><td>에너지및자원사업특별회계</td><td>기술                    </td><td> 579411</td></tr>\n",
       "\t<tr><td>예금특별회계            </td><td>통신                    </td><td>1115288</td></tr>\n",
       "\t<tr><td>일반회계                </td><td>교육                    </td><td> 217799</td></tr>\n",
       "\t<tr><td>일반회계                </td><td>기술                    </td><td>6063845</td></tr>\n",
       "\t<tr><td>일반회계                </td><td>문화및관광              </td><td>  73747</td></tr>\n",
       "\t<tr><td>일반회계                </td><td>산업·중소기업및에너지  </td><td> 172057</td></tr>\n",
       "\t<tr><td>일반회계                </td><td>일반·지방행정          </td><td>  97114</td></tr>\n",
       "\t<tr><td>일반회계                </td><td>통신                    </td><td> 139148</td></tr>\n",
       "\t<tr><td>교육                    </td><td>고등교육                </td><td> 410585</td></tr>\n",
       "\t<tr><td>교육                    </td><td>교육일반                </td><td>   2800</td></tr>\n",
       "\t<tr><td>교육                    </td><td>평생·직업교육          </td><td>  44574</td></tr>\n",
       "\t<tr><td>기술                    </td><td>기술개발                </td><td>3211448</td></tr>\n",
       "\t<tr><td>기술                    </td><td>기술연구지원            </td><td>3534898</td></tr>\n",
       "\t<tr><td>기술                    </td><td>기술일반                </td><td> 195413</td></tr>\n",
       "\t<tr><td>⋮</td><td>⋮</td><td>⋮</td></tr>\n",
       "\t<tr><td>기술일반        </td><td>A부서운영지원         </td><td>  36858</td></tr>\n",
       "\t<tr><td>기술일반        </td><td>계정간거래            </td><td>   2802</td></tr>\n",
       "\t<tr><td>기술일반        </td><td>과학관관련운영        </td><td>  25336</td></tr>\n",
       "\t<tr><td>기술일반        </td><td>과학관운영            </td><td>  31113</td></tr>\n",
       "\t<tr><td>기술일반        </td><td>기술국제협력          </td><td>   1600</td></tr>\n",
       "\t<tr><td>기술일반        </td><td>기술종합조정          </td><td>  38657</td></tr>\n",
       "\t<tr><td>기술일반        </td><td>회계간거래            </td><td>  52258</td></tr>\n",
       "\t<tr><td>기술일반        </td><td>회계기금간거래        </td><td>   6789</td></tr>\n",
       "\t<tr><td>문화및관광일반  </td><td>A부서운영지원         </td><td>  45497</td></tr>\n",
       "\t<tr><td>문화예술        </td><td>콘텐츠방송산업육성    </td><td>  28250</td></tr>\n",
       "\t<tr><td>방송통신        </td><td>A부서운영지원         </td><td>  60061</td></tr>\n",
       "\t<tr><td>방송통신        </td><td>방송기반조성          </td><td>  34611</td></tr>\n",
       "\t<tr><td>방송통신        </td><td>방송산업진흥          </td><td>  16006</td></tr>\n",
       "\t<tr><td>방송통신        </td><td>정보보호강화          </td><td>  25234</td></tr>\n",
       "\t<tr><td>방송통신        </td><td>회계간거래            </td><td>   7236</td></tr>\n",
       "\t<tr><td>산업진흥·고도화</td><td>SW산업활성화          </td><td> 172057</td></tr>\n",
       "\t<tr><td>산업진흥·고도화</td><td>지역경제활성화        </td><td>3017375</td></tr>\n",
       "\t<tr><td>정부자원관리    </td><td>국가사회정보화        </td><td>  94996</td></tr>\n",
       "\t<tr><td>정운사업        </td><td>계정간거래            </td><td> 127684</td></tr>\n",
       "\t<tr><td>정운사업        </td><td>보험내실화            </td><td> 199220</td></tr>\n",
       "\t<tr><td>정운사업        </td><td>정운사업경영지원      </td><td>  76922</td></tr>\n",
       "\t<tr><td>정운사업        </td><td>정운사업행정지원      </td><td> 384617</td></tr>\n",
       "\t<tr><td>정운사업        </td><td>지속가능경영          </td><td> 314414</td></tr>\n",
       "\t<tr><td>정운사업        </td><td>함께하는서비스        </td><td> 385279</td></tr>\n",
       "\t<tr><td>정운사업        </td><td>회계간거래            </td><td> 108173</td></tr>\n",
       "\t<tr><td>정운사업        </td><td>회계간거래(전출금)    </td><td> 978939</td></tr>\n",
       "\t<tr><td>정운사업        </td><td>회계기금간거래        </td><td> 234343</td></tr>\n",
       "\t<tr><td>정운사업        </td><td>회계기금간거래(전출금)</td><td>  26000</td></tr>\n",
       "\t<tr><td>평생·직업교육  </td><td>연구공동체활성화      </td><td>  26600</td></tr>\n",
       "\t<tr><td>평생·직업교육  </td><td>평생직업교육체제구축  </td><td>  17974</td></tr>\n",
       "</tbody>\n",
       "</table>\n"
      ],
      "text/latex": [
       "A data.frame: 81 × 3\n",
       "\\begin{tabular}{lll}\n",
       " source & target & value\\\\\n",
       " <chr> & <chr> & <dbl>\\\\\n",
       "\\hline\n",
       "\t A부서                    & 과학관                   &   33033\\\\\n",
       "\t A부서                    & 과학관관련               &   27123\\\\\n",
       "\t A부서                    & 발전균형특별회계         & 3499882\\\\\n",
       "\t A부서                    & 보험특별회계             &  609665\\\\\n",
       "\t A부서                    & 사업특별회계             & 1110638\\\\\n",
       "\t A부서                    & 에너지및자원사업특별회계 &  579411\\\\\n",
       "\t A부서                    & 예금특별회계             & 1115288\\\\\n",
       "\t A부서                    & 일반회계                 & 6763710\\\\\n",
       "\t 과학관                   & 기술                     &   33033\\\\\n",
       "\t 과학관관련               & 기술                     &   27123\\\\\n",
       "\t 발전균형특별회계         & 교육                     &  240160\\\\\n",
       "\t 발전균형특별회계         & 기술                     &  238347\\\\\n",
       "\t 발전균형특별회계         & 산업·중소기업및에너지   & 3017375\\\\\n",
       "\t 발전균형특별회계         & 통신                     &    4000\\\\\n",
       "\t 보험특별회계             & 통신                     &  609665\\\\\n",
       "\t 사업특별회계             & 통신                     & 1110638\\\\\n",
       "\t 에너지및자원사업특별회계 & 기술                     &  579411\\\\\n",
       "\t 예금특별회계             & 통신                     & 1115288\\\\\n",
       "\t 일반회계                 & 교육                     &  217799\\\\\n",
       "\t 일반회계                 & 기술                     & 6063845\\\\\n",
       "\t 일반회계                 & 문화및관광               &   73747\\\\\n",
       "\t 일반회계                 & 산업·중소기업및에너지   &  172057\\\\\n",
       "\t 일반회계                 & 일반·지방행정           &   97114\\\\\n",
       "\t 일반회계                 & 통신                     &  139148\\\\\n",
       "\t 교육                     & 고등교육                 &  410585\\\\\n",
       "\t 교육                     & 교육일반                 &    2800\\\\\n",
       "\t 교육                     & 평생·직업교육           &   44574\\\\\n",
       "\t 기술                     & 기술개발                 & 3211448\\\\\n",
       "\t 기술                     & 기술연구지원             & 3534898\\\\\n",
       "\t 기술                     & 기술일반                 &  195413\\\\\n",
       "\t ⋮ & ⋮ & ⋮\\\\\n",
       "\t 기술일반         & A부서운영지원          &   36858\\\\\n",
       "\t 기술일반         & 계정간거래             &    2802\\\\\n",
       "\t 기술일반         & 과학관관련운영         &   25336\\\\\n",
       "\t 기술일반         & 과학관운영             &   31113\\\\\n",
       "\t 기술일반         & 기술국제협력           &    1600\\\\\n",
       "\t 기술일반         & 기술종합조정           &   38657\\\\\n",
       "\t 기술일반         & 회계간거래             &   52258\\\\\n",
       "\t 기술일반         & 회계기금간거래         &    6789\\\\\n",
       "\t 문화및관광일반   & A부서운영지원          &   45497\\\\\n",
       "\t 문화예술         & 콘텐츠방송산업육성     &   28250\\\\\n",
       "\t 방송통신         & A부서운영지원          &   60061\\\\\n",
       "\t 방송통신         & 방송기반조성           &   34611\\\\\n",
       "\t 방송통신         & 방송산업진흥           &   16006\\\\\n",
       "\t 방송통신         & 정보보호강화           &   25234\\\\\n",
       "\t 방송통신         & 회계간거래             &    7236\\\\\n",
       "\t 산업진흥·고도화 & SW산업활성화           &  172057\\\\\n",
       "\t 산업진흥·고도화 & 지역경제활성화         & 3017375\\\\\n",
       "\t 정부자원관리     & 국가사회정보화         &   94996\\\\\n",
       "\t 정운사업         & 계정간거래             &  127684\\\\\n",
       "\t 정운사업         & 보험내실화             &  199220\\\\\n",
       "\t 정운사업         & 정운사업경영지원       &   76922\\\\\n",
       "\t 정운사업         & 정운사업행정지원       &  384617\\\\\n",
       "\t 정운사업         & 지속가능경영           &  314414\\\\\n",
       "\t 정운사업         & 함께하는서비스         &  385279\\\\\n",
       "\t 정운사업         & 회계간거래             &  108173\\\\\n",
       "\t 정운사업         & 회계간거래(전출금)     &  978939\\\\\n",
       "\t 정운사업         & 회계기금간거래         &  234343\\\\\n",
       "\t 정운사업         & 회계기금간거래(전출금) &   26000\\\\\n",
       "\t 평생·직업교육   & 연구공동체활성화       &   26600\\\\\n",
       "\t 평생·직업교육   & 평생직업교육체제구축   &   17974\\\\\n",
       "\\end{tabular}\n"
      ],
      "text/markdown": [
       "\n",
       "A data.frame: 81 × 3\n",
       "\n",
       "| source &lt;chr&gt; | target &lt;chr&gt; | value &lt;dbl&gt; |\n",
       "|---|---|---|\n",
       "| A부서                    | 과학관                   |   33033 |\n",
       "| A부서                    | 과학관관련               |   27123 |\n",
       "| A부서                    | 발전균형특별회계         | 3499882 |\n",
       "| A부서                    | 보험특별회계             |  609665 |\n",
       "| A부서                    | 사업특별회계             | 1110638 |\n",
       "| A부서                    | 에너지및자원사업특별회계 |  579411 |\n",
       "| A부서                    | 예금특별회계             | 1115288 |\n",
       "| A부서                    | 일반회계                 | 6763710 |\n",
       "| 과학관                   | 기술                     |   33033 |\n",
       "| 과학관관련               | 기술                     |   27123 |\n",
       "| 발전균형특별회계         | 교육                     |  240160 |\n",
       "| 발전균형특별회계         | 기술                     |  238347 |\n",
       "| 발전균형특별회계         | 산업·중소기업및에너지   | 3017375 |\n",
       "| 발전균형특별회계         | 통신                     |    4000 |\n",
       "| 보험특별회계             | 통신                     |  609665 |\n",
       "| 사업특별회계             | 통신                     | 1110638 |\n",
       "| 에너지및자원사업특별회계 | 기술                     |  579411 |\n",
       "| 예금특별회계             | 통신                     | 1115288 |\n",
       "| 일반회계                 | 교육                     |  217799 |\n",
       "| 일반회계                 | 기술                     | 6063845 |\n",
       "| 일반회계                 | 문화및관광               |   73747 |\n",
       "| 일반회계                 | 산업·중소기업및에너지   |  172057 |\n",
       "| 일반회계                 | 일반·지방행정           |   97114 |\n",
       "| 일반회계                 | 통신                     |  139148 |\n",
       "| 교육                     | 고등교육                 |  410585 |\n",
       "| 교육                     | 교육일반                 |    2800 |\n",
       "| 교육                     | 평생·직업교육           |   44574 |\n",
       "| 기술                     | 기술개발                 | 3211448 |\n",
       "| 기술                     | 기술연구지원             | 3534898 |\n",
       "| 기술                     | 기술일반                 |  195413 |\n",
       "| ⋮ | ⋮ | ⋮ |\n",
       "| 기술일반         | A부서운영지원          |   36858 |\n",
       "| 기술일반         | 계정간거래             |    2802 |\n",
       "| 기술일반         | 과학관관련운영         |   25336 |\n",
       "| 기술일반         | 과학관운영             |   31113 |\n",
       "| 기술일반         | 기술국제협력           |    1600 |\n",
       "| 기술일반         | 기술종합조정           |   38657 |\n",
       "| 기술일반         | 회계간거래             |   52258 |\n",
       "| 기술일반         | 회계기금간거래         |    6789 |\n",
       "| 문화및관광일반   | A부서운영지원          |   45497 |\n",
       "| 문화예술         | 콘텐츠방송산업육성     |   28250 |\n",
       "| 방송통신         | A부서운영지원          |   60061 |\n",
       "| 방송통신         | 방송기반조성           |   34611 |\n",
       "| 방송통신         | 방송산업진흥           |   16006 |\n",
       "| 방송통신         | 정보보호강화           |   25234 |\n",
       "| 방송통신         | 회계간거래             |    7236 |\n",
       "| 산업진흥·고도화 | SW산업활성화           |  172057 |\n",
       "| 산업진흥·고도화 | 지역경제활성화         | 3017375 |\n",
       "| 정부자원관리     | 국가사회정보화         |   94996 |\n",
       "| 정운사업         | 계정간거래             |  127684 |\n",
       "| 정운사업         | 보험내실화             |  199220 |\n",
       "| 정운사업         | 정운사업경영지원       |   76922 |\n",
       "| 정운사업         | 정운사업행정지원       |  384617 |\n",
       "| 정운사업         | 지속가능경영           |  314414 |\n",
       "| 정운사업         | 함께하는서비스         |  385279 |\n",
       "| 정운사업         | 회계간거래             |  108173 |\n",
       "| 정운사업         | 회계간거래(전출금)     |  978939 |\n",
       "| 정운사업         | 회계기금간거래         |  234343 |\n",
       "| 정운사업         | 회계기금간거래(전출금) |   26000 |\n",
       "| 평생·직업교육   | 연구공동체활성화       |   26600 |\n",
       "| 평생·직업교육   | 평생직업교육체제구축   |   17974 |\n",
       "\n"
      ],
      "text/plain": [
       "   source                   target                   value  \n",
       "1  A부서                    과학관                     33033\n",
       "2  A부서                    과학관관련                 27123\n",
       "3  A부서                    발전균형특별회계         3499882\n",
       "4  A부서                    보험특별회계              609665\n",
       "5  A부서                    사업특별회계             1110638\n",
       "6  A부서                    에너지및자원사업특별회계  579411\n",
       "7  A부서                    예금특별회계             1115288\n",
       "8  A부서                    일반회계                 6763710\n",
       "9  과학관                   기술                       33033\n",
       "10 과학관관련               기술                       27123\n",
       "11 발전균형특별회계         교육                      240160\n",
       "12 발전균형특별회계         기술                      238347\n",
       "13 발전균형특별회계         산업·중소기업및에너지   3017375\n",
       "14 발전균형특별회계         통신                        4000\n",
       "15 보험특별회계             통신                      609665\n",
       "16 사업특별회계             통신                     1110638\n",
       "17 에너지및자원사업특별회계 기술                      579411\n",
       "18 예금특별회계             통신                     1115288\n",
       "19 일반회계                 교육                      217799\n",
       "20 일반회계                 기술                     6063845\n",
       "21 일반회계                 문화및관광                 73747\n",
       "22 일반회계                 산업·중소기업및에너지    172057\n",
       "23 일반회계                 일반·지방행정             97114\n",
       "24 일반회계                 통신                      139148\n",
       "25 교육                     고등교육                  410585\n",
       "26 교육                     교육일반                    2800\n",
       "27 교육                     평생·직업교육             44574\n",
       "28 기술                     기술개발                 3211448\n",
       "29 기술                     기술연구지원             3534898\n",
       "30 기술                     기술일반                  195413\n",
       "<U+22EE>  <U+22EE>                 <U+22EE>                 <U+22EE>\n",
       "52 기술일반                 A부서운영지원              36858\n",
       "53 기술일반                 계정간거래                  2802\n",
       "54 기술일반                 과학관관련운영             25336\n",
       "55 기술일반                 과학관운영                 31113\n",
       "56 기술일반                 기술국제협력                1600\n",
       "57 기술일반                 기술종합조정               38657\n",
       "58 기술일반                 회계간거래                 52258\n",
       "59 기술일반                 회계기금간거래              6789\n",
       "60 문화및관광일반           A부서운영지원              45497\n",
       "61 문화예술                 콘텐츠방송산업육성         28250\n",
       "62 방송통신                 A부서운영지원              60061\n",
       "63 방송통신                 방송기반조성               34611\n",
       "64 방송통신                 방송산업진흥               16006\n",
       "65 방송통신                 정보보호강화               25234\n",
       "66 방송통신                 회계간거래                  7236\n",
       "67 산업진흥·고도화         SW산업활성화              172057\n",
       "68 산업진흥·고도화         지역경제활성화           3017375\n",
       "69 정부자원관리             국가사회정보화             94996\n",
       "70 정운사업                 계정간거래                127684\n",
       "71 정운사업                 보험내실화                199220\n",
       "72 정운사업                 정운사업경영지원           76922\n",
       "73 정운사업                 정운사업행정지원          384617\n",
       "74 정운사업                 지속가능경영              314414\n",
       "75 정운사업                 함께하는서비스            385279\n",
       "76 정운사업                 회계간거래                108173\n",
       "77 정운사업                 회계간거래(전출금)        978939\n",
       "78 정운사업                 회계기금간거래            234343\n",
       "79 정운사업                 회계기금간거래(전출금)     26000\n",
       "80 평생·직업교육           연구공동체활성화           26600\n",
       "81 평생·직업교육           평생직업교육체제구축       17974"
      ]
     },
     "metadata": {},
     "output_type": "display_data"
    }
   ],
   "source": [
    "sum1 <- as.data.frame(sum1)\n",
    "sum2 <- as.data.frame(sum2)b\n",
    "sum3 <- as.data.frame(sum3)\n",
    "sum4 <- as.data.frame(sum4)\n",
    "df4 <- rbind(sum1, sum2, sum3, sum4)   ## rbind : 변수명 같아야함. / cbind\n",
    "df4"
   ]
  },
  {
   "cell_type": "code",
   "execution_count": 34,
   "metadata": {},
   "outputs": [
    {
     "data": {
      "text/html": [
       "<table>\n",
       "<caption>A data.frame: 6 × 3</caption>\n",
       "<thead>\n",
       "\t<tr><th></th><th scope=col>source</th><th scope=col>target</th><th scope=col>value</th></tr>\n",
       "\t<tr><th></th><th scope=col>&lt;chr&gt;</th><th scope=col>&lt;chr&gt;</th><th scope=col>&lt;dbl&gt;</th></tr>\n",
       "</thead>\n",
       "<tbody>\n",
       "\t<tr><th scope=row>1</th><td>A부서</td><td>과학관                  </td><td>  33033</td></tr>\n",
       "\t<tr><th scope=row>2</th><td>A부서</td><td>과학관관련              </td><td>  27123</td></tr>\n",
       "\t<tr><th scope=row>3</th><td>A부서</td><td>발전균형특별회계        </td><td>3499882</td></tr>\n",
       "\t<tr><th scope=row>4</th><td>A부서</td><td>보험특별회계            </td><td> 609665</td></tr>\n",
       "\t<tr><th scope=row>5</th><td>A부서</td><td>사업특별회계            </td><td>1110638</td></tr>\n",
       "\t<tr><th scope=row>6</th><td>A부서</td><td>에너지및자원사업특별회계</td><td> 579411</td></tr>\n",
       "</tbody>\n",
       "</table>\n"
      ],
      "text/latex": [
       "A data.frame: 6 × 3\n",
       "\\begin{tabular}{r|lll}\n",
       "  & source & target & value\\\\\n",
       "  & <chr> & <chr> & <dbl>\\\\\n",
       "\\hline\n",
       "\t1 & A부서 & 과학관                   &   33033\\\\\n",
       "\t2 & A부서 & 과학관관련               &   27123\\\\\n",
       "\t3 & A부서 & 발전균형특별회계         & 3499882\\\\\n",
       "\t4 & A부서 & 보험특별회계             &  609665\\\\\n",
       "\t5 & A부서 & 사업특별회계             & 1110638\\\\\n",
       "\t6 & A부서 & 에너지및자원사업특별회계 &  579411\\\\\n",
       "\\end{tabular}\n"
      ],
      "text/markdown": [
       "\n",
       "A data.frame: 6 × 3\n",
       "\n",
       "| <!--/--> | source &lt;chr&gt; | target &lt;chr&gt; | value &lt;dbl&gt; |\n",
       "|---|---|---|---|\n",
       "| 1 | A부서 | 과학관                   |   33033 |\n",
       "| 2 | A부서 | 과학관관련               |   27123 |\n",
       "| 3 | A부서 | 발전균형특별회계         | 3499882 |\n",
       "| 4 | A부서 | 보험특별회계             |  609665 |\n",
       "| 5 | A부서 | 사업특별회계             | 1110638 |\n",
       "| 6 | A부서 | 에너지및자원사업특별회계 |  579411 |\n",
       "\n"
      ],
      "text/plain": [
       "  source target                   value  \n",
       "1 A부서  과학관                     33033\n",
       "2 A부서  과학관관련                 27123\n",
       "3 A부서  발전균형특별회계         3499882\n",
       "4 A부서  보험특별회계              609665\n",
       "5 A부서  사업특별회계             1110638\n",
       "6 A부서  에너지및자원사업특별회계  579411"
      ]
     },
     "metadata": {},
     "output_type": "display_data"
    },
    {
     "data": {
      "text/html": [
       "<table>\n",
       "<caption>A data.frame: 6 × 3</caption>\n",
       "<thead>\n",
       "\t<tr><th></th><th scope=col>source</th><th scope=col>target</th><th scope=col>value</th></tr>\n",
       "\t<tr><th></th><th scope=col>&lt;chr&gt;</th><th scope=col>&lt;chr&gt;</th><th scope=col>&lt;dbl&gt;</th></tr>\n",
       "</thead>\n",
       "<tbody>\n",
       "\t<tr><th scope=row>76</th><td>정운사업      </td><td>회계간거래            </td><td>108173</td></tr>\n",
       "\t<tr><th scope=row>77</th><td>정운사업      </td><td>회계간거래(전출금)    </td><td>978939</td></tr>\n",
       "\t<tr><th scope=row>78</th><td>정운사업      </td><td>회계기금간거래        </td><td>234343</td></tr>\n",
       "\t<tr><th scope=row>79</th><td>정운사업      </td><td>회계기금간거래(전출금)</td><td> 26000</td></tr>\n",
       "\t<tr><th scope=row>80</th><td>평생·직업교육</td><td>연구공동체활성화      </td><td> 26600</td></tr>\n",
       "\t<tr><th scope=row>81</th><td>평생·직업교육</td><td>평생직업교육체제구축  </td><td> 17974</td></tr>\n",
       "</tbody>\n",
       "</table>\n"
      ],
      "text/latex": [
       "A data.frame: 6 × 3\n",
       "\\begin{tabular}{r|lll}\n",
       "  & source & target & value\\\\\n",
       "  & <chr> & <chr> & <dbl>\\\\\n",
       "\\hline\n",
       "\t76 & 정운사업       & 회계간거래             & 108173\\\\\n",
       "\t77 & 정운사업       & 회계간거래(전출금)     & 978939\\\\\n",
       "\t78 & 정운사업       & 회계기금간거래         & 234343\\\\\n",
       "\t79 & 정운사업       & 회계기금간거래(전출금) &  26000\\\\\n",
       "\t80 & 평생·직업교육 & 연구공동체활성화       &  26600\\\\\n",
       "\t81 & 평생·직업교육 & 평생직업교육체제구축   &  17974\\\\\n",
       "\\end{tabular}\n"
      ],
      "text/markdown": [
       "\n",
       "A data.frame: 6 × 3\n",
       "\n",
       "| <!--/--> | source &lt;chr&gt; | target &lt;chr&gt; | value &lt;dbl&gt; |\n",
       "|---|---|---|---|\n",
       "| 76 | 정운사업       | 회계간거래             | 108173 |\n",
       "| 77 | 정운사업       | 회계간거래(전출금)     | 978939 |\n",
       "| 78 | 정운사업       | 회계기금간거래         | 234343 |\n",
       "| 79 | 정운사업       | 회계기금간거래(전출금) |  26000 |\n",
       "| 80 | 평생·직업교육 | 연구공동체활성화       |  26600 |\n",
       "| 81 | 평생·직업교육 | 평생직업교육체제구축   |  17974 |\n",
       "\n"
      ],
      "text/plain": [
       "   source         target                 value \n",
       "76 정운사업       회계간거래             108173\n",
       "77 정운사업       회계간거래(전출금)     978939\n",
       "78 정운사업       회계기금간거래         234343\n",
       "79 정운사업       회계기금간거래(전출금)  26000\n",
       "80 평생·직업교육 연구공동체활성화        26600\n",
       "81 평생·직업교육 평생직업교육체제구축    17974"
      ]
     },
     "metadata": {},
     "output_type": "display_data"
    }
   ],
   "source": [
    "head(df4)\n",
    "tail(df4)"
   ]
  },
  {
   "cell_type": "code",
   "execution_count": 38,
   "metadata": {},
   "outputs": [],
   "source": [
    "sankeyPlot <- rCharts$new() ## rChart 객체 생성\n",
    "sankeyPlot$setLib('libraries/sankey')  ## rChart  속성 지정\n",
    "sankeyPlot$setTemplate(script='libraries/sankey/layouts/chart.html')"
   ]
  },
  {
   "cell_type": "code",
   "execution_count": 39,
   "metadata": {},
   "outputs": [],
   "source": [
    "sankeyPlot$set(\n",
    "    data=df4,\n",
    "    nodeWidth=15,\n",
    "    nodePadding=13,\n",
    "    layout=300,\n",
    "    width=900,\n",
    "    height=600,\n",
    "    units='천원',\n",
    "    title='Sankey Diagram'\n",
    ")"
   ]
  },
  {
   "cell_type": "code",
   "execution_count": 40,
   "metadata": {},
   "outputs": [],
   "source": [
    "sankeyPlot"
   ]
  },
  {
   "cell_type": "markdown",
   "metadata": {},
   "source": [
    "#### 작년에 구입한 아파트는 올랐을까?\n",
    "- 국토교통부 실거래가 공개 시스템 데이터"
   ]
  },
  {
   "cell_type": "code",
   "execution_count": 43,
   "metadata": {},
   "outputs": [],
   "source": [
    "library(readxl)"
   ]
  },
  {
   "cell_type": "code",
   "execution_count": 44,
   "metadata": {},
   "outputs": [],
   "source": [
    "library(stringr)"
   ]
  },
  {
   "cell_type": "code",
   "execution_count": null,
   "metadata": {},
   "outputs": [],
   "source": []
  },
  {
   "cell_type": "code",
   "execution_count": 49,
   "metadata": {},
   "outputs": [],
   "source": [
    "## data load - sprint() : 포맷이 있는 여러 파일 한번에 읽어들일때.\n",
    "## sprintf(%4d: 네자리 정수, )\n",
    "files <- sprintf('r-ggagi-data/rawdata/%4d년_%02d월_전국_실거래가_아파트(매매).xls',\n",
    "                rep(2006:2014, each=12), 1:12)"
   ]
  },
  {
   "cell_type": "code",
   "execution_count": 50,
   "metadata": {},
   "outputs": [
    {
     "data": {
      "text/html": [
       "<style>\n",
       ".list-inline {list-style: none; margin:0; padding: 0}\n",
       ".list-inline>li {display: inline-block}\n",
       ".list-inline>li:not(:last-child)::after {content: \"\\00b7\"; padding: 0 .5ex}\n",
       "</style>\n",
       "<ol class=list-inline><li>'r-ggagi-data/rawdata/2006년_01월_전국_실거래가_아파트(매매).xls'</li><li>'r-ggagi-data/rawdata/2006년_02월_전국_실거래가_아파트(매매).xls'</li><li>'r-ggagi-data/rawdata/2006년_03월_전국_실거래가_아파트(매매).xls'</li><li>'r-ggagi-data/rawdata/2006년_04월_전국_실거래가_아파트(매매).xls'</li><li>'r-ggagi-data/rawdata/2006년_05월_전국_실거래가_아파트(매매).xls'</li><li>'r-ggagi-data/rawdata/2006년_06월_전국_실거래가_아파트(매매).xls'</li><li>'r-ggagi-data/rawdata/2006년_07월_전국_실거래가_아파트(매매).xls'</li><li>'r-ggagi-data/rawdata/2006년_08월_전국_실거래가_아파트(매매).xls'</li><li>'r-ggagi-data/rawdata/2006년_09월_전국_실거래가_아파트(매매).xls'</li><li>'r-ggagi-data/rawdata/2006년_10월_전국_실거래가_아파트(매매).xls'</li><li>'r-ggagi-data/rawdata/2006년_11월_전국_실거래가_아파트(매매).xls'</li><li>'r-ggagi-data/rawdata/2006년_12월_전국_실거래가_아파트(매매).xls'</li><li>'r-ggagi-data/rawdata/2007년_01월_전국_실거래가_아파트(매매).xls'</li><li>'r-ggagi-data/rawdata/2007년_02월_전국_실거래가_아파트(매매).xls'</li><li>'r-ggagi-data/rawdata/2007년_03월_전국_실거래가_아파트(매매).xls'</li><li>'r-ggagi-data/rawdata/2007년_04월_전국_실거래가_아파트(매매).xls'</li><li>'r-ggagi-data/rawdata/2007년_05월_전국_실거래가_아파트(매매).xls'</li><li>'r-ggagi-data/rawdata/2007년_06월_전국_실거래가_아파트(매매).xls'</li><li>'r-ggagi-data/rawdata/2007년_07월_전국_실거래가_아파트(매매).xls'</li><li>'r-ggagi-data/rawdata/2007년_08월_전국_실거래가_아파트(매매).xls'</li><li>'r-ggagi-data/rawdata/2007년_09월_전국_실거래가_아파트(매매).xls'</li><li>'r-ggagi-data/rawdata/2007년_10월_전국_실거래가_아파트(매매).xls'</li><li>'r-ggagi-data/rawdata/2007년_11월_전국_실거래가_아파트(매매).xls'</li><li>'r-ggagi-data/rawdata/2007년_12월_전국_실거래가_아파트(매매).xls'</li><li>'r-ggagi-data/rawdata/2008년_01월_전국_실거래가_아파트(매매).xls'</li><li>'r-ggagi-data/rawdata/2008년_02월_전국_실거래가_아파트(매매).xls'</li><li>'r-ggagi-data/rawdata/2008년_03월_전국_실거래가_아파트(매매).xls'</li><li>'r-ggagi-data/rawdata/2008년_04월_전국_실거래가_아파트(매매).xls'</li><li>'r-ggagi-data/rawdata/2008년_05월_전국_실거래가_아파트(매매).xls'</li><li>'r-ggagi-data/rawdata/2008년_06월_전국_실거래가_아파트(매매).xls'</li><li>'r-ggagi-data/rawdata/2008년_07월_전국_실거래가_아파트(매매).xls'</li><li>'r-ggagi-data/rawdata/2008년_08월_전국_실거래가_아파트(매매).xls'</li><li>'r-ggagi-data/rawdata/2008년_09월_전국_실거래가_아파트(매매).xls'</li><li>'r-ggagi-data/rawdata/2008년_10월_전국_실거래가_아파트(매매).xls'</li><li>'r-ggagi-data/rawdata/2008년_11월_전국_실거래가_아파트(매매).xls'</li><li>'r-ggagi-data/rawdata/2008년_12월_전국_실거래가_아파트(매매).xls'</li><li>'r-ggagi-data/rawdata/2009년_01월_전국_실거래가_아파트(매매).xls'</li><li>'r-ggagi-data/rawdata/2009년_02월_전국_실거래가_아파트(매매).xls'</li><li>'r-ggagi-data/rawdata/2009년_03월_전국_실거래가_아파트(매매).xls'</li><li>'r-ggagi-data/rawdata/2009년_04월_전국_실거래가_아파트(매매).xls'</li><li>'r-ggagi-data/rawdata/2009년_05월_전국_실거래가_아파트(매매).xls'</li><li>'r-ggagi-data/rawdata/2009년_06월_전국_실거래가_아파트(매매).xls'</li><li>'r-ggagi-data/rawdata/2009년_07월_전국_실거래가_아파트(매매).xls'</li><li>'r-ggagi-data/rawdata/2009년_08월_전국_실거래가_아파트(매매).xls'</li><li>'r-ggagi-data/rawdata/2009년_09월_전국_실거래가_아파트(매매).xls'</li><li>'r-ggagi-data/rawdata/2009년_10월_전국_실거래가_아파트(매매).xls'</li><li>'r-ggagi-data/rawdata/2009년_11월_전국_실거래가_아파트(매매).xls'</li><li>'r-ggagi-data/rawdata/2009년_12월_전국_실거래가_아파트(매매).xls'</li><li>'r-ggagi-data/rawdata/2010년_01월_전국_실거래가_아파트(매매).xls'</li><li>'r-ggagi-data/rawdata/2010년_02월_전국_실거래가_아파트(매매).xls'</li><li>'r-ggagi-data/rawdata/2010년_03월_전국_실거래가_아파트(매매).xls'</li><li>'r-ggagi-data/rawdata/2010년_04월_전국_실거래가_아파트(매매).xls'</li><li>'r-ggagi-data/rawdata/2010년_05월_전국_실거래가_아파트(매매).xls'</li><li>'r-ggagi-data/rawdata/2010년_06월_전국_실거래가_아파트(매매).xls'</li><li>'r-ggagi-data/rawdata/2010년_07월_전국_실거래가_아파트(매매).xls'</li><li>'r-ggagi-data/rawdata/2010년_08월_전국_실거래가_아파트(매매).xls'</li><li>'r-ggagi-data/rawdata/2010년_09월_전국_실거래가_아파트(매매).xls'</li><li>'r-ggagi-data/rawdata/2010년_10월_전국_실거래가_아파트(매매).xls'</li><li>'r-ggagi-data/rawdata/2010년_11월_전국_실거래가_아파트(매매).xls'</li><li>'r-ggagi-data/rawdata/2010년_12월_전국_실거래가_아파트(매매).xls'</li><li>'r-ggagi-data/rawdata/2011년_01월_전국_실거래가_아파트(매매).xls'</li><li>'r-ggagi-data/rawdata/2011년_02월_전국_실거래가_아파트(매매).xls'</li><li>'r-ggagi-data/rawdata/2011년_03월_전국_실거래가_아파트(매매).xls'</li><li>'r-ggagi-data/rawdata/2011년_04월_전국_실거래가_아파트(매매).xls'</li><li>'r-ggagi-data/rawdata/2011년_05월_전국_실거래가_아파트(매매).xls'</li><li>'r-ggagi-data/rawdata/2011년_06월_전국_실거래가_아파트(매매).xls'</li><li>'r-ggagi-data/rawdata/2011년_07월_전국_실거래가_아파트(매매).xls'</li><li>'r-ggagi-data/rawdata/2011년_08월_전국_실거래가_아파트(매매).xls'</li><li>'r-ggagi-data/rawdata/2011년_09월_전국_실거래가_아파트(매매).xls'</li><li>'r-ggagi-data/rawdata/2011년_10월_전국_실거래가_아파트(매매).xls'</li><li>'r-ggagi-data/rawdata/2011년_11월_전국_실거래가_아파트(매매).xls'</li><li>'r-ggagi-data/rawdata/2011년_12월_전국_실거래가_아파트(매매).xls'</li><li>'r-ggagi-data/rawdata/2012년_01월_전국_실거래가_아파트(매매).xls'</li><li>'r-ggagi-data/rawdata/2012년_02월_전국_실거래가_아파트(매매).xls'</li><li>'r-ggagi-data/rawdata/2012년_03월_전국_실거래가_아파트(매매).xls'</li><li>'r-ggagi-data/rawdata/2012년_04월_전국_실거래가_아파트(매매).xls'</li><li>'r-ggagi-data/rawdata/2012년_05월_전국_실거래가_아파트(매매).xls'</li><li>'r-ggagi-data/rawdata/2012년_06월_전국_실거래가_아파트(매매).xls'</li><li>'r-ggagi-data/rawdata/2012년_07월_전국_실거래가_아파트(매매).xls'</li><li>'r-ggagi-data/rawdata/2012년_08월_전국_실거래가_아파트(매매).xls'</li><li>'r-ggagi-data/rawdata/2012년_09월_전국_실거래가_아파트(매매).xls'</li><li>'r-ggagi-data/rawdata/2012년_10월_전국_실거래가_아파트(매매).xls'</li><li>'r-ggagi-data/rawdata/2012년_11월_전국_실거래가_아파트(매매).xls'</li><li>'r-ggagi-data/rawdata/2012년_12월_전국_실거래가_아파트(매매).xls'</li><li>'r-ggagi-data/rawdata/2013년_01월_전국_실거래가_아파트(매매).xls'</li><li>'r-ggagi-data/rawdata/2013년_02월_전국_실거래가_아파트(매매).xls'</li><li>'r-ggagi-data/rawdata/2013년_03월_전국_실거래가_아파트(매매).xls'</li><li>'r-ggagi-data/rawdata/2013년_04월_전국_실거래가_아파트(매매).xls'</li><li>'r-ggagi-data/rawdata/2013년_05월_전국_실거래가_아파트(매매).xls'</li><li>'r-ggagi-data/rawdata/2013년_06월_전국_실거래가_아파트(매매).xls'</li><li>'r-ggagi-data/rawdata/2013년_07월_전국_실거래가_아파트(매매).xls'</li><li>'r-ggagi-data/rawdata/2013년_08월_전국_실거래가_아파트(매매).xls'</li><li>'r-ggagi-data/rawdata/2013년_09월_전국_실거래가_아파트(매매).xls'</li><li>'r-ggagi-data/rawdata/2013년_10월_전국_실거래가_아파트(매매).xls'</li><li>'r-ggagi-data/rawdata/2013년_11월_전국_실거래가_아파트(매매).xls'</li><li>'r-ggagi-data/rawdata/2013년_12월_전국_실거래가_아파트(매매).xls'</li><li>'r-ggagi-data/rawdata/2014년_01월_전국_실거래가_아파트(매매).xls'</li><li>'r-ggagi-data/rawdata/2014년_02월_전국_실거래가_아파트(매매).xls'</li><li>'r-ggagi-data/rawdata/2014년_03월_전국_실거래가_아파트(매매).xls'</li><li>'r-ggagi-data/rawdata/2014년_04월_전국_실거래가_아파트(매매).xls'</li><li>'r-ggagi-data/rawdata/2014년_05월_전국_실거래가_아파트(매매).xls'</li><li>'r-ggagi-data/rawdata/2014년_06월_전국_실거래가_아파트(매매).xls'</li><li>'r-ggagi-data/rawdata/2014년_07월_전국_실거래가_아파트(매매).xls'</li><li>'r-ggagi-data/rawdata/2014년_08월_전국_실거래가_아파트(매매).xls'</li><li>'r-ggagi-data/rawdata/2014년_09월_전국_실거래가_아파트(매매).xls'</li><li>'r-ggagi-data/rawdata/2014년_10월_전국_실거래가_아파트(매매).xls'</li><li>'r-ggagi-data/rawdata/2014년_11월_전국_실거래가_아파트(매매).xls'</li><li>'r-ggagi-data/rawdata/2014년_12월_전국_실거래가_아파트(매매).xls'</li></ol>\n"
      ],
      "text/latex": [
       "\\begin{enumerate*}\n",
       "\\item 'r-ggagi-data/rawdata/2006년\\_01월\\_전국\\_실거래가\\_아파트(매매).xls'\n",
       "\\item 'r-ggagi-data/rawdata/2006년\\_02월\\_전국\\_실거래가\\_아파트(매매).xls'\n",
       "\\item 'r-ggagi-data/rawdata/2006년\\_03월\\_전국\\_실거래가\\_아파트(매매).xls'\n",
       "\\item 'r-ggagi-data/rawdata/2006년\\_04월\\_전국\\_실거래가\\_아파트(매매).xls'\n",
       "\\item 'r-ggagi-data/rawdata/2006년\\_05월\\_전국\\_실거래가\\_아파트(매매).xls'\n",
       "\\item 'r-ggagi-data/rawdata/2006년\\_06월\\_전국\\_실거래가\\_아파트(매매).xls'\n",
       "\\item 'r-ggagi-data/rawdata/2006년\\_07월\\_전국\\_실거래가\\_아파트(매매).xls'\n",
       "\\item 'r-ggagi-data/rawdata/2006년\\_08월\\_전국\\_실거래가\\_아파트(매매).xls'\n",
       "\\item 'r-ggagi-data/rawdata/2006년\\_09월\\_전국\\_실거래가\\_아파트(매매).xls'\n",
       "\\item 'r-ggagi-data/rawdata/2006년\\_10월\\_전국\\_실거래가\\_아파트(매매).xls'\n",
       "\\item 'r-ggagi-data/rawdata/2006년\\_11월\\_전국\\_실거래가\\_아파트(매매).xls'\n",
       "\\item 'r-ggagi-data/rawdata/2006년\\_12월\\_전국\\_실거래가\\_아파트(매매).xls'\n",
       "\\item 'r-ggagi-data/rawdata/2007년\\_01월\\_전국\\_실거래가\\_아파트(매매).xls'\n",
       "\\item 'r-ggagi-data/rawdata/2007년\\_02월\\_전국\\_실거래가\\_아파트(매매).xls'\n",
       "\\item 'r-ggagi-data/rawdata/2007년\\_03월\\_전국\\_실거래가\\_아파트(매매).xls'\n",
       "\\item 'r-ggagi-data/rawdata/2007년\\_04월\\_전국\\_실거래가\\_아파트(매매).xls'\n",
       "\\item 'r-ggagi-data/rawdata/2007년\\_05월\\_전국\\_실거래가\\_아파트(매매).xls'\n",
       "\\item 'r-ggagi-data/rawdata/2007년\\_06월\\_전국\\_실거래가\\_아파트(매매).xls'\n",
       "\\item 'r-ggagi-data/rawdata/2007년\\_07월\\_전국\\_실거래가\\_아파트(매매).xls'\n",
       "\\item 'r-ggagi-data/rawdata/2007년\\_08월\\_전국\\_실거래가\\_아파트(매매).xls'\n",
       "\\item 'r-ggagi-data/rawdata/2007년\\_09월\\_전국\\_실거래가\\_아파트(매매).xls'\n",
       "\\item 'r-ggagi-data/rawdata/2007년\\_10월\\_전국\\_실거래가\\_아파트(매매).xls'\n",
       "\\item 'r-ggagi-data/rawdata/2007년\\_11월\\_전국\\_실거래가\\_아파트(매매).xls'\n",
       "\\item 'r-ggagi-data/rawdata/2007년\\_12월\\_전국\\_실거래가\\_아파트(매매).xls'\n",
       "\\item 'r-ggagi-data/rawdata/2008년\\_01월\\_전국\\_실거래가\\_아파트(매매).xls'\n",
       "\\item 'r-ggagi-data/rawdata/2008년\\_02월\\_전국\\_실거래가\\_아파트(매매).xls'\n",
       "\\item 'r-ggagi-data/rawdata/2008년\\_03월\\_전국\\_실거래가\\_아파트(매매).xls'\n",
       "\\item 'r-ggagi-data/rawdata/2008년\\_04월\\_전국\\_실거래가\\_아파트(매매).xls'\n",
       "\\item 'r-ggagi-data/rawdata/2008년\\_05월\\_전국\\_실거래가\\_아파트(매매).xls'\n",
       "\\item 'r-ggagi-data/rawdata/2008년\\_06월\\_전국\\_실거래가\\_아파트(매매).xls'\n",
       "\\item 'r-ggagi-data/rawdata/2008년\\_07월\\_전국\\_실거래가\\_아파트(매매).xls'\n",
       "\\item 'r-ggagi-data/rawdata/2008년\\_08월\\_전국\\_실거래가\\_아파트(매매).xls'\n",
       "\\item 'r-ggagi-data/rawdata/2008년\\_09월\\_전국\\_실거래가\\_아파트(매매).xls'\n",
       "\\item 'r-ggagi-data/rawdata/2008년\\_10월\\_전국\\_실거래가\\_아파트(매매).xls'\n",
       "\\item 'r-ggagi-data/rawdata/2008년\\_11월\\_전국\\_실거래가\\_아파트(매매).xls'\n",
       "\\item 'r-ggagi-data/rawdata/2008년\\_12월\\_전국\\_실거래가\\_아파트(매매).xls'\n",
       "\\item 'r-ggagi-data/rawdata/2009년\\_01월\\_전국\\_실거래가\\_아파트(매매).xls'\n",
       "\\item 'r-ggagi-data/rawdata/2009년\\_02월\\_전국\\_실거래가\\_아파트(매매).xls'\n",
       "\\item 'r-ggagi-data/rawdata/2009년\\_03월\\_전국\\_실거래가\\_아파트(매매).xls'\n",
       "\\item 'r-ggagi-data/rawdata/2009년\\_04월\\_전국\\_실거래가\\_아파트(매매).xls'\n",
       "\\item 'r-ggagi-data/rawdata/2009년\\_05월\\_전국\\_실거래가\\_아파트(매매).xls'\n",
       "\\item 'r-ggagi-data/rawdata/2009년\\_06월\\_전국\\_실거래가\\_아파트(매매).xls'\n",
       "\\item 'r-ggagi-data/rawdata/2009년\\_07월\\_전국\\_실거래가\\_아파트(매매).xls'\n",
       "\\item 'r-ggagi-data/rawdata/2009년\\_08월\\_전국\\_실거래가\\_아파트(매매).xls'\n",
       "\\item 'r-ggagi-data/rawdata/2009년\\_09월\\_전국\\_실거래가\\_아파트(매매).xls'\n",
       "\\item 'r-ggagi-data/rawdata/2009년\\_10월\\_전국\\_실거래가\\_아파트(매매).xls'\n",
       "\\item 'r-ggagi-data/rawdata/2009년\\_11월\\_전국\\_실거래가\\_아파트(매매).xls'\n",
       "\\item 'r-ggagi-data/rawdata/2009년\\_12월\\_전국\\_실거래가\\_아파트(매매).xls'\n",
       "\\item 'r-ggagi-data/rawdata/2010년\\_01월\\_전국\\_실거래가\\_아파트(매매).xls'\n",
       "\\item 'r-ggagi-data/rawdata/2010년\\_02월\\_전국\\_실거래가\\_아파트(매매).xls'\n",
       "\\item 'r-ggagi-data/rawdata/2010년\\_03월\\_전국\\_실거래가\\_아파트(매매).xls'\n",
       "\\item 'r-ggagi-data/rawdata/2010년\\_04월\\_전국\\_실거래가\\_아파트(매매).xls'\n",
       "\\item 'r-ggagi-data/rawdata/2010년\\_05월\\_전국\\_실거래가\\_아파트(매매).xls'\n",
       "\\item 'r-ggagi-data/rawdata/2010년\\_06월\\_전국\\_실거래가\\_아파트(매매).xls'\n",
       "\\item 'r-ggagi-data/rawdata/2010년\\_07월\\_전국\\_실거래가\\_아파트(매매).xls'\n",
       "\\item 'r-ggagi-data/rawdata/2010년\\_08월\\_전국\\_실거래가\\_아파트(매매).xls'\n",
       "\\item 'r-ggagi-data/rawdata/2010년\\_09월\\_전국\\_실거래가\\_아파트(매매).xls'\n",
       "\\item 'r-ggagi-data/rawdata/2010년\\_10월\\_전국\\_실거래가\\_아파트(매매).xls'\n",
       "\\item 'r-ggagi-data/rawdata/2010년\\_11월\\_전국\\_실거래가\\_아파트(매매).xls'\n",
       "\\item 'r-ggagi-data/rawdata/2010년\\_12월\\_전국\\_실거래가\\_아파트(매매).xls'\n",
       "\\item 'r-ggagi-data/rawdata/2011년\\_01월\\_전국\\_실거래가\\_아파트(매매).xls'\n",
       "\\item 'r-ggagi-data/rawdata/2011년\\_02월\\_전국\\_실거래가\\_아파트(매매).xls'\n",
       "\\item 'r-ggagi-data/rawdata/2011년\\_03월\\_전국\\_실거래가\\_아파트(매매).xls'\n",
       "\\item 'r-ggagi-data/rawdata/2011년\\_04월\\_전국\\_실거래가\\_아파트(매매).xls'\n",
       "\\item 'r-ggagi-data/rawdata/2011년\\_05월\\_전국\\_실거래가\\_아파트(매매).xls'\n",
       "\\item 'r-ggagi-data/rawdata/2011년\\_06월\\_전국\\_실거래가\\_아파트(매매).xls'\n",
       "\\item 'r-ggagi-data/rawdata/2011년\\_07월\\_전국\\_실거래가\\_아파트(매매).xls'\n",
       "\\item 'r-ggagi-data/rawdata/2011년\\_08월\\_전국\\_실거래가\\_아파트(매매).xls'\n",
       "\\item 'r-ggagi-data/rawdata/2011년\\_09월\\_전국\\_실거래가\\_아파트(매매).xls'\n",
       "\\item 'r-ggagi-data/rawdata/2011년\\_10월\\_전국\\_실거래가\\_아파트(매매).xls'\n",
       "\\item 'r-ggagi-data/rawdata/2011년\\_11월\\_전국\\_실거래가\\_아파트(매매).xls'\n",
       "\\item 'r-ggagi-data/rawdata/2011년\\_12월\\_전국\\_실거래가\\_아파트(매매).xls'\n",
       "\\item 'r-ggagi-data/rawdata/2012년\\_01월\\_전국\\_실거래가\\_아파트(매매).xls'\n",
       "\\item 'r-ggagi-data/rawdata/2012년\\_02월\\_전국\\_실거래가\\_아파트(매매).xls'\n",
       "\\item 'r-ggagi-data/rawdata/2012년\\_03월\\_전국\\_실거래가\\_아파트(매매).xls'\n",
       "\\item 'r-ggagi-data/rawdata/2012년\\_04월\\_전국\\_실거래가\\_아파트(매매).xls'\n",
       "\\item 'r-ggagi-data/rawdata/2012년\\_05월\\_전국\\_실거래가\\_아파트(매매).xls'\n",
       "\\item 'r-ggagi-data/rawdata/2012년\\_06월\\_전국\\_실거래가\\_아파트(매매).xls'\n",
       "\\item 'r-ggagi-data/rawdata/2012년\\_07월\\_전국\\_실거래가\\_아파트(매매).xls'\n",
       "\\item 'r-ggagi-data/rawdata/2012년\\_08월\\_전국\\_실거래가\\_아파트(매매).xls'\n",
       "\\item 'r-ggagi-data/rawdata/2012년\\_09월\\_전국\\_실거래가\\_아파트(매매).xls'\n",
       "\\item 'r-ggagi-data/rawdata/2012년\\_10월\\_전국\\_실거래가\\_아파트(매매).xls'\n",
       "\\item 'r-ggagi-data/rawdata/2012년\\_11월\\_전국\\_실거래가\\_아파트(매매).xls'\n",
       "\\item 'r-ggagi-data/rawdata/2012년\\_12월\\_전국\\_실거래가\\_아파트(매매).xls'\n",
       "\\item 'r-ggagi-data/rawdata/2013년\\_01월\\_전국\\_실거래가\\_아파트(매매).xls'\n",
       "\\item 'r-ggagi-data/rawdata/2013년\\_02월\\_전국\\_실거래가\\_아파트(매매).xls'\n",
       "\\item 'r-ggagi-data/rawdata/2013년\\_03월\\_전국\\_실거래가\\_아파트(매매).xls'\n",
       "\\item 'r-ggagi-data/rawdata/2013년\\_04월\\_전국\\_실거래가\\_아파트(매매).xls'\n",
       "\\item 'r-ggagi-data/rawdata/2013년\\_05월\\_전국\\_실거래가\\_아파트(매매).xls'\n",
       "\\item 'r-ggagi-data/rawdata/2013년\\_06월\\_전국\\_실거래가\\_아파트(매매).xls'\n",
       "\\item 'r-ggagi-data/rawdata/2013년\\_07월\\_전국\\_실거래가\\_아파트(매매).xls'\n",
       "\\item 'r-ggagi-data/rawdata/2013년\\_08월\\_전국\\_실거래가\\_아파트(매매).xls'\n",
       "\\item 'r-ggagi-data/rawdata/2013년\\_09월\\_전국\\_실거래가\\_아파트(매매).xls'\n",
       "\\item 'r-ggagi-data/rawdata/2013년\\_10월\\_전국\\_실거래가\\_아파트(매매).xls'\n",
       "\\item 'r-ggagi-data/rawdata/2013년\\_11월\\_전국\\_실거래가\\_아파트(매매).xls'\n",
       "\\item 'r-ggagi-data/rawdata/2013년\\_12월\\_전국\\_실거래가\\_아파트(매매).xls'\n",
       "\\item 'r-ggagi-data/rawdata/2014년\\_01월\\_전국\\_실거래가\\_아파트(매매).xls'\n",
       "\\item 'r-ggagi-data/rawdata/2014년\\_02월\\_전국\\_실거래가\\_아파트(매매).xls'\n",
       "\\item 'r-ggagi-data/rawdata/2014년\\_03월\\_전국\\_실거래가\\_아파트(매매).xls'\n",
       "\\item 'r-ggagi-data/rawdata/2014년\\_04월\\_전국\\_실거래가\\_아파트(매매).xls'\n",
       "\\item 'r-ggagi-data/rawdata/2014년\\_05월\\_전국\\_실거래가\\_아파트(매매).xls'\n",
       "\\item 'r-ggagi-data/rawdata/2014년\\_06월\\_전국\\_실거래가\\_아파트(매매).xls'\n",
       "\\item 'r-ggagi-data/rawdata/2014년\\_07월\\_전국\\_실거래가\\_아파트(매매).xls'\n",
       "\\item 'r-ggagi-data/rawdata/2014년\\_08월\\_전국\\_실거래가\\_아파트(매매).xls'\n",
       "\\item 'r-ggagi-data/rawdata/2014년\\_09월\\_전국\\_실거래가\\_아파트(매매).xls'\n",
       "\\item 'r-ggagi-data/rawdata/2014년\\_10월\\_전국\\_실거래가\\_아파트(매매).xls'\n",
       "\\item 'r-ggagi-data/rawdata/2014년\\_11월\\_전국\\_실거래가\\_아파트(매매).xls'\n",
       "\\item 'r-ggagi-data/rawdata/2014년\\_12월\\_전국\\_실거래가\\_아파트(매매).xls'\n",
       "\\end{enumerate*}\n"
      ],
      "text/markdown": [
       "1. 'r-ggagi-data/rawdata/2006년_01월_전국_실거래가_아파트(매매).xls'\n",
       "2. 'r-ggagi-data/rawdata/2006년_02월_전국_실거래가_아파트(매매).xls'\n",
       "3. 'r-ggagi-data/rawdata/2006년_03월_전국_실거래가_아파트(매매).xls'\n",
       "4. 'r-ggagi-data/rawdata/2006년_04월_전국_실거래가_아파트(매매).xls'\n",
       "5. 'r-ggagi-data/rawdata/2006년_05월_전국_실거래가_아파트(매매).xls'\n",
       "6. 'r-ggagi-data/rawdata/2006년_06월_전국_실거래가_아파트(매매).xls'\n",
       "7. 'r-ggagi-data/rawdata/2006년_07월_전국_실거래가_아파트(매매).xls'\n",
       "8. 'r-ggagi-data/rawdata/2006년_08월_전국_실거래가_아파트(매매).xls'\n",
       "9. 'r-ggagi-data/rawdata/2006년_09월_전국_실거래가_아파트(매매).xls'\n",
       "10. 'r-ggagi-data/rawdata/2006년_10월_전국_실거래가_아파트(매매).xls'\n",
       "11. 'r-ggagi-data/rawdata/2006년_11월_전국_실거래가_아파트(매매).xls'\n",
       "12. 'r-ggagi-data/rawdata/2006년_12월_전국_실거래가_아파트(매매).xls'\n",
       "13. 'r-ggagi-data/rawdata/2007년_01월_전국_실거래가_아파트(매매).xls'\n",
       "14. 'r-ggagi-data/rawdata/2007년_02월_전국_실거래가_아파트(매매).xls'\n",
       "15. 'r-ggagi-data/rawdata/2007년_03월_전국_실거래가_아파트(매매).xls'\n",
       "16. 'r-ggagi-data/rawdata/2007년_04월_전국_실거래가_아파트(매매).xls'\n",
       "17. 'r-ggagi-data/rawdata/2007년_05월_전국_실거래가_아파트(매매).xls'\n",
       "18. 'r-ggagi-data/rawdata/2007년_06월_전국_실거래가_아파트(매매).xls'\n",
       "19. 'r-ggagi-data/rawdata/2007년_07월_전국_실거래가_아파트(매매).xls'\n",
       "20. 'r-ggagi-data/rawdata/2007년_08월_전국_실거래가_아파트(매매).xls'\n",
       "21. 'r-ggagi-data/rawdata/2007년_09월_전국_실거래가_아파트(매매).xls'\n",
       "22. 'r-ggagi-data/rawdata/2007년_10월_전국_실거래가_아파트(매매).xls'\n",
       "23. 'r-ggagi-data/rawdata/2007년_11월_전국_실거래가_아파트(매매).xls'\n",
       "24. 'r-ggagi-data/rawdata/2007년_12월_전국_실거래가_아파트(매매).xls'\n",
       "25. 'r-ggagi-data/rawdata/2008년_01월_전국_실거래가_아파트(매매).xls'\n",
       "26. 'r-ggagi-data/rawdata/2008년_02월_전국_실거래가_아파트(매매).xls'\n",
       "27. 'r-ggagi-data/rawdata/2008년_03월_전국_실거래가_아파트(매매).xls'\n",
       "28. 'r-ggagi-data/rawdata/2008년_04월_전국_실거래가_아파트(매매).xls'\n",
       "29. 'r-ggagi-data/rawdata/2008년_05월_전국_실거래가_아파트(매매).xls'\n",
       "30. 'r-ggagi-data/rawdata/2008년_06월_전국_실거래가_아파트(매매).xls'\n",
       "31. 'r-ggagi-data/rawdata/2008년_07월_전국_실거래가_아파트(매매).xls'\n",
       "32. 'r-ggagi-data/rawdata/2008년_08월_전국_실거래가_아파트(매매).xls'\n",
       "33. 'r-ggagi-data/rawdata/2008년_09월_전국_실거래가_아파트(매매).xls'\n",
       "34. 'r-ggagi-data/rawdata/2008년_10월_전국_실거래가_아파트(매매).xls'\n",
       "35. 'r-ggagi-data/rawdata/2008년_11월_전국_실거래가_아파트(매매).xls'\n",
       "36. 'r-ggagi-data/rawdata/2008년_12월_전국_실거래가_아파트(매매).xls'\n",
       "37. 'r-ggagi-data/rawdata/2009년_01월_전국_실거래가_아파트(매매).xls'\n",
       "38. 'r-ggagi-data/rawdata/2009년_02월_전국_실거래가_아파트(매매).xls'\n",
       "39. 'r-ggagi-data/rawdata/2009년_03월_전국_실거래가_아파트(매매).xls'\n",
       "40. 'r-ggagi-data/rawdata/2009년_04월_전국_실거래가_아파트(매매).xls'\n",
       "41. 'r-ggagi-data/rawdata/2009년_05월_전국_실거래가_아파트(매매).xls'\n",
       "42. 'r-ggagi-data/rawdata/2009년_06월_전국_실거래가_아파트(매매).xls'\n",
       "43. 'r-ggagi-data/rawdata/2009년_07월_전국_실거래가_아파트(매매).xls'\n",
       "44. 'r-ggagi-data/rawdata/2009년_08월_전국_실거래가_아파트(매매).xls'\n",
       "45. 'r-ggagi-data/rawdata/2009년_09월_전국_실거래가_아파트(매매).xls'\n",
       "46. 'r-ggagi-data/rawdata/2009년_10월_전국_실거래가_아파트(매매).xls'\n",
       "47. 'r-ggagi-data/rawdata/2009년_11월_전국_실거래가_아파트(매매).xls'\n",
       "48. 'r-ggagi-data/rawdata/2009년_12월_전국_실거래가_아파트(매매).xls'\n",
       "49. 'r-ggagi-data/rawdata/2010년_01월_전국_실거래가_아파트(매매).xls'\n",
       "50. 'r-ggagi-data/rawdata/2010년_02월_전국_실거래가_아파트(매매).xls'\n",
       "51. 'r-ggagi-data/rawdata/2010년_03월_전국_실거래가_아파트(매매).xls'\n",
       "52. 'r-ggagi-data/rawdata/2010년_04월_전국_실거래가_아파트(매매).xls'\n",
       "53. 'r-ggagi-data/rawdata/2010년_05월_전국_실거래가_아파트(매매).xls'\n",
       "54. 'r-ggagi-data/rawdata/2010년_06월_전국_실거래가_아파트(매매).xls'\n",
       "55. 'r-ggagi-data/rawdata/2010년_07월_전국_실거래가_아파트(매매).xls'\n",
       "56. 'r-ggagi-data/rawdata/2010년_08월_전국_실거래가_아파트(매매).xls'\n",
       "57. 'r-ggagi-data/rawdata/2010년_09월_전국_실거래가_아파트(매매).xls'\n",
       "58. 'r-ggagi-data/rawdata/2010년_10월_전국_실거래가_아파트(매매).xls'\n",
       "59. 'r-ggagi-data/rawdata/2010년_11월_전국_실거래가_아파트(매매).xls'\n",
       "60. 'r-ggagi-data/rawdata/2010년_12월_전국_실거래가_아파트(매매).xls'\n",
       "61. 'r-ggagi-data/rawdata/2011년_01월_전국_실거래가_아파트(매매).xls'\n",
       "62. 'r-ggagi-data/rawdata/2011년_02월_전국_실거래가_아파트(매매).xls'\n",
       "63. 'r-ggagi-data/rawdata/2011년_03월_전국_실거래가_아파트(매매).xls'\n",
       "64. 'r-ggagi-data/rawdata/2011년_04월_전국_실거래가_아파트(매매).xls'\n",
       "65. 'r-ggagi-data/rawdata/2011년_05월_전국_실거래가_아파트(매매).xls'\n",
       "66. 'r-ggagi-data/rawdata/2011년_06월_전국_실거래가_아파트(매매).xls'\n",
       "67. 'r-ggagi-data/rawdata/2011년_07월_전국_실거래가_아파트(매매).xls'\n",
       "68. 'r-ggagi-data/rawdata/2011년_08월_전국_실거래가_아파트(매매).xls'\n",
       "69. 'r-ggagi-data/rawdata/2011년_09월_전국_실거래가_아파트(매매).xls'\n",
       "70. 'r-ggagi-data/rawdata/2011년_10월_전국_실거래가_아파트(매매).xls'\n",
       "71. 'r-ggagi-data/rawdata/2011년_11월_전국_실거래가_아파트(매매).xls'\n",
       "72. 'r-ggagi-data/rawdata/2011년_12월_전국_실거래가_아파트(매매).xls'\n",
       "73. 'r-ggagi-data/rawdata/2012년_01월_전국_실거래가_아파트(매매).xls'\n",
       "74. 'r-ggagi-data/rawdata/2012년_02월_전국_실거래가_아파트(매매).xls'\n",
       "75. 'r-ggagi-data/rawdata/2012년_03월_전국_실거래가_아파트(매매).xls'\n",
       "76. 'r-ggagi-data/rawdata/2012년_04월_전국_실거래가_아파트(매매).xls'\n",
       "77. 'r-ggagi-data/rawdata/2012년_05월_전국_실거래가_아파트(매매).xls'\n",
       "78. 'r-ggagi-data/rawdata/2012년_06월_전국_실거래가_아파트(매매).xls'\n",
       "79. 'r-ggagi-data/rawdata/2012년_07월_전국_실거래가_아파트(매매).xls'\n",
       "80. 'r-ggagi-data/rawdata/2012년_08월_전국_실거래가_아파트(매매).xls'\n",
       "81. 'r-ggagi-data/rawdata/2012년_09월_전국_실거래가_아파트(매매).xls'\n",
       "82. 'r-ggagi-data/rawdata/2012년_10월_전국_실거래가_아파트(매매).xls'\n",
       "83. 'r-ggagi-data/rawdata/2012년_11월_전국_실거래가_아파트(매매).xls'\n",
       "84. 'r-ggagi-data/rawdata/2012년_12월_전국_실거래가_아파트(매매).xls'\n",
       "85. 'r-ggagi-data/rawdata/2013년_01월_전국_실거래가_아파트(매매).xls'\n",
       "86. 'r-ggagi-data/rawdata/2013년_02월_전국_실거래가_아파트(매매).xls'\n",
       "87. 'r-ggagi-data/rawdata/2013년_03월_전국_실거래가_아파트(매매).xls'\n",
       "88. 'r-ggagi-data/rawdata/2013년_04월_전국_실거래가_아파트(매매).xls'\n",
       "89. 'r-ggagi-data/rawdata/2013년_05월_전국_실거래가_아파트(매매).xls'\n",
       "90. 'r-ggagi-data/rawdata/2013년_06월_전국_실거래가_아파트(매매).xls'\n",
       "91. 'r-ggagi-data/rawdata/2013년_07월_전국_실거래가_아파트(매매).xls'\n",
       "92. 'r-ggagi-data/rawdata/2013년_08월_전국_실거래가_아파트(매매).xls'\n",
       "93. 'r-ggagi-data/rawdata/2013년_09월_전국_실거래가_아파트(매매).xls'\n",
       "94. 'r-ggagi-data/rawdata/2013년_10월_전국_실거래가_아파트(매매).xls'\n",
       "95. 'r-ggagi-data/rawdata/2013년_11월_전국_실거래가_아파트(매매).xls'\n",
       "96. 'r-ggagi-data/rawdata/2013년_12월_전국_실거래가_아파트(매매).xls'\n",
       "97. 'r-ggagi-data/rawdata/2014년_01월_전국_실거래가_아파트(매매).xls'\n",
       "98. 'r-ggagi-data/rawdata/2014년_02월_전국_실거래가_아파트(매매).xls'\n",
       "99. 'r-ggagi-data/rawdata/2014년_03월_전국_실거래가_아파트(매매).xls'\n",
       "100. 'r-ggagi-data/rawdata/2014년_04월_전국_실거래가_아파트(매매).xls'\n",
       "101. 'r-ggagi-data/rawdata/2014년_05월_전국_실거래가_아파트(매매).xls'\n",
       "102. 'r-ggagi-data/rawdata/2014년_06월_전국_실거래가_아파트(매매).xls'\n",
       "103. 'r-ggagi-data/rawdata/2014년_07월_전국_실거래가_아파트(매매).xls'\n",
       "104. 'r-ggagi-data/rawdata/2014년_08월_전국_실거래가_아파트(매매).xls'\n",
       "105. 'r-ggagi-data/rawdata/2014년_09월_전국_실거래가_아파트(매매).xls'\n",
       "106. 'r-ggagi-data/rawdata/2014년_10월_전국_실거래가_아파트(매매).xls'\n",
       "107. 'r-ggagi-data/rawdata/2014년_11월_전국_실거래가_아파트(매매).xls'\n",
       "108. 'r-ggagi-data/rawdata/2014년_12월_전국_실거래가_아파트(매매).xls'\n",
       "\n",
       "\n"
      ],
      "text/plain": [
       "  [1] \"r-ggagi-data/rawdata/2006년_01월_전국_실거래가_아파트(매매).xls\"\n",
       "  [2] \"r-ggagi-data/rawdata/2006년_02월_전국_실거래가_아파트(매매).xls\"\n",
       "  [3] \"r-ggagi-data/rawdata/2006년_03월_전국_실거래가_아파트(매매).xls\"\n",
       "  [4] \"r-ggagi-data/rawdata/2006년_04월_전국_실거래가_아파트(매매).xls\"\n",
       "  [5] \"r-ggagi-data/rawdata/2006년_05월_전국_실거래가_아파트(매매).xls\"\n",
       "  [6] \"r-ggagi-data/rawdata/2006년_06월_전국_실거래가_아파트(매매).xls\"\n",
       "  [7] \"r-ggagi-data/rawdata/2006년_07월_전국_실거래가_아파트(매매).xls\"\n",
       "  [8] \"r-ggagi-data/rawdata/2006년_08월_전국_실거래가_아파트(매매).xls\"\n",
       "  [9] \"r-ggagi-data/rawdata/2006년_09월_전국_실거래가_아파트(매매).xls\"\n",
       " [10] \"r-ggagi-data/rawdata/2006년_10월_전국_실거래가_아파트(매매).xls\"\n",
       " [11] \"r-ggagi-data/rawdata/2006년_11월_전국_실거래가_아파트(매매).xls\"\n",
       " [12] \"r-ggagi-data/rawdata/2006년_12월_전국_실거래가_아파트(매매).xls\"\n",
       " [13] \"r-ggagi-data/rawdata/2007년_01월_전국_실거래가_아파트(매매).xls\"\n",
       " [14] \"r-ggagi-data/rawdata/2007년_02월_전국_실거래가_아파트(매매).xls\"\n",
       " [15] \"r-ggagi-data/rawdata/2007년_03월_전국_실거래가_아파트(매매).xls\"\n",
       " [16] \"r-ggagi-data/rawdata/2007년_04월_전국_실거래가_아파트(매매).xls\"\n",
       " [17] \"r-ggagi-data/rawdata/2007년_05월_전국_실거래가_아파트(매매).xls\"\n",
       " [18] \"r-ggagi-data/rawdata/2007년_06월_전국_실거래가_아파트(매매).xls\"\n",
       " [19] \"r-ggagi-data/rawdata/2007년_07월_전국_실거래가_아파트(매매).xls\"\n",
       " [20] \"r-ggagi-data/rawdata/2007년_08월_전국_실거래가_아파트(매매).xls\"\n",
       " [21] \"r-ggagi-data/rawdata/2007년_09월_전국_실거래가_아파트(매매).xls\"\n",
       " [22] \"r-ggagi-data/rawdata/2007년_10월_전국_실거래가_아파트(매매).xls\"\n",
       " [23] \"r-ggagi-data/rawdata/2007년_11월_전국_실거래가_아파트(매매).xls\"\n",
       " [24] \"r-ggagi-data/rawdata/2007년_12월_전국_실거래가_아파트(매매).xls\"\n",
       " [25] \"r-ggagi-data/rawdata/2008년_01월_전국_실거래가_아파트(매매).xls\"\n",
       " [26] \"r-ggagi-data/rawdata/2008년_02월_전국_실거래가_아파트(매매).xls\"\n",
       " [27] \"r-ggagi-data/rawdata/2008년_03월_전국_실거래가_아파트(매매).xls\"\n",
       " [28] \"r-ggagi-data/rawdata/2008년_04월_전국_실거래가_아파트(매매).xls\"\n",
       " [29] \"r-ggagi-data/rawdata/2008년_05월_전국_실거래가_아파트(매매).xls\"\n",
       " [30] \"r-ggagi-data/rawdata/2008년_06월_전국_실거래가_아파트(매매).xls\"\n",
       " [31] \"r-ggagi-data/rawdata/2008년_07월_전국_실거래가_아파트(매매).xls\"\n",
       " [32] \"r-ggagi-data/rawdata/2008년_08월_전국_실거래가_아파트(매매).xls\"\n",
       " [33] \"r-ggagi-data/rawdata/2008년_09월_전국_실거래가_아파트(매매).xls\"\n",
       " [34] \"r-ggagi-data/rawdata/2008년_10월_전국_실거래가_아파트(매매).xls\"\n",
       " [35] \"r-ggagi-data/rawdata/2008년_11월_전국_실거래가_아파트(매매).xls\"\n",
       " [36] \"r-ggagi-data/rawdata/2008년_12월_전국_실거래가_아파트(매매).xls\"\n",
       " [37] \"r-ggagi-data/rawdata/2009년_01월_전국_실거래가_아파트(매매).xls\"\n",
       " [38] \"r-ggagi-data/rawdata/2009년_02월_전국_실거래가_아파트(매매).xls\"\n",
       " [39] \"r-ggagi-data/rawdata/2009년_03월_전국_실거래가_아파트(매매).xls\"\n",
       " [40] \"r-ggagi-data/rawdata/2009년_04월_전국_실거래가_아파트(매매).xls\"\n",
       " [41] \"r-ggagi-data/rawdata/2009년_05월_전국_실거래가_아파트(매매).xls\"\n",
       " [42] \"r-ggagi-data/rawdata/2009년_06월_전국_실거래가_아파트(매매).xls\"\n",
       " [43] \"r-ggagi-data/rawdata/2009년_07월_전국_실거래가_아파트(매매).xls\"\n",
       " [44] \"r-ggagi-data/rawdata/2009년_08월_전국_실거래가_아파트(매매).xls\"\n",
       " [45] \"r-ggagi-data/rawdata/2009년_09월_전국_실거래가_아파트(매매).xls\"\n",
       " [46] \"r-ggagi-data/rawdata/2009년_10월_전국_실거래가_아파트(매매).xls\"\n",
       " [47] \"r-ggagi-data/rawdata/2009년_11월_전국_실거래가_아파트(매매).xls\"\n",
       " [48] \"r-ggagi-data/rawdata/2009년_12월_전국_실거래가_아파트(매매).xls\"\n",
       " [49] \"r-ggagi-data/rawdata/2010년_01월_전국_실거래가_아파트(매매).xls\"\n",
       " [50] \"r-ggagi-data/rawdata/2010년_02월_전국_실거래가_아파트(매매).xls\"\n",
       " [51] \"r-ggagi-data/rawdata/2010년_03월_전국_실거래가_아파트(매매).xls\"\n",
       " [52] \"r-ggagi-data/rawdata/2010년_04월_전국_실거래가_아파트(매매).xls\"\n",
       " [53] \"r-ggagi-data/rawdata/2010년_05월_전국_실거래가_아파트(매매).xls\"\n",
       " [54] \"r-ggagi-data/rawdata/2010년_06월_전국_실거래가_아파트(매매).xls\"\n",
       " [55] \"r-ggagi-data/rawdata/2010년_07월_전국_실거래가_아파트(매매).xls\"\n",
       " [56] \"r-ggagi-data/rawdata/2010년_08월_전국_실거래가_아파트(매매).xls\"\n",
       " [57] \"r-ggagi-data/rawdata/2010년_09월_전국_실거래가_아파트(매매).xls\"\n",
       " [58] \"r-ggagi-data/rawdata/2010년_10월_전국_실거래가_아파트(매매).xls\"\n",
       " [59] \"r-ggagi-data/rawdata/2010년_11월_전국_실거래가_아파트(매매).xls\"\n",
       " [60] \"r-ggagi-data/rawdata/2010년_12월_전국_실거래가_아파트(매매).xls\"\n",
       " [61] \"r-ggagi-data/rawdata/2011년_01월_전국_실거래가_아파트(매매).xls\"\n",
       " [62] \"r-ggagi-data/rawdata/2011년_02월_전국_실거래가_아파트(매매).xls\"\n",
       " [63] \"r-ggagi-data/rawdata/2011년_03월_전국_실거래가_아파트(매매).xls\"\n",
       " [64] \"r-ggagi-data/rawdata/2011년_04월_전국_실거래가_아파트(매매).xls\"\n",
       " [65] \"r-ggagi-data/rawdata/2011년_05월_전국_실거래가_아파트(매매).xls\"\n",
       " [66] \"r-ggagi-data/rawdata/2011년_06월_전국_실거래가_아파트(매매).xls\"\n",
       " [67] \"r-ggagi-data/rawdata/2011년_07월_전국_실거래가_아파트(매매).xls\"\n",
       " [68] \"r-ggagi-data/rawdata/2011년_08월_전국_실거래가_아파트(매매).xls\"\n",
       " [69] \"r-ggagi-data/rawdata/2011년_09월_전국_실거래가_아파트(매매).xls\"\n",
       " [70] \"r-ggagi-data/rawdata/2011년_10월_전국_실거래가_아파트(매매).xls\"\n",
       " [71] \"r-ggagi-data/rawdata/2011년_11월_전국_실거래가_아파트(매매).xls\"\n",
       " [72] \"r-ggagi-data/rawdata/2011년_12월_전국_실거래가_아파트(매매).xls\"\n",
       " [73] \"r-ggagi-data/rawdata/2012년_01월_전국_실거래가_아파트(매매).xls\"\n",
       " [74] \"r-ggagi-data/rawdata/2012년_02월_전국_실거래가_아파트(매매).xls\"\n",
       " [75] \"r-ggagi-data/rawdata/2012년_03월_전국_실거래가_아파트(매매).xls\"\n",
       " [76] \"r-ggagi-data/rawdata/2012년_04월_전국_실거래가_아파트(매매).xls\"\n",
       " [77] \"r-ggagi-data/rawdata/2012년_05월_전국_실거래가_아파트(매매).xls\"\n",
       " [78] \"r-ggagi-data/rawdata/2012년_06월_전국_실거래가_아파트(매매).xls\"\n",
       " [79] \"r-ggagi-data/rawdata/2012년_07월_전국_실거래가_아파트(매매).xls\"\n",
       " [80] \"r-ggagi-data/rawdata/2012년_08월_전국_실거래가_아파트(매매).xls\"\n",
       " [81] \"r-ggagi-data/rawdata/2012년_09월_전국_실거래가_아파트(매매).xls\"\n",
       " [82] \"r-ggagi-data/rawdata/2012년_10월_전국_실거래가_아파트(매매).xls\"\n",
       " [83] \"r-ggagi-data/rawdata/2012년_11월_전국_실거래가_아파트(매매).xls\"\n",
       " [84] \"r-ggagi-data/rawdata/2012년_12월_전국_실거래가_아파트(매매).xls\"\n",
       " [85] \"r-ggagi-data/rawdata/2013년_01월_전국_실거래가_아파트(매매).xls\"\n",
       " [86] \"r-ggagi-data/rawdata/2013년_02월_전국_실거래가_아파트(매매).xls\"\n",
       " [87] \"r-ggagi-data/rawdata/2013년_03월_전국_실거래가_아파트(매매).xls\"\n",
       " [88] \"r-ggagi-data/rawdata/2013년_04월_전국_실거래가_아파트(매매).xls\"\n",
       " [89] \"r-ggagi-data/rawdata/2013년_05월_전국_실거래가_아파트(매매).xls\"\n",
       " [90] \"r-ggagi-data/rawdata/2013년_06월_전국_실거래가_아파트(매매).xls\"\n",
       " [91] \"r-ggagi-data/rawdata/2013년_07월_전국_실거래가_아파트(매매).xls\"\n",
       " [92] \"r-ggagi-data/rawdata/2013년_08월_전국_실거래가_아파트(매매).xls\"\n",
       " [93] \"r-ggagi-data/rawdata/2013년_09월_전국_실거래가_아파트(매매).xls\"\n",
       " [94] \"r-ggagi-data/rawdata/2013년_10월_전국_실거래가_아파트(매매).xls\"\n",
       " [95] \"r-ggagi-data/rawdata/2013년_11월_전국_실거래가_아파트(매매).xls\"\n",
       " [96] \"r-ggagi-data/rawdata/2013년_12월_전국_실거래가_아파트(매매).xls\"\n",
       " [97] \"r-ggagi-data/rawdata/2014년_01월_전국_실거래가_아파트(매매).xls\"\n",
       " [98] \"r-ggagi-data/rawdata/2014년_02월_전국_실거래가_아파트(매매).xls\"\n",
       " [99] \"r-ggagi-data/rawdata/2014년_03월_전국_실거래가_아파트(매매).xls\"\n",
       "[100] \"r-ggagi-data/rawdata/2014년_04월_전국_실거래가_아파트(매매).xls\"\n",
       "[101] \"r-ggagi-data/rawdata/2014년_05월_전국_실거래가_아파트(매매).xls\"\n",
       "[102] \"r-ggagi-data/rawdata/2014년_06월_전국_실거래가_아파트(매매).xls\"\n",
       "[103] \"r-ggagi-data/rawdata/2014년_07월_전국_실거래가_아파트(매매).xls\"\n",
       "[104] \"r-ggagi-data/rawdata/2014년_08월_전국_실거래가_아파트(매매).xls\"\n",
       "[105] \"r-ggagi-data/rawdata/2014년_09월_전국_실거래가_아파트(매매).xls\"\n",
       "[106] \"r-ggagi-data/rawdata/2014년_10월_전국_실거래가_아파트(매매).xls\"\n",
       "[107] \"r-ggagi-data/rawdata/2014년_11월_전국_실거래가_아파트(매매).xls\"\n",
       "[108] \"r-ggagi-data/rawdata/2014년_12월_전국_실거래가_아파트(매매).xls\""
      ]
     },
     "metadata": {},
     "output_type": "display_data"
    }
   ],
   "source": [
    "files"
   ]
  },
  {
   "cell_type": "code",
   "execution_count": null,
   "metadata": {},
   "outputs": [],
   "source": [
    "# paste0() : 문자열 붙일때\n",
    "# substr(files[i], 1,2) : files[i]문자열의 1,2인덱스를 선택.\n",
    "# for(i in 1:length(files)){\n",
    "#     t <- read_excel(path=paste0(\"r-ggagi-data/rawdata\",\"/\",files[i]), sheet=1, col_names=T)\n",
    "#     t <- mutate(t, date=paste0(substr(files[i], 1,4),\"-\", month=substr(files[i], 7,8), \"-10\"))\n",
    "#     df <- rbind(df,t)\n",
    "# }"
   ]
  },
  {
   "cell_type": "code",
   "execution_count": 53,
   "metadata": {},
   "outputs": [],
   "source": [
    "df <- NULL\n",
    "for(i in 1:length(files)){\n",
    "    t <- read_excel(path=files[i], sheet=1, col_names=T)\n",
    "    t <- mutate(t, date=paste0(substr(files[i],24,25), \"-\", month=substr(files[i], 28,29), \"-10\"))\n",
    "    df <- rbind(df, t)\n",
    "}"
   ]
  },
  {
   "cell_type": "code",
   "execution_count": 101,
   "metadata": {},
   "outputs": [
    {
     "data": {
      "text/html": [
       "<table>\n",
       "<caption>A tibble: 6 × 11</caption>\n",
       "<thead>\n",
       "\t<tr><th scope=col>시군구</th><th scope=col>본번</th><th scope=col>부번</th><th scope=col>단지명</th><th scope=col>전용면적(m2)</th><th scope=col>계약일</th><th scope=col>거래금액(만원)</th><th scope=col>층</th><th scope=col>건축년도</th><th scope=col>도로명주소</th><th scope=col>date</th></tr>\n",
       "\t<tr><th scope=col>&lt;chr&gt;</th><th scope=col>&lt;dbl&gt;</th><th scope=col>&lt;dbl&gt;</th><th scope=col>&lt;chr&gt;</th><th scope=col>&lt;dbl&gt;</th><th scope=col>&lt;chr&gt;</th><th scope=col>&lt;chr&gt;</th><th scope=col>&lt;chr&gt;</th><th scope=col>&lt;dbl&gt;</th><th scope=col>&lt;chr&gt;</th><th scope=col>&lt;chr&gt;</th></tr>\n",
       "</thead>\n",
       "<tbody>\n",
       "\t<tr><td>서울특별시 강남구 개포동</td><td>12</td><td>0</td><td>대청</td><td>39.53</td><td>21~31</td><td>22,300</td><td>15</td><td>1992</td><td>개포로109길</td><td>06-01-10</td></tr>\n",
       "\t<tr><td>서울특별시 강남구 개포동</td><td>12</td><td>0</td><td>대청</td><td>39.53</td><td>1~10 </td><td>24,800</td><td>5 </td><td>1992</td><td>개포로109길</td><td>06-01-10</td></tr>\n",
       "\t<tr><td>서울특별시 강남구 개포동</td><td>12</td><td>0</td><td>대청</td><td>39.53</td><td>11~20</td><td>23,720</td><td>15</td><td>1992</td><td>개포로109길</td><td>06-01-10</td></tr>\n",
       "\t<tr><td>서울특별시 강남구 개포동</td><td>12</td><td>0</td><td>대청</td><td>51.12</td><td>11~20</td><td>33,700</td><td>8 </td><td>1992</td><td>개포로109길</td><td>06-01-10</td></tr>\n",
       "\t<tr><td>서울특별시 강남구 개포동</td><td>12</td><td>0</td><td>대청</td><td>60.00</td><td>11~20</td><td>44,000</td><td>14</td><td>1992</td><td>개포로109길</td><td>06-01-10</td></tr>\n",
       "\t<tr><td>서울특별시 강남구 개포동</td><td>12</td><td>0</td><td>대청</td><td>60.00</td><td>11~20</td><td>44,000</td><td>7 </td><td>1992</td><td>개포로109길</td><td>06-01-10</td></tr>\n",
       "</tbody>\n",
       "</table>\n"
      ],
      "text/latex": [
       "A tibble: 6 × 11\n",
       "\\begin{tabular}{lllllllllll}\n",
       " 시군구 & 본번 & 부번 & 단지명 & 전용면적(m2) & 계약일 & 거래금액(만원) & 층 & 건축년도 & 도로명주소 & date\\\\\n",
       " <chr> & <dbl> & <dbl> & <chr> & <dbl> & <chr> & <chr> & <chr> & <dbl> & <chr> & <chr>\\\\\n",
       "\\hline\n",
       "\t 서울특별시 강남구 개포동 & 12 & 0 & 대청 & 39.53 & 21\\textasciitilde{}31 & 22,300 & 15 & 1992 & 개포로109길 & 06-01-10\\\\\n",
       "\t 서울특별시 강남구 개포동 & 12 & 0 & 대청 & 39.53 & 1\\textasciitilde{}10  & 24,800 & 5  & 1992 & 개포로109길 & 06-01-10\\\\\n",
       "\t 서울특별시 강남구 개포동 & 12 & 0 & 대청 & 39.53 & 11\\textasciitilde{}20 & 23,720 & 15 & 1992 & 개포로109길 & 06-01-10\\\\\n",
       "\t 서울특별시 강남구 개포동 & 12 & 0 & 대청 & 51.12 & 11\\textasciitilde{}20 & 33,700 & 8  & 1992 & 개포로109길 & 06-01-10\\\\\n",
       "\t 서울특별시 강남구 개포동 & 12 & 0 & 대청 & 60.00 & 11\\textasciitilde{}20 & 44,000 & 14 & 1992 & 개포로109길 & 06-01-10\\\\\n",
       "\t 서울특별시 강남구 개포동 & 12 & 0 & 대청 & 60.00 & 11\\textasciitilde{}20 & 44,000 & 7  & 1992 & 개포로109길 & 06-01-10\\\\\n",
       "\\end{tabular}\n"
      ],
      "text/markdown": [
       "\n",
       "A tibble: 6 × 11\n",
       "\n",
       "| 시군구 &lt;chr&gt; | 본번 &lt;dbl&gt; | 부번 &lt;dbl&gt; | 단지명 &lt;chr&gt; | 전용면적(m2) &lt;dbl&gt; | 계약일 &lt;chr&gt; | 거래금액(만원) &lt;chr&gt; | 층 &lt;chr&gt; | 건축년도 &lt;dbl&gt; | 도로명주소 &lt;chr&gt; | date &lt;chr&gt; |\n",
       "|---|---|---|---|---|---|---|---|---|---|---|\n",
       "| 서울특별시 강남구 개포동 | 12 | 0 | 대청 | 39.53 | 21~31 | 22,300 | 15 | 1992 | 개포로109길 | 06-01-10 |\n",
       "| 서울특별시 강남구 개포동 | 12 | 0 | 대청 | 39.53 | 1~10  | 24,800 | 5  | 1992 | 개포로109길 | 06-01-10 |\n",
       "| 서울특별시 강남구 개포동 | 12 | 0 | 대청 | 39.53 | 11~20 | 23,720 | 15 | 1992 | 개포로109길 | 06-01-10 |\n",
       "| 서울특별시 강남구 개포동 | 12 | 0 | 대청 | 51.12 | 11~20 | 33,700 | 8  | 1992 | 개포로109길 | 06-01-10 |\n",
       "| 서울특별시 강남구 개포동 | 12 | 0 | 대청 | 60.00 | 11~20 | 44,000 | 14 | 1992 | 개포로109길 | 06-01-10 |\n",
       "| 서울특별시 강남구 개포동 | 12 | 0 | 대청 | 60.00 | 11~20 | 44,000 | 7  | 1992 | 개포로109길 | 06-01-10 |\n",
       "\n"
      ],
      "text/plain": [
       "  시군구                   본번 부번 단지명 전용면적(m2) 계약일 거래금액(만원)\n",
       "1 서울특별시 강남구 개포동 12   0    대청   39.53        21~31  22,300        \n",
       "2 서울특별시 강남구 개포동 12   0    대청   39.53        1~10   24,800        \n",
       "3 서울특별시 강남구 개포동 12   0    대청   39.53        11~20  23,720        \n",
       "4 서울특별시 강남구 개포동 12   0    대청   51.12        11~20  33,700        \n",
       "5 서울특별시 강남구 개포동 12   0    대청   60.00        11~20  44,000        \n",
       "6 서울특별시 강남구 개포동 12   0    대청   60.00        11~20  44,000        \n",
       "  층 건축년도 도로명주소  date    \n",
       "1 15 1992     개포로109길 06-01-10\n",
       "2 5  1992     개포로109길 06-01-10\n",
       "3 15 1992     개포로109길 06-01-10\n",
       "4 8  1992     개포로109길 06-01-10\n",
       "5 14 1992     개포로109길 06-01-10\n",
       "6 7  1992     개포로109길 06-01-10"
      ]
     },
     "metadata": {},
     "output_type": "display_data"
    }
   ],
   "source": [
    "head(df)"
   ]
  },
  {
   "cell_type": "code",
   "execution_count": 104,
   "metadata": {},
   "outputs": [],
   "source": [
    "df2 <- df"
   ]
  },
  {
   "cell_type": "code",
   "execution_count": 105,
   "metadata": {},
   "outputs": [],
   "source": [
    "colnames(df2) <- c(\"시군구\", \"본번\", \"부번\", \"단지명\", \"전용면적\", \"계약일\", \"거래금액\", \"층\", \"건축년도\", \"도로명주소\", \"date\")"
   ]
  },
  {
   "cell_type": "code",
   "execution_count": null,
   "metadata": {},
   "outputs": [],
   "source": [
    "\n",
    "df2$거래금액 <- gsub(\",\",\"\",df2$거래금액)"
   ]
  },
  {
   "cell_type": "code",
   "execution_count": 106,
   "metadata": {},
   "outputs": [],
   "source": [
    "## data.frame() : stringsAsFactors=F가 디폴트. -> factor로 변환하려면 T\n",
    "df3 <- data.frame(date=df2$date, \n",
    "                  addr=df2$시군구, \n",
    "                  val=df2$거래금액, \n",
    "                  stringsAsFactors=T)"
   ]
  },
  {
   "cell_type": "code",
   "execution_count": 72,
   "metadata": {},
   "outputs": [],
   "source": [
    "## chr -> factor로 바꾼후 integer로 바꿀수있음.\n",
    "# df3[['date']] <- as.factor(df3[['date']])\n",
    "# df3[['addr']] <- as.factor(df3[['addr']])\n",
    "# df3[['val']] <- as.factor(df3[['val']])"
   ]
  },
  {
   "cell_type": "code",
   "execution_count": 107,
   "metadata": {},
   "outputs": [
    {
     "name": "stdout",
     "output_type": "stream",
     "text": [
      "'data.frame':\t588766 obs. of  3 variables:\n",
      " $ date: Factor w/ 108 levels \"06-01-10\",\"06-02-10\",..: 1 1 1 1 1 1 1 1 1 1 ...\n",
      " $ addr: Factor w/ 326 levels \"서울특별시 강남구 개포동\",..: 1 1 1 1 1 1 1 1 1 1 ...\n",
      " $ val : Factor w/ 10757 levels \"10,000\",\"10,019\",..: 2961 3434 3248 4975 6778 6778 6906 1606 2236 3421 ...\n"
     ]
    }
   ],
   "source": [
    "str(df3)"
   ]
  },
  {
   "cell_type": "code",
   "execution_count": 109,
   "metadata": {},
   "outputs": [],
   "source": [
    "## 구매금액을 숫자로 바꾸기 위해 , 제거\n",
    "df3['val'] <- gsub(\",\",\"\",df3[['val']])\n",
    "#같음 : df3['val'] <- str_replace_all(df3[['val']], ',','')"
   ]
  },
  {
   "cell_type": "code",
   "execution_count": 110,
   "metadata": {},
   "outputs": [
    {
     "name": "stdout",
     "output_type": "stream",
     "text": [
      "'data.frame':\t588766 obs. of  3 variables:\n",
      " $ date: Factor w/ 108 levels \"06-01-10\",\"06-02-10\",..: 1 1 1 1 1 1 1 1 1 1 ...\n",
      " $ addr: Factor w/ 326 levels \"서울특별시 강남구 개포동\",..: 1 1 1 1 1 1 1 1 1 1 ...\n",
      " $ val : int  22300 24800 23720 33700 44000 44000 45250 15900 18400 24700 ...\n"
     ]
    }
   ],
   "source": [
    "## integer로 변환.\n",
    "df3[['val']] <- as.integer(df3[['val']])\n",
    "str(df3)"
   ]
  },
  {
   "cell_type": "code",
   "execution_count": 112,
   "metadata": {},
   "outputs": [
    {
     "data": {
      "text/html": [
       "<table>\n",
       "<caption>A data.frame: 6 × 3</caption>\n",
       "<thead>\n",
       "\t<tr><th></th><th scope=col>date</th><th scope=col>addr</th><th scope=col>val</th></tr>\n",
       "\t<tr><th></th><th scope=col>&lt;fct&gt;</th><th scope=col>&lt;fct&gt;</th><th scope=col>&lt;int&gt;</th></tr>\n",
       "</thead>\n",
       "<tbody>\n",
       "\t<tr><th scope=row>1</th><td>06-01-10</td><td>서울특별시 강남구 개포동</td><td>22300</td></tr>\n",
       "\t<tr><th scope=row>2</th><td>06-01-10</td><td>서울특별시 강남구 개포동</td><td>24800</td></tr>\n",
       "\t<tr><th scope=row>3</th><td>06-01-10</td><td>서울특별시 강남구 개포동</td><td>23720</td></tr>\n",
       "\t<tr><th scope=row>4</th><td>06-01-10</td><td>서울특별시 강남구 개포동</td><td>33700</td></tr>\n",
       "\t<tr><th scope=row>5</th><td>06-01-10</td><td>서울특별시 강남구 개포동</td><td>44000</td></tr>\n",
       "\t<tr><th scope=row>6</th><td>06-01-10</td><td>서울특별시 강남구 개포동</td><td>44000</td></tr>\n",
       "</tbody>\n",
       "</table>\n"
      ],
      "text/latex": [
       "A data.frame: 6 × 3\n",
       "\\begin{tabular}{r|lll}\n",
       "  & date & addr & val\\\\\n",
       "  & <fct> & <fct> & <int>\\\\\n",
       "\\hline\n",
       "\t1 & 06-01-10 & 서울특별시 강남구 개포동 & 22300\\\\\n",
       "\t2 & 06-01-10 & 서울특별시 강남구 개포동 & 24800\\\\\n",
       "\t3 & 06-01-10 & 서울특별시 강남구 개포동 & 23720\\\\\n",
       "\t4 & 06-01-10 & 서울특별시 강남구 개포동 & 33700\\\\\n",
       "\t5 & 06-01-10 & 서울특별시 강남구 개포동 & 44000\\\\\n",
       "\t6 & 06-01-10 & 서울특별시 강남구 개포동 & 44000\\\\\n",
       "\\end{tabular}\n"
      ],
      "text/markdown": [
       "\n",
       "A data.frame: 6 × 3\n",
       "\n",
       "| <!--/--> | date &lt;fct&gt; | addr &lt;fct&gt; | val &lt;int&gt; |\n",
       "|---|---|---|---|\n",
       "| 1 | 06-01-10 | 서울특별시 강남구 개포동 | 22300 |\n",
       "| 2 | 06-01-10 | 서울특별시 강남구 개포동 | 24800 |\n",
       "| 3 | 06-01-10 | 서울특별시 강남구 개포동 | 23720 |\n",
       "| 4 | 06-01-10 | 서울특별시 강남구 개포동 | 33700 |\n",
       "| 5 | 06-01-10 | 서울특별시 강남구 개포동 | 44000 |\n",
       "| 6 | 06-01-10 | 서울특별시 강남구 개포동 | 44000 |\n",
       "\n"
      ],
      "text/plain": [
       "  date     addr                     val  \n",
       "1 06-01-10 서울특별시 강남구 개포동 22300\n",
       "2 06-01-10 서울특별시 강남구 개포동 24800\n",
       "3 06-01-10 서울특별시 강남구 개포동 23720\n",
       "4 06-01-10 서울특별시 강남구 개포동 33700\n",
       "5 06-01-10 서울특별시 강남구 개포동 44000\n",
       "6 06-01-10 서울특별시 강남구 개포동 44000"
      ]
     },
     "metadata": {},
     "output_type": "display_data"
    }
   ],
   "source": [
    "head(df3)"
   ]
  },
  {
   "cell_type": "code",
   "execution_count": 113,
   "metadata": {},
   "outputs": [
    {
     "name": "stdout",
     "output_type": "stream",
     "text": [
      "'data.frame':\t588766 obs. of  3 variables:\n",
      " $ X1: chr  \"서울특별시\" \"서울특별시\" \"서울특별시\" \"서울특별시\" ...\n",
      " $ X2: chr  \"강남구\" \"강남구\" \"강남구\" \"강남구\" ...\n",
      " $ X3: chr  \"개포동\" \"개포동\" \"개포동\" \"개포동\" ...\n"
     ]
    }
   ],
   "source": [
    "## 주소변환 : 구단위까지\n",
    "## str_split_fixed(df3의 2열을, 공백기준으로, 몇개로 나눔.)\n",
    "city <- str_split_fixed(df3[,2], \" \", 3)\n",
    "city <- data.frame(city)\n",
    "str(city)"
   ]
  },
  {
   "cell_type": "code",
   "execution_count": 114,
   "metadata": {},
   "outputs": [
    {
     "name": "stdout",
     "output_type": "stream",
     "text": [
      "'data.frame':\t588766 obs. of  3 variables:\n",
      " $ date: Factor w/ 108 levels \"06-01-10\",\"06-02-10\",..: 1 1 1 1 1 1 1 1 1 1 ...\n",
      " $ addr: chr  \"강남구\" \"강남구\" \"강남구\" \"강남구\" ...\n",
      " $ val : int  22300 24800 23720 33700 44000 44000 45250 15900 18400 24700 ...\n"
     ]
    }
   ],
   "source": [
    "df4 <- data.frame(date=df3[,1], addr=city[,2], val=df3[,3])\n",
    "str(df4)"
   ]
  },
  {
   "cell_type": "code",
   "execution_count": 115,
   "metadata": {},
   "outputs": [
    {
     "data": {
      "text/html": [
       "<table>\n",
       "<caption>A data.frame: 6 × 3</caption>\n",
       "<thead>\n",
       "\t<tr><th></th><th scope=col>date</th><th scope=col>addr</th><th scope=col>val</th></tr>\n",
       "\t<tr><th></th><th scope=col>&lt;fct&gt;</th><th scope=col>&lt;chr&gt;</th><th scope=col>&lt;int&gt;</th></tr>\n",
       "</thead>\n",
       "<tbody>\n",
       "\t<tr><th scope=row>1</th><td>06-01-10</td><td>강남구</td><td>22300</td></tr>\n",
       "\t<tr><th scope=row>2</th><td>06-01-10</td><td>강남구</td><td>24800</td></tr>\n",
       "\t<tr><th scope=row>3</th><td>06-01-10</td><td>강남구</td><td>23720</td></tr>\n",
       "\t<tr><th scope=row>4</th><td>06-01-10</td><td>강남구</td><td>33700</td></tr>\n",
       "\t<tr><th scope=row>5</th><td>06-01-10</td><td>강남구</td><td>44000</td></tr>\n",
       "\t<tr><th scope=row>6</th><td>06-01-10</td><td>강남구</td><td>44000</td></tr>\n",
       "</tbody>\n",
       "</table>\n"
      ],
      "text/latex": [
       "A data.frame: 6 × 3\n",
       "\\begin{tabular}{r|lll}\n",
       "  & date & addr & val\\\\\n",
       "  & <fct> & <chr> & <int>\\\\\n",
       "\\hline\n",
       "\t1 & 06-01-10 & 강남구 & 22300\\\\\n",
       "\t2 & 06-01-10 & 강남구 & 24800\\\\\n",
       "\t3 & 06-01-10 & 강남구 & 23720\\\\\n",
       "\t4 & 06-01-10 & 강남구 & 33700\\\\\n",
       "\t5 & 06-01-10 & 강남구 & 44000\\\\\n",
       "\t6 & 06-01-10 & 강남구 & 44000\\\\\n",
       "\\end{tabular}\n"
      ],
      "text/markdown": [
       "\n",
       "A data.frame: 6 × 3\n",
       "\n",
       "| <!--/--> | date &lt;fct&gt; | addr &lt;chr&gt; | val &lt;int&gt; |\n",
       "|---|---|---|---|\n",
       "| 1 | 06-01-10 | 강남구 | 22300 |\n",
       "| 2 | 06-01-10 | 강남구 | 24800 |\n",
       "| 3 | 06-01-10 | 강남구 | 23720 |\n",
       "| 4 | 06-01-10 | 강남구 | 33700 |\n",
       "| 5 | 06-01-10 | 강남구 | 44000 |\n",
       "| 6 | 06-01-10 | 강남구 | 44000 |\n",
       "\n"
      ],
      "text/plain": [
       "  date     addr   val  \n",
       "1 06-01-10 강남구 22300\n",
       "2 06-01-10 강남구 24800\n",
       "3 06-01-10 강남구 23720\n",
       "4 06-01-10 강남구 33700\n",
       "5 06-01-10 강남구 44000\n",
       "6 06-01-10 강남구 44000"
      ]
     },
     "metadata": {},
     "output_type": "display_data"
    }
   ],
   "source": [
    "head(df4)"
   ]
  },
  {
   "cell_type": "code",
   "execution_count": 130,
   "metadata": {},
   "outputs": [
    {
     "name": "stderr",
     "output_type": "stream",
     "text": [
      "`summarise()` regrouping output by 'date' (override with `.groups` argument)\n",
      "\n"
     ]
    },
    {
     "data": {
      "text/html": [
       "<table>\n",
       "<caption>A grouped_df: 6 × 3</caption>\n",
       "<thead>\n",
       "\t<tr><th scope=col>date</th><th scope=col>addr</th><th scope=col>mean(val)</th></tr>\n",
       "\t<tr><th scope=col>&lt;fct&gt;</th><th scope=col>&lt;chr&gt;</th><th scope=col>&lt;dbl&gt;</th></tr>\n",
       "</thead>\n",
       "<tbody>\n",
       "\t<tr><td>06-01-10</td><td>강남구</td><td>76892.96</td></tr>\n",
       "\t<tr><td>06-01-10</td><td>강동구</td><td>39031.67</td></tr>\n",
       "\t<tr><td>06-01-10</td><td>강북구</td><td>18964.91</td></tr>\n",
       "\t<tr><td>06-01-10</td><td>강서구</td><td>25348.86</td></tr>\n",
       "\t<tr><td>06-01-10</td><td>관악구</td><td>24570.44</td></tr>\n",
       "\t<tr><td>06-01-10</td><td>광진구</td><td>37802.83</td></tr>\n",
       "</tbody>\n",
       "</table>\n"
      ],
      "text/latex": [
       "A grouped\\_df: 6 × 3\n",
       "\\begin{tabular}{lll}\n",
       " date & addr & mean(val)\\\\\n",
       " <fct> & <chr> & <dbl>\\\\\n",
       "\\hline\n",
       "\t 06-01-10 & 강남구 & 76892.96\\\\\n",
       "\t 06-01-10 & 강동구 & 39031.67\\\\\n",
       "\t 06-01-10 & 강북구 & 18964.91\\\\\n",
       "\t 06-01-10 & 강서구 & 25348.86\\\\\n",
       "\t 06-01-10 & 관악구 & 24570.44\\\\\n",
       "\t 06-01-10 & 광진구 & 37802.83\\\\\n",
       "\\end{tabular}\n"
      ],
      "text/markdown": [
       "\n",
       "A grouped_df: 6 × 3\n",
       "\n",
       "| date &lt;fct&gt; | addr &lt;chr&gt; | mean(val) &lt;dbl&gt; |\n",
       "|---|---|---|\n",
       "| 06-01-10 | 강남구 | 76892.96 |\n",
       "| 06-01-10 | 강동구 | 39031.67 |\n",
       "| 06-01-10 | 강북구 | 18964.91 |\n",
       "| 06-01-10 | 강서구 | 25348.86 |\n",
       "| 06-01-10 | 관악구 | 24570.44 |\n",
       "| 06-01-10 | 광진구 | 37802.83 |\n",
       "\n"
      ],
      "text/plain": [
       "  date     addr   mean(val)\n",
       "1 06-01-10 강남구 76892.96 \n",
       "2 06-01-10 강동구 39031.67 \n",
       "3 06-01-10 강북구 18964.91 \n",
       "4 06-01-10 강서구 25348.86 \n",
       "5 06-01-10 관악구 24570.44 \n",
       "6 06-01-10 광진구 37802.83 "
      ]
     },
     "metadata": {},
     "output_type": "display_data"
    }
   ],
   "source": [
    "## 날짜별로 구별 평균가격을 구하기\n",
    "df5 <- df4 %>% group_by(date, addr) %>% summarise(mean(val))\n",
    "head(df5)"
   ]
  },
  {
   "cell_type": "code",
   "execution_count": 131,
   "metadata": {},
   "outputs": [
    {
     "data": {
      "text/html": [
       "<table>\n",
       "<caption>A grouped_df: 6 × 3</caption>\n",
       "<thead>\n",
       "\t<tr><th scope=col>date</th><th scope=col>addr</th><th scope=col>val</th></tr>\n",
       "\t<tr><th scope=col>&lt;chr&gt;</th><th scope=col>&lt;chr&gt;</th><th scope=col>&lt;dbl&gt;</th></tr>\n",
       "</thead>\n",
       "<tbody>\n",
       "\t<tr><td>06-01-10</td><td>강남구</td><td>153.78591</td></tr>\n",
       "\t<tr><td>06-01-10</td><td>강동구</td><td> 78.06334</td></tr>\n",
       "\t<tr><td>06-01-10</td><td>강북구</td><td> 37.92981</td></tr>\n",
       "\t<tr><td>06-01-10</td><td>강서구</td><td> 50.69771</td></tr>\n",
       "\t<tr><td>06-01-10</td><td>관악구</td><td> 49.14088</td></tr>\n",
       "\t<tr><td>06-01-10</td><td>광진구</td><td> 75.60566</td></tr>\n",
       "</tbody>\n",
       "</table>\n"
      ],
      "text/latex": [
       "A grouped\\_df: 6 × 3\n",
       "\\begin{tabular}{lll}\n",
       " date & addr & val\\\\\n",
       " <chr> & <chr> & <dbl>\\\\\n",
       "\\hline\n",
       "\t 06-01-10 & 강남구 & 153.78591\\\\\n",
       "\t 06-01-10 & 강동구 &  78.06334\\\\\n",
       "\t 06-01-10 & 강북구 &  37.92981\\\\\n",
       "\t 06-01-10 & 강서구 &  50.69771\\\\\n",
       "\t 06-01-10 & 관악구 &  49.14088\\\\\n",
       "\t 06-01-10 & 광진구 &  75.60566\\\\\n",
       "\\end{tabular}\n"
      ],
      "text/markdown": [
       "\n",
       "A grouped_df: 6 × 3\n",
       "\n",
       "| date &lt;chr&gt; | addr &lt;chr&gt; | val &lt;dbl&gt; |\n",
       "|---|---|---|\n",
       "| 06-01-10 | 강남구 | 153.78591 |\n",
       "| 06-01-10 | 강동구 |  78.06334 |\n",
       "| 06-01-10 | 강북구 |  37.92981 |\n",
       "| 06-01-10 | 강서구 |  50.69771 |\n",
       "| 06-01-10 | 관악구 |  49.14088 |\n",
       "| 06-01-10 | 광진구 |  75.60566 |\n",
       "\n"
      ],
      "text/plain": [
       "  date     addr   val      \n",
       "1 06-01-10 강남구 153.78591\n",
       "2 06-01-10 강동구  78.06334\n",
       "3 06-01-10 강북구  37.92981\n",
       "4 06-01-10 강서구  50.69771\n",
       "5 06-01-10 관악구  49.14088\n",
       "6 06-01-10 광진구  75.60566"
      ]
     },
     "metadata": {},
     "output_type": "display_data"
    }
   ],
   "source": [
    "colnames(df5)[3] <- 'val'\n",
    "df5[['date']] <- as.character(df5[['date']])\n",
    "df5$val <- df5$val/500\n",
    "head(df5)"
   ]
  },
  {
   "cell_type": "code",
   "execution_count": 137,
   "metadata": {},
   "outputs": [
    {
     "name": "stdout",
     "output_type": "stream",
     "text": [
      "tibble [2,700 x 3] (S3: grouped_df/tbl_df/tbl/data.frame)\n",
      " $ date: chr [1:2700] \"06-01-10\" \"06-01-10\" \"06-01-10\" \"06-01-10\" ...\n",
      " $ addr: chr [1:2700] \"강남구\" \"강동구\" \"강북구\" \"강서구\" ...\n",
      " $ val : num [1:2700] 153.8 78.1 37.9 50.7 49.1 ...\n",
      " - attr(*, \"groups\")= tibble [108 x 2] (S3: tbl_df/tbl/data.frame)\n",
      "  ..$ date : chr [1:108] \"06-01-10\" \"06-02-10\" \"06-03-10\" \"06-04-10\" ...\n",
      "  ..$ .rows: list<int> [1:108] \n",
      "  .. ..$ : int [1:25] 1 2 3 4 5 6 7 8 9 10 ...\n",
      "  .. ..$ : int [1:25] 26 27 28 29 30 31 32 33 34 35 ...\n",
      "  .. ..$ : int [1:25] 51 52 53 54 55 56 57 58 59 60 ...\n",
      "  .. ..$ : int [1:25] 76 77 78 79 80 81 82 83 84 85 ...\n",
      "  .. ..$ : int [1:25] 101 102 103 104 105 106 107 108 109 110 ...\n",
      "  .. ..$ : int [1:25] 126 127 128 129 130 131 132 133 134 135 ...\n",
      "  .. ..$ : int [1:25] 151 152 153 154 155 156 157 158 159 160 ...\n",
      "  .. ..$ : int [1:25] 176 177 178 179 180 181 182 183 184 185 ...\n",
      "  .. ..$ : int [1:25] 201 202 203 204 205 206 207 208 209 210 ...\n",
      "  .. ..$ : int [1:25] 226 227 228 229 230 231 232 233 234 235 ...\n",
      "  .. ..$ : int [1:25] 251 252 253 254 255 256 257 258 259 260 ...\n",
      "  .. ..$ : int [1:25] 276 277 278 279 280 281 282 283 284 285 ...\n",
      "  .. ..$ : int [1:25] 301 302 303 304 305 306 307 308 309 310 ...\n",
      "  .. ..$ : int [1:25] 326 327 328 329 330 331 332 333 334 335 ...\n",
      "  .. ..$ : int [1:25] 351 352 353 354 355 356 357 358 359 360 ...\n",
      "  .. ..$ : int [1:25] 376 377 378 379 380 381 382 383 384 385 ...\n",
      "  .. ..$ : int [1:25] 401 402 403 404 405 406 407 408 409 410 ...\n",
      "  .. ..$ : int [1:25] 426 427 428 429 430 431 432 433 434 435 ...\n",
      "  .. ..$ : int [1:25] 451 452 453 454 455 456 457 458 459 460 ...\n",
      "  .. ..$ : int [1:25] 476 477 478 479 480 481 482 483 484 485 ...\n",
      "  .. ..$ : int [1:25] 501 502 503 504 505 506 507 508 509 510 ...\n",
      "  .. ..$ : int [1:25] 526 527 528 529 530 531 532 533 534 535 ...\n",
      "  .. ..$ : int [1:25] 551 552 553 554 555 556 557 558 559 560 ...\n",
      "  .. ..$ : int [1:25] 576 577 578 579 580 581 582 583 584 585 ...\n",
      "  .. ..$ : int [1:25] 601 602 603 604 605 606 607 608 609 610 ...\n",
      "  .. ..$ : int [1:25] 626 627 628 629 630 631 632 633 634 635 ...\n",
      "  .. ..$ : int [1:25] 651 652 653 654 655 656 657 658 659 660 ...\n",
      "  .. ..$ : int [1:25] 676 677 678 679 680 681 682 683 684 685 ...\n",
      "  .. ..$ : int [1:25] 701 702 703 704 705 706 707 708 709 710 ...\n",
      "  .. ..$ : int [1:25] 726 727 728 729 730 731 732 733 734 735 ...\n",
      "  .. ..$ : int [1:25] 751 752 753 754 755 756 757 758 759 760 ...\n",
      "  .. ..$ : int [1:25] 776 777 778 779 780 781 782 783 784 785 ...\n",
      "  .. ..$ : int [1:25] 801 802 803 804 805 806 807 808 809 810 ...\n",
      "  .. ..$ : int [1:25] 826 827 828 829 830 831 832 833 834 835 ...\n",
      "  .. ..$ : int [1:25] 851 852 853 854 855 856 857 858 859 860 ...\n",
      "  .. ..$ : int [1:25] 876 877 878 879 880 881 882 883 884 885 ...\n",
      "  .. ..$ : int [1:25] 901 902 903 904 905 906 907 908 909 910 ...\n",
      "  .. ..$ : int [1:25] 926 927 928 929 930 931 932 933 934 935 ...\n",
      "  .. ..$ : int [1:25] 951 952 953 954 955 956 957 958 959 960 ...\n",
      "  .. ..$ : int [1:25] 976 977 978 979 980 981 982 983 984 985 ...\n",
      "  .. ..$ : int [1:25] 1001 1002 1003 1004 1005 1006 1007 1008 1009 1010 ...\n",
      "  .. ..$ : int [1:25] 1026 1027 1028 1029 1030 1031 1032 1033 1034 1035 ...\n",
      "  .. ..$ : int [1:25] 1051 1052 1053 1054 1055 1056 1057 1058 1059 1060 ...\n",
      "  .. ..$ : int [1:25] 1076 1077 1078 1079 1080 1081 1082 1083 1084 1085 ...\n",
      "  .. ..$ : int [1:25] 1101 1102 1103 1104 1105 1106 1107 1108 1109 1110 ...\n",
      "  .. ..$ : int [1:25] 1126 1127 1128 1129 1130 1131 1132 1133 1134 1135 ...\n",
      "  .. ..$ : int [1:25] 1151 1152 1153 1154 1155 1156 1157 1158 1159 1160 ...\n",
      "  .. ..$ : int [1:25] 1176 1177 1178 1179 1180 1181 1182 1183 1184 1185 ...\n",
      "  .. ..$ : int [1:25] 1201 1202 1203 1204 1205 1206 1207 1208 1209 1210 ...\n",
      "  .. ..$ : int [1:25] 1226 1227 1228 1229 1230 1231 1232 1233 1234 1235 ...\n",
      "  .. ..$ : int [1:25] 1251 1252 1253 1254 1255 1256 1257 1258 1259 1260 ...\n",
      "  .. ..$ : int [1:25] 1276 1277 1278 1279 1280 1281 1282 1283 1284 1285 ...\n",
      "  .. ..$ : int [1:25] 1301 1302 1303 1304 1305 1306 1307 1308 1309 1310 ...\n",
      "  .. ..$ : int [1:25] 1326 1327 1328 1329 1330 1331 1332 1333 1334 1335 ...\n",
      "  .. ..$ : int [1:25] 1351 1352 1353 1354 1355 1356 1357 1358 1359 1360 ...\n",
      "  .. ..$ : int [1:25] 1376 1377 1378 1379 1380 1381 1382 1383 1384 1385 ...\n",
      "  .. ..$ : int [1:25] 1401 1402 1403 1404 1405 1406 1407 1408 1409 1410 ...\n",
      "  .. ..$ : int [1:25] 1426 1427 1428 1429 1430 1431 1432 1433 1434 1435 ...\n",
      "  .. ..$ : int [1:25] 1451 1452 1453 1454 1455 1456 1457 1458 1459 1460 ...\n",
      "  .. ..$ : int [1:25] 1476 1477 1478 1479 1480 1481 1482 1483 1484 1485 ...\n",
      "  .. ..$ : int [1:25] 1501 1502 1503 1504 1505 1506 1507 1508 1509 1510 ...\n",
      "  .. ..$ : int [1:25] 1526 1527 1528 1529 1530 1531 1532 1533 1534 1535 ...\n",
      "  .. ..$ : int [1:25] 1551 1552 1553 1554 1555 1556 1557 1558 1559 1560 ...\n",
      "  .. ..$ : int [1:25] 1576 1577 1578 1579 1580 1581 1582 1583 1584 1585 ...\n",
      "  .. ..$ : int [1:25] 1601 1602 1603 1604 1605 1606 1607 1608 1609 1610 ...\n",
      "  .. ..$ : int [1:25] 1626 1627 1628 1629 1630 1631 1632 1633 1634 1635 ...\n",
      "  .. ..$ : int [1:25] 1651 1652 1653 1654 1655 1656 1657 1658 1659 1660 ...\n",
      "  .. ..$ : int [1:25] 1676 1677 1678 1679 1680 1681 1682 1683 1684 1685 ...\n",
      "  .. ..$ : int [1:25] 1701 1702 1703 1704 1705 1706 1707 1708 1709 1710 ...\n",
      "  .. ..$ : int [1:25] 1726 1727 1728 1729 1730 1731 1732 1733 1734 1735 ...\n",
      "  .. ..$ : int [1:25] 1751 1752 1753 1754 1755 1756 1757 1758 1759 1760 ...\n",
      "  .. ..$ : int [1:25] 1776 1777 1778 1779 1780 1781 1782 1783 1784 1785 ...\n",
      "  .. ..$ : int [1:25] 1801 1802 1803 1804 1805 1806 1807 1808 1809 1810 ...\n",
      "  .. ..$ : int [1:25] 1826 1827 1828 1829 1830 1831 1832 1833 1834 1835 ...\n",
      "  .. ..$ : int [1:25] 1851 1852 1853 1854 1855 1856 1857 1858 1859 1860 ...\n",
      "  .. ..$ : int [1:25] 1876 1877 1878 1879 1880 1881 1882 1883 1884 1885 ...\n",
      "  .. ..$ : int [1:25] 1901 1902 1903 1904 1905 1906 1907 1908 1909 1910 ...\n",
      "  .. ..$ : int [1:25] 1926 1927 1928 1929 1930 1931 1932 1933 1934 1935 ...\n",
      "  .. ..$ : int [1:25] 1951 1952 1953 1954 1955 1956 1957 1958 1959 1960 ...\n",
      "  .. ..$ : int [1:25] 1976 1977 1978 1979 1980 1981 1982 1983 1984 1985 ...\n",
      "  .. ..$ : int [1:25] 2001 2002 2003 2004 2005 2006 2007 2008 2009 2010 ...\n",
      "  .. ..$ : int [1:25] 2026 2027 2028 2029 2030 2031 2032 2033 2034 2035 ...\n",
      "  .. ..$ : int [1:25] 2051 2052 2053 2054 2055 2056 2057 2058 2059 2060 ...\n",
      "  .. ..$ : int [1:25] 2076 2077 2078 2079 2080 2081 2082 2083 2084 2085 ...\n",
      "  .. ..$ : int [1:25] 2101 2102 2103 2104 2105 2106 2107 2108 2109 2110 ...\n",
      "  .. ..$ : int [1:25] 2126 2127 2128 2129 2130 2131 2132 2133 2134 2135 ...\n",
      "  .. ..$ : int [1:25] 2151 2152 2153 2154 2155 2156 2157 2158 2159 2160 ...\n",
      "  .. ..$ : int [1:25] 2176 2177 2178 2179 2180 2181 2182 2183 2184 2185 ...\n",
      "  .. ..$ : int [1:25] 2201 2202 2203 2204 2205 2206 2207 2208 2209 2210 ...\n",
      "  .. ..$ : int [1:25] 2226 2227 2228 2229 2230 2231 2232 2233 2234 2235 ...\n",
      "  .. ..$ : int [1:25] 2251 2252 2253 2254 2255 2256 2257 2258 2259 2260 ...\n",
      "  .. ..$ : int [1:25] 2276 2277 2278 2279 2280 2281 2282 2283 2284 2285 ...\n",
      "  .. ..$ : int [1:25] 2301 2302 2303 2304 2305 2306 2307 2308 2309 2310 ...\n",
      "  .. ..$ : int [1:25] 2326 2327 2328 2329 2330 2331 2332 2333 2334 2335 ...\n",
      "  .. ..$ : int [1:25] 2351 2352 2353 2354 2355 2356 2357 2358 2359 2360 ...\n",
      "  .. ..$ : int [1:25] 2376 2377 2378 2379 2380 2381 2382 2383 2384 2385 ...\n",
      "  .. ..$ : int [1:25] 2401 2402 2403 2404 2405 2406 2407 2408 2409 2410 ...\n",
      "  .. ..$ : int [1:25] 2426 2427 2428 2429 2430 2431 2432 2433 2434 2435 ...\n",
      "  .. ..$ : int [1:25] 2451 2452 2453 2454 2455 2456 2457 2458 2459 2460 ...\n",
      "  .. .. [list output truncated]\n",
      "  .. ..@ ptype: int(0) \n",
      "  ..- attr(*, \".drop\")= logi TRUE\n"
     ]
    }
   ],
   "source": [
    "str(df5)"
   ]
  },
  {
   "cell_type": "code",
   "execution_count": 132,
   "metadata": {},
   "outputs": [],
   "source": [
    "g2 <- rCharts$new()"
   ]
  },
  {
   "cell_type": "code",
   "execution_count": 133,
   "metadata": {},
   "outputs": [],
   "source": [
    "g2$setLib('r-ggagi-data/libraries/nyt_home')\n",
    "g2$setTemplate(script='r-ggagi-data/libraries/nyt_home/layouts/nyt_home.html')"
   ]
  },
  {
   "cell_type": "code",
   "execution_count": 134,
   "metadata": {},
   "outputs": [],
   "source": [
    "g2$set(\n",
    "    description=\"This data comes from the 'rt.molit.go.kr' dataset\",\n",
    "    data = df5,\n",
    "    groups='addr'\n",
    ")"
   ]
  },
  {
   "cell_type": "code",
   "execution_count": 136,
   "metadata": {},
   "outputs": [],
   "source": [
    "g2"
   ]
  }
 ],
 "metadata": {
  "kernelspec": {
   "display_name": "R",
   "language": "R",
   "name": "ir"
  },
  "language_info": {
   "codemirror_mode": "r",
   "file_extension": ".r",
   "mimetype": "text/x-r-source",
   "name": "R",
   "pygments_lexer": "r",
   "version": "4.0.1"
  }
 },
 "nbformat": 4,
 "nbformat_minor": 4
}
