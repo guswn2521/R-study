{
 "cells": [
  {
   "cell_type": "markdown",
   "metadata": {},
   "source": [
    "수치형\n",
    "- 이산형 데이터 (integer) : 독립적 -> 확률질량함수\n",
    "- 연속형 데이터 : 연속적 -> 확률밀도함수\n",
    "\n",
    "범주형\n",
    "- 명목형 데이터 : 순서 없음\n",
    "- 순서형 데이터 : 순서 있음"
   ]
  },
  {
   "cell_type": "markdown",
   "metadata": {},
   "source": [
    "명목형 변수 (factor)\n",
    "- 도수분포표 : 값의 빈도수를 나타냄\n",
    "- 상대도수분포표 : 전체 변수값에 대한 비중을 나타냄 (< 1)\n",
    "\n",
    "연속형 변수 (numeric)\n",
    "- 도수분포표 : 값의 구간 -> 변수\n",
    "\n",
    "누적상대도수분포표 : 상대도수의 누적값\n"
   ]
  },
  {
   "cell_type": "code",
   "execution_count": 11,
   "metadata": {},
   "outputs": [
    {
     "data": {
      "text/html": [
       "<ol class=list-inline>\n",
       "\t<li>'numeric'</li>\n",
       "\t<li>'vector'</li>\n",
       "</ol>\n"
      ],
      "text/latex": [
       "\\begin{enumerate*}\n",
       "\\item 'numeric'\n",
       "\\item 'vector'\n",
       "\\end{enumerate*}\n"
      ],
      "text/markdown": [
       "1. 'numeric'\n",
       "2. 'vector'\n",
       "\n",
       "\n"
      ],
      "text/plain": [
       "[1] \"numeric\" \"vector\" "
      ]
     },
     "metadata": {},
     "output_type": "display_data"
    },
    {
     "data": {
      "text/html": [
       "<ol class=list-inline>\n",
       "\t<li>'integer'</li>\n",
       "\t<li>'double'</li>\n",
       "\t<li>'numeric'</li>\n",
       "\t<li>'vector'</li>\n",
       "\t<li>'data.frameRowLabels'</li>\n",
       "</ol>\n"
      ],
      "text/latex": [
       "\\begin{enumerate*}\n",
       "\\item 'integer'\n",
       "\\item 'double'\n",
       "\\item 'numeric'\n",
       "\\item 'vector'\n",
       "\\item 'data.frameRowLabels'\n",
       "\\end{enumerate*}\n"
      ],
      "text/markdown": [
       "1. 'integer'\n",
       "2. 'double'\n",
       "3. 'numeric'\n",
       "4. 'vector'\n",
       "5. 'data.frameRowLabels'\n",
       "\n",
       "\n"
      ],
      "text/plain": [
       "[1] \"integer\"             \"double\"              \"numeric\"            \n",
       "[4] \"vector\"              \"data.frameRowLabels\""
      ]
     },
     "metadata": {},
     "output_type": "display_data"
    },
    {
     "data": {
      "text/html": [
       "<ol class=list-inline>\n",
       "\t<li>1</li>\n",
       "\t<li>2</li>\n",
       "\t<li>3</li>\n",
       "\t<li>4</li>\n",
       "\t<li>5</li>\n",
       "</ol>\n"
      ],
      "text/latex": [
       "\\begin{enumerate*}\n",
       "\\item 1\n",
       "\\item 2\n",
       "\\item 3\n",
       "\\item 4\n",
       "\\item 5\n",
       "\\end{enumerate*}\n"
      ],
      "text/markdown": [
       "1. 1\n",
       "2. 2\n",
       "3. 3\n",
       "4. 4\n",
       "5. 5\n",
       "\n",
       "\n"
      ],
      "text/plain": [
       "[1] 1 2 3 4 5"
      ]
     },
     "metadata": {},
     "output_type": "display_data"
    },
    {
     "data": {
      "text/html": [
       "<ol class=list-inline>\n",
       "\t<li>'integer'</li>\n",
       "\t<li>'double'</li>\n",
       "\t<li>'numeric'</li>\n",
       "\t<li>'vector'</li>\n",
       "\t<li>'data.frameRowLabels'</li>\n",
       "</ol>\n"
      ],
      "text/latex": [
       "\\begin{enumerate*}\n",
       "\\item 'integer'\n",
       "\\item 'double'\n",
       "\\item 'numeric'\n",
       "\\item 'vector'\n",
       "\\item 'data.frameRowLabels'\n",
       "\\end{enumerate*}\n"
      ],
      "text/markdown": [
       "1. 'integer'\n",
       "2. 'double'\n",
       "3. 'numeric'\n",
       "4. 'vector'\n",
       "5. 'data.frameRowLabels'\n",
       "\n",
       "\n"
      ],
      "text/plain": [
       "[1] \"integer\"             \"double\"              \"numeric\"            \n",
       "[4] \"vector\"              \"data.frameRowLabels\""
      ]
     },
     "metadata": {},
     "output_type": "display_data"
    }
   ],
   "source": [
    "a1 <- c(1,2,3,4,5)\n",
    "is(a1)\n",
    "a2 <- c(1L,2L,3L)    ## 큰숫자\n",
    "is(a2)\n",
    "a3 <- as.integer(a1)  \n",
    "a3\n",
    "is(a3)"
   ]
  },
  {
   "cell_type": "code",
   "execution_count": 13,
   "metadata": {},
   "outputs": [
    {
     "data": {
      "text/html": [
       "<ol class=list-inline>\n",
       "\t<li>'a'</li>\n",
       "\t<li>'b'</li>\n",
       "\t<li>'c'</li>\n",
       "</ol>\n"
      ],
      "text/latex": [
       "\\begin{enumerate*}\n",
       "\\item 'a'\n",
       "\\item 'b'\n",
       "\\item 'c'\n",
       "\\end{enumerate*}\n"
      ],
      "text/markdown": [
       "1. 'a'\n",
       "2. 'b'\n",
       "3. 'c'\n",
       "\n",
       "\n"
      ],
      "text/plain": [
       "[1] \"a\" \"b\" \"c\""
      ]
     },
     "metadata": {},
     "output_type": "display_data"
    },
    {
     "data": {
      "text/html": [
       "<ol class=list-inline>\n",
       "\t<li>'character'</li>\n",
       "\t<li>'vector'</li>\n",
       "\t<li>'data.frameRowLabels'</li>\n",
       "\t<li>'SuperClassMethod'</li>\n",
       "</ol>\n"
      ],
      "text/latex": [
       "\\begin{enumerate*}\n",
       "\\item 'character'\n",
       "\\item 'vector'\n",
       "\\item 'data.frameRowLabels'\n",
       "\\item 'SuperClassMethod'\n",
       "\\end{enumerate*}\n"
      ],
      "text/markdown": [
       "1. 'character'\n",
       "2. 'vector'\n",
       "3. 'data.frameRowLabels'\n",
       "4. 'SuperClassMethod'\n",
       "\n",
       "\n"
      ],
      "text/plain": [
       "[1] \"character\"           \"vector\"              \"data.frameRowLabels\"\n",
       "[4] \"SuperClassMethod\"   "
      ]
     },
     "metadata": {},
     "output_type": "display_data"
    }
   ],
   "source": [
    "b <- c('a','b','c')   ## character : 문자열\n",
    "b\n",
    "is(b)"
   ]
  },
  {
   "cell_type": "code",
   "execution_count": 14,
   "metadata": {},
   "outputs": [
    {
     "data": {
      "text/html": [
       "<ol class=list-inline>\n",
       "\t<li>a</li>\n",
       "\t<li>b</li>\n",
       "\t<li>c</li>\n",
       "</ol>\n",
       "\n",
       "<details>\n",
       "\t<summary style=display:list-item;cursor:pointer>\n",
       "\t\t<strong>Levels</strong>:\n",
       "\t</summary>\n",
       "\t<ol class=list-inline>\n",
       "\t\t<li>'a'</li>\n",
       "\t\t<li>'b'</li>\n",
       "\t\t<li>'c'</li>\n",
       "\t</ol>\n",
       "</details>"
      ],
      "text/latex": [
       "\\begin{enumerate*}\n",
       "\\item a\n",
       "\\item b\n",
       "\\item c\n",
       "\\end{enumerate*}\n",
       "\n",
       "\\emph{Levels}: \\begin{enumerate*}\n",
       "\\item 'a'\n",
       "\\item 'b'\n",
       "\\item 'c'\n",
       "\\end{enumerate*}\n"
      ],
      "text/markdown": [
       "1. a\n",
       "2. b\n",
       "3. c\n",
       "\n",
       "\n",
       "\n",
       "**Levels**: 1. 'a'\n",
       "2. 'b'\n",
       "3. 'c'\n",
       "\n",
       "\n"
      ],
      "text/plain": [
       "[1] a b c\n",
       "Levels: a b c"
      ]
     },
     "metadata": {},
     "output_type": "display_data"
    },
    {
     "data": {
      "text/html": [
       "<ol class=list-inline>\n",
       "\t<li>'factor'</li>\n",
       "\t<li>'integer'</li>\n",
       "\t<li>'oldClass'</li>\n",
       "\t<li>'double'</li>\n",
       "\t<li>'numeric'</li>\n",
       "\t<li>'vector'</li>\n",
       "\t<li>'data.frameRowLabels'</li>\n",
       "</ol>\n"
      ],
      "text/latex": [
       "\\begin{enumerate*}\n",
       "\\item 'factor'\n",
       "\\item 'integer'\n",
       "\\item 'oldClass'\n",
       "\\item 'double'\n",
       "\\item 'numeric'\n",
       "\\item 'vector'\n",
       "\\item 'data.frameRowLabels'\n",
       "\\end{enumerate*}\n"
      ],
      "text/markdown": [
       "1. 'factor'\n",
       "2. 'integer'\n",
       "3. 'oldClass'\n",
       "4. 'double'\n",
       "5. 'numeric'\n",
       "6. 'vector'\n",
       "7. 'data.frameRowLabels'\n",
       "\n",
       "\n"
      ],
      "text/plain": [
       "[1] \"factor\"              \"integer\"             \"oldClass\"           \n",
       "[4] \"double\"              \"numeric\"             \"vector\"             \n",
       "[7] \"data.frameRowLabels\""
      ]
     },
     "metadata": {},
     "output_type": "display_data"
    }
   ],
   "source": [
    "d1 <- as.factor(b)    ## levels(구간)이 생김\n",
    "d1\n",
    "is(d1)"
   ]
  },
  {
   "cell_type": "code",
   "execution_count": 18,
   "metadata": {},
   "outputs": [
    {
     "data": {
      "text/html": [
       "<ol class=list-inline>\n",
       "\t<li>&lt;NA&gt;</li>\n",
       "\t<li>&lt;NA&gt;</li>\n",
       "\t<li>&lt;NA&gt;</li>\n",
       "\t<li>&lt;NA&gt;</li>\n",
       "\t<li>&lt;NA&gt;</li>\n",
       "</ol>\n",
       "\n",
       "<details>\n",
       "\t<summary style=display:list-item;cursor:pointer>\n",
       "\t\t<strong>Levels</strong>:\n",
       "\t</summary>\n",
       "\t<ol class=list-inline>\n",
       "\t\t<li>'10~20'</li>\n",
       "\t\t<li>'20~30'</li>\n",
       "\t\t<li>'30~40'</li>\n",
       "\t\t<li>'40~50'</li>\n",
       "\t</ol>\n",
       "</details>"
      ],
      "text/latex": [
       "\\begin{enumerate*}\n",
       "\\item <NA>\n",
       "\\item <NA>\n",
       "\\item <NA>\n",
       "\\item <NA>\n",
       "\\item <NA>\n",
       "\\end{enumerate*}\n",
       "\n",
       "\\emph{Levels}: \\begin{enumerate*}\n",
       "\\item '10\\textasciitilde{}20'\n",
       "\\item '20\\textasciitilde{}30'\n",
       "\\item '30\\textasciitilde{}40'\n",
       "\\item '40\\textasciitilde{}50'\n",
       "\\end{enumerate*}\n"
      ],
      "text/markdown": [
       "1. &lt;NA&gt;\n",
       "2. &lt;NA&gt;\n",
       "3. &lt;NA&gt;\n",
       "4. &lt;NA&gt;\n",
       "5. &lt;NA&gt;\n",
       "\n",
       "\n",
       "\n",
       "**Levels**: 1. '10~20'\n",
       "2. '20~30'\n",
       "3. '30~40'\n",
       "4. '40~50'\n",
       "\n",
       "\n"
      ],
      "text/plain": [
       "[1] <NA> <NA> <NA> <NA> <NA>\n",
       "Levels: 10~20 20~30 30~40 40~50"
      ]
     },
     "metadata": {},
     "output_type": "display_data"
    }
   ],
   "source": [
    "d2 <- factor(c(1,2,3,4,5), levels = c('10~20','20~30','30~40','40~50'))\n",
    "d2"
   ]
  },
  {
   "cell_type": "code",
   "execution_count": 20,
   "metadata": {},
   "outputs": [],
   "source": [
    "a1 <- c(1,2,3,4,5)\n",
    "b1 <- c('a','b','c','d','e')\n",
    "c1 <- c(1.1,2.2,3.3,4.4,5.5)"
   ]
  },
  {
   "cell_type": "code",
   "execution_count": 22,
   "metadata": {},
   "outputs": [
    {
     "data": {
      "text/html": [
       "<table>\n",
       "<thead><tr><th scope=col>a1</th><th scope=col>b1</th><th scope=col>c1</th></tr></thead>\n",
       "<tbody>\n",
       "\t<tr><td>1  </td><td>a  </td><td>1.1</td></tr>\n",
       "\t<tr><td>2  </td><td>b  </td><td>2.2</td></tr>\n",
       "\t<tr><td>3  </td><td>c  </td><td>3.3</td></tr>\n",
       "\t<tr><td>4  </td><td>d  </td><td>4.4</td></tr>\n",
       "\t<tr><td>5  </td><td>e  </td><td>5.5</td></tr>\n",
       "</tbody>\n",
       "</table>\n"
      ],
      "text/latex": [
       "\\begin{tabular}{r|lll}\n",
       " a1 & b1 & c1\\\\\n",
       "\\hline\n",
       "\t 1   & a   & 1.1\\\\\n",
       "\t 2   & b   & 2.2\\\\\n",
       "\t 3   & c   & 3.3\\\\\n",
       "\t 4   & d   & 4.4\\\\\n",
       "\t 5   & e   & 5.5\\\\\n",
       "\\end{tabular}\n"
      ],
      "text/markdown": [
       "\n",
       "| a1 | b1 | c1 |\n",
       "|---|---|---|\n",
       "| 1   | a   | 1.1 |\n",
       "| 2   | b   | 2.2 |\n",
       "| 3   | c   | 3.3 |\n",
       "| 4   | d   | 4.4 |\n",
       "| 5   | e   | 5.5 |\n",
       "\n"
      ],
      "text/plain": [
       "  a1 b1 c1 \n",
       "1 1  a  1.1\n",
       "2 2  b  2.2\n",
       "3 3  c  3.3\n",
       "4 4  d  4.4\n",
       "5 5  e  5.5"
      ]
     },
     "metadata": {},
     "output_type": "display_data"
    }
   ],
   "source": [
    "df1 <- data.frame(a1,b1,c1)   ## 갯수가 맞아야함.\n",
    "df1"
   ]
  },
  {
   "cell_type": "code",
   "execution_count": null,
   "metadata": {},
   "outputs": [],
   "source": [
    "df2 <- data.frame(count=a1, name=b1, meanCount=c1)\n",
    "df2"
   ]
  },
  {
   "cell_type": "code",
   "execution_count": null,
   "metadata": {},
   "outputs": [],
   "source": [
    "df_csv <- read.csv('r-ggagi-data/example_studentlist.csv',header = T)\n",
    "df_csv"
   ]
  },
  {
   "cell_type": "code",
   "execution_count": 6,
   "metadata": {},
   "outputs": [
    {
     "data": {
      "text/html": [
       "TRUE"
      ],
      "text/latex": [
       "TRUE"
      ],
      "text/markdown": [
       "TRUE"
      ],
      "text/plain": [
       "[1] TRUE"
      ]
     },
     "metadata": {},
     "output_type": "display_data"
    }
   ],
   "source": [
    "is.vector(df_csv$age)   ## $컬럼명"
   ]
  },
  {
   "cell_type": "code",
   "execution_count": null,
   "metadata": {},
   "outputs": [],
   "source": [
    "## 데이터프레임 구조\n",
    "str(df_csv)"
   ]
  },
  {
   "cell_type": "code",
   "execution_count": null,
   "metadata": {},
   "outputs": [],
   "source": [
    "df_csv$height\n",
    "df_csv[7]\n",
    "df_csv[[7]]"
   ]
  },
  {
   "cell_type": "code",
   "execution_count": 19,
   "metadata": {},
   "outputs": [
    {
     "data": {
      "text/html": [
       "165.3"
      ],
      "text/latex": [
       "165.3"
      ],
      "text/markdown": [
       "165.3"
      ],
      "text/plain": [
       "[1] 165.3"
      ]
     },
     "metadata": {},
     "output_type": "display_data"
    }
   ],
   "source": [
    "a <- df_csv[[7]]\n",
    "a[1]"
   ]
  },
  {
   "cell_type": "code",
   "execution_count": null,
   "metadata": {},
   "outputs": [],
   "source": [
    "df_csv[c(6,7)]\n",
    "df_csv[c('height','weight')]"
   ]
  },
  {
   "cell_type": "code",
   "execution_count": 30,
   "metadata": {},
   "outputs": [
    {
     "data": {
      "text/html": [
       "<ol class=list-inline>\n",
       "\t<li>165.3</li>\n",
       "\t<li>170.1</li>\n",
       "\t<li>175</li>\n",
       "\t<li>182.1</li>\n",
       "\t<li>168</li>\n",
       "\t<li>162</li>\n",
       "\t<li>155.2</li>\n",
       "\t<li>176.9</li>\n",
       "\t<li>178.5</li>\n",
       "\t<li>176.1</li>\n",
       "\t<li>167.1</li>\n",
       "\t<li>180</li>\n",
       "\t<li>162.2</li>\n",
       "\t<li>176.1</li>\n",
       "\t<li>158.2</li>\n",
       "\t<li>168.6</li>\n",
       "\t<li>169.2</li>\n",
       "</ol>\n"
      ],
      "text/latex": [
       "\\begin{enumerate*}\n",
       "\\item 165.3\n",
       "\\item 170.1\n",
       "\\item 175\n",
       "\\item 182.1\n",
       "\\item 168\n",
       "\\item 162\n",
       "\\item 155.2\n",
       "\\item 176.9\n",
       "\\item 178.5\n",
       "\\item 176.1\n",
       "\\item 167.1\n",
       "\\item 180\n",
       "\\item 162.2\n",
       "\\item 176.1\n",
       "\\item 158.2\n",
       "\\item 168.6\n",
       "\\item 169.2\n",
       "\\end{enumerate*}\n"
      ],
      "text/markdown": [
       "1. 165.3\n",
       "2. 170.1\n",
       "3. 175\n",
       "4. 182.1\n",
       "5. 168\n",
       "6. 162\n",
       "7. 155.2\n",
       "8. 176.9\n",
       "9. 178.5\n",
       "10. 176.1\n",
       "11. 167.1\n",
       "12. 180\n",
       "13. 162.2\n",
       "14. 176.1\n",
       "15. 158.2\n",
       "16. 168.6\n",
       "17. 169.2\n",
       "\n",
       "\n"
      ],
      "text/plain": [
       " [1] 165.3 170.1 175.0 182.1 168.0 162.0 155.2 176.9 178.5 176.1 167.1 180.0\n",
       "[13] 162.2 176.1 158.2 168.6 169.2"
      ]
     },
     "metadata": {},
     "output_type": "display_data"
    },
    {
     "data": {
      "text/html": [
       "<table>\n",
       "<thead><tr><th scope=col>name</th><th scope=col>sex</th><th scope=col>age</th><th scope=col>grade</th><th scope=col>absence</th><th scope=col>bloodtype</th><th scope=col>height</th><th scope=col>weight</th></tr></thead>\n",
       "<tbody>\n",
       "\t<tr><td>김길동</td><td>남자  </td><td>23    </td><td>3     </td><td>유    </td><td>O     </td><td>165.3 </td><td>68.2  </td></tr>\n",
       "</tbody>\n",
       "</table>\n"
      ],
      "text/latex": [
       "\\begin{tabular}{r|llllllll}\n",
       " name & sex & age & grade & absence & bloodtype & height & weight\\\\\n",
       "\\hline\n",
       "\t 김길동 & 남자   & 23     & 3      & 유     & O      & 165.3  & 68.2  \\\\\n",
       "\\end{tabular}\n"
      ],
      "text/markdown": [
       "\n",
       "| name | sex | age | grade | absence | bloodtype | height | weight |\n",
       "|---|---|---|---|---|---|---|---|\n",
       "| 김길동 | 남자   | 23     | 3      | 유     | O      | 165.3  | 68.2   |\n",
       "\n"
      ],
      "text/plain": [
       "  name   sex  age grade absence bloodtype height weight\n",
       "1 김길동 남자 23  3     유      O         165.3  68.2  "
      ]
     },
     "metadata": {},
     "output_type": "display_data"
    },
    {
     "data": {
      "text/html": [
       "이미린\n",
       "<details>\n",
       "\t<summary style=display:list-item;cursor:pointer>\n",
       "\t\t<strong>Levels</strong>:\n",
       "\t</summary>\n",
       "\t<ol class=list-inline>\n",
       "\t\t<li>'강수친'</li>\n",
       "\t\t<li>'김길동'</li>\n",
       "\t\t<li>'김동수'</li>\n",
       "\t\t<li>'김미진'</li>\n",
       "\t\t<li>'김민수'</li>\n",
       "\t\t<li>'김철수'</li>\n",
       "\t\t<li>'박미희'</li>\n",
       "\t\t<li>'박수호'</li>\n",
       "\t\t<li>'방희철'</li>\n",
       "\t\t<li>'손세수'</li>\n",
       "\t\t<li>'여수근'</li>\n",
       "\t\t<li>'이미린'</li>\n",
       "\t\t<li>'이철린'</li>\n",
       "\t\t<li>'이희수'</li>\n",
       "\t\t<li>'이희진'</li>\n",
       "\t\t<li>'임동민'</li>\n",
       "\t\t<li>'홍길동'</li>\n",
       "\t</ol>\n",
       "</details>"
      ],
      "text/latex": [
       "이미린\n",
       "\\emph{Levels}: \\begin{enumerate*}\n",
       "\\item '강수친'\n",
       "\\item '김길동'\n",
       "\\item '김동수'\n",
       "\\item '김미진'\n",
       "\\item '김민수'\n",
       "\\item '김철수'\n",
       "\\item '박미희'\n",
       "\\item '박수호'\n",
       "\\item '방희철'\n",
       "\\item '손세수'\n",
       "\\item '여수근'\n",
       "\\item '이미린'\n",
       "\\item '이철린'\n",
       "\\item '이희수'\n",
       "\\item '이희진'\n",
       "\\item '임동민'\n",
       "\\item '홍길동'\n",
       "\\end{enumerate*}\n"
      ],
      "text/markdown": [
       "이미린\n",
       "**Levels**: 1. '강수친'\n",
       "2. '김길동'\n",
       "3. '김동수'\n",
       "4. '김미진'\n",
       "5. '김민수'\n",
       "6. '김철수'\n",
       "7. '박미희'\n",
       "8. '박수호'\n",
       "9. '방희철'\n",
       "10. '손세수'\n",
       "11. '여수근'\n",
       "12. '이미린'\n",
       "13. '이철린'\n",
       "14. '이희수'\n",
       "15. '이희진'\n",
       "16. '임동민'\n",
       "17. '홍길동'\n",
       "\n",
       "\n"
      ],
      "text/plain": [
       "[1] 이미린\n",
       "17 Levels: 강수친 김길동 김동수 김미진 김민수 김철수 박미희 박수호 ... 홍길동"
      ]
     },
     "metadata": {},
     "output_type": "display_data"
    }
   ],
   "source": [
    "df_csv[,7]\n",
    "df_csv[1,]\n",
    "df_csv[2,1]"
   ]
  },
  {
   "cell_type": "code",
   "execution_count": 35,
   "metadata": {},
   "outputs": [
    {
     "name": "stdout",
     "output_type": "stream",
     "text": [
      "'data.frame':\t17 obs. of  8 variables:\n",
      " $ name     : chr  \"김길동\" \"이미린\" \"홍길동\" \"김철수\" ...\n",
      " $ sex      : chr  \"남자\" \"여자\" \"남자\" \"남자\" ...\n",
      " $ age      : int  23 22 24 23 20 21 22 23 23 22 ...\n",
      " $ grade    : int  3 2 4 3 1 2 1 1 3 2 ...\n",
      " $ absence  : chr  \"유\" \"무\" \"무\" \"무\" ...\n",
      " $ bloodtype: chr  \"O\" \"AB\" \"B\" \"AB\" ...\n",
      " $ height   : num  165 170 175 182 168 ...\n",
      " $ weight   : num  68.2 53 80.1 85.7 49.5 52 45.3 55 64.2 61.3 ...\n"
     ]
    }
   ],
   "source": [
    "## Factor가 아니라 chr이 됨.\n",
    "df_csv2 <- read.csv('r-ggagi-data/example_studentlist.csv',stringsAsFactors=F)\n",
    "str(df_csv2)"
   ]
  },
  {
   "cell_type": "code",
   "execution_count": null,
   "metadata": {},
   "outputs": [],
   "source": [
    "## 검색목록 보기, 추가 -> 변수명으로 바로사용가능\n",
    "search()\n",
    "attach(df_csv2)\n",
    "search()"
   ]
  },
  {
   "cell_type": "code",
   "execution_count": 44,
   "metadata": {},
   "outputs": [
    {
     "data": {
      "text/html": [
       "<ol class=list-inline>\n",
       "\t<li>'.GlobalEnv'</li>\n",
       "\t<li>'jupyter:irkernel'</li>\n",
       "\t<li>'package:stats'</li>\n",
       "\t<li>'package:graphics'</li>\n",
       "\t<li>'package:grDevices'</li>\n",
       "\t<li>'package:utils'</li>\n",
       "\t<li>'package:datasets'</li>\n",
       "\t<li>'package:methods'</li>\n",
       "\t<li>'Autoloads'</li>\n",
       "\t<li>'package:base'</li>\n",
       "</ol>\n"
      ],
      "text/latex": [
       "\\begin{enumerate*}\n",
       "\\item '.GlobalEnv'\n",
       "\\item 'jupyter:irkernel'\n",
       "\\item 'package:stats'\n",
       "\\item 'package:graphics'\n",
       "\\item 'package:grDevices'\n",
       "\\item 'package:utils'\n",
       "\\item 'package:datasets'\n",
       "\\item 'package:methods'\n",
       "\\item 'Autoloads'\n",
       "\\item 'package:base'\n",
       "\\end{enumerate*}\n"
      ],
      "text/markdown": [
       "1. '.GlobalEnv'\n",
       "2. 'jupyter:irkernel'\n",
       "3. 'package:stats'\n",
       "4. 'package:graphics'\n",
       "5. 'package:grDevices'\n",
       "6. 'package:utils'\n",
       "7. 'package:datasets'\n",
       "8. 'package:methods'\n",
       "9. 'Autoloads'\n",
       "10. 'package:base'\n",
       "\n",
       "\n"
      ],
      "text/plain": [
       " [1] \".GlobalEnv\"        \"jupyter:irkernel\"  \"package:stats\"    \n",
       " [4] \"package:graphics\"  \"package:grDevices\" \"package:utils\"    \n",
       " [7] \"package:datasets\"  \"package:methods\"   \"Autoloads\"        \n",
       "[10] \"package:base\"     "
      ]
     },
     "metadata": {},
     "output_type": "display_data"
    }
   ],
   "source": [
    "detach(df_csv2)\n",
    "search()"
   ]
  },
  {
   "cell_type": "code",
   "execution_count": null,
   "metadata": {},
   "outputs": [],
   "source": [
    "## 키가 170보다 큰 관측치\n",
    "subset(df_csv, subset = (height > 170))\n",
    "subset(df_csv, subset = (grade<3 & height>170))"
   ]
  },
  {
   "cell_type": "code",
   "execution_count": null,
   "metadata": {},
   "outputs": [],
   "source": [
    "subset(df_csv, select = -height)\n",
    "subset(df_csv, select = c(height, weight))"
   ]
  },
  {
   "cell_type": "code",
   "execution_count": null,
   "metadata": {},
   "outputs": [],
   "source": [
    "## 변수명(컬럼명) 확인\n",
    "colnames(df_csv)\n",
    "colnames(df_csv)[6] <- 'blood'\n",
    "df_csv"
   ]
  },
  {
   "cell_type": "code",
   "execution_count": null,
   "metadata": {},
   "outputs": [],
   "source": [
    "old_list <- colnames(df_csv)\n",
    "new_list <- c('na','se','ag','gr','ab','bl','he','we')\n",
    "colnames(df_csv) <- new_list\n",
    "head(df_csv)"
   ]
  },
  {
   "cell_type": "code",
   "execution_count": 69,
   "metadata": {},
   "outputs": [],
   "source": [
    "df_csv <- read.csv('r-ggagi-data/example_studentlist.csv')"
   ]
  },
  {
   "cell_type": "code",
   "execution_count": 70,
   "metadata": {},
   "outputs": [
    {
     "data": {
      "text/html": [
       "<table>\n",
       "<thead><tr><th scope=col>name</th><th scope=col>sex</th><th scope=col>age</th><th scope=col>grade</th><th scope=col>absence</th><th scope=col>bloodtype</th><th scope=col>height</th><th scope=col>weight</th></tr></thead>\n",
       "<tbody>\n",
       "\t<tr><td>김길동</td><td>남자  </td><td>23    </td><td>3     </td><td>유    </td><td>O     </td><td>165.3 </td><td>68.2  </td></tr>\n",
       "\t<tr><td>이미린</td><td>여자  </td><td>22    </td><td>2     </td><td>무    </td><td>AB    </td><td>170.1 </td><td>53.0  </td></tr>\n",
       "\t<tr><td>홍길동</td><td>남자  </td><td>24    </td><td>4     </td><td>무    </td><td>B     </td><td>175.0 </td><td>80.1  </td></tr>\n",
       "\t<tr><td>김철수</td><td>남자  </td><td>23    </td><td>3     </td><td>무    </td><td>AB    </td><td>182.1 </td><td>85.7  </td></tr>\n",
       "\t<tr><td>손세수</td><td>여자  </td><td>20    </td><td>1     </td><td>유    </td><td>A     </td><td>168.0 </td><td>49.5  </td></tr>\n",
       "\t<tr><td>박미희</td><td>여자  </td><td>21    </td><td>2     </td><td>무    </td><td>O     </td><td>162.0 </td><td>52.0  </td></tr>\n",
       "</tbody>\n",
       "</table>\n"
      ],
      "text/latex": [
       "\\begin{tabular}{r|llllllll}\n",
       " name & sex & age & grade & absence & bloodtype & height & weight\\\\\n",
       "\\hline\n",
       "\t 김길동 & 남자   & 23     & 3      & 유     & O      & 165.3  & 68.2  \\\\\n",
       "\t 이미린 & 여자   & 22     & 2      & 무     & AB     & 170.1  & 53.0  \\\\\n",
       "\t 홍길동 & 남자   & 24     & 4      & 무     & B      & 175.0  & 80.1  \\\\\n",
       "\t 김철수 & 남자   & 23     & 3      & 무     & AB     & 182.1  & 85.7  \\\\\n",
       "\t 손세수 & 여자   & 20     & 1      & 유     & A      & 168.0  & 49.5  \\\\\n",
       "\t 박미희 & 여자   & 21     & 2      & 무     & O      & 162.0  & 52.0  \\\\\n",
       "\\end{tabular}\n"
      ],
      "text/markdown": [
       "\n",
       "| name | sex | age | grade | absence | bloodtype | height | weight |\n",
       "|---|---|---|---|---|---|---|---|\n",
       "| 김길동 | 남자   | 23     | 3      | 유     | O      | 165.3  | 68.2   |\n",
       "| 이미린 | 여자   | 22     | 2      | 무     | AB     | 170.1  | 53.0   |\n",
       "| 홍길동 | 남자   | 24     | 4      | 무     | B      | 175.0  | 80.1   |\n",
       "| 김철수 | 남자   | 23     | 3      | 무     | AB     | 182.1  | 85.7   |\n",
       "| 손세수 | 여자   | 20     | 1      | 유     | A      | 168.0  | 49.5   |\n",
       "| 박미희 | 여자   | 21     | 2      | 무     | O      | 162.0  | 52.0   |\n",
       "\n"
      ],
      "text/plain": [
       "  name   sex  age grade absence bloodtype height weight\n",
       "1 김길동 남자 23  3     유      O         165.3  68.2  \n",
       "2 이미린 여자 22  2     무      AB        170.1  53.0  \n",
       "3 홍길동 남자 24  4     무      B         175.0  80.1  \n",
       "4 김철수 남자 23  3     무      AB        182.1  85.7  \n",
       "5 손세수 여자 20  1     유      A         168.0  49.5  \n",
       "6 박미희 여자 21  2     무      O         162.0  52.0  "
      ]
     },
     "metadata": {},
     "output_type": "display_data"
    }
   ],
   "source": [
    "head(df_csv)"
   ]
  },
  {
   "cell_type": "code",
   "execution_count": 71,
   "metadata": {},
   "outputs": [
    {
     "data": {
      "text/html": [
       "<table>\n",
       "<thead><tr><th></th><th scope=col>name</th><th scope=col>sex</th><th scope=col>age</th><th scope=col>grade</th><th scope=col>absence</th><th scope=col>bloodtype</th><th scope=col>height</th><th scope=col>weight</th></tr></thead>\n",
       "<tbody>\n",
       "\t<tr><th scope=row>17</th><td>여수근</td><td>남자  </td><td>21    </td><td>1     </td><td>무    </td><td>A     </td><td>169.2 </td><td>62.2  </td></tr>\n",
       "</tbody>\n",
       "</table>\n"
      ],
      "text/latex": [
       "\\begin{tabular}{r|llllllll}\n",
       "  & name & sex & age & grade & absence & bloodtype & height & weight\\\\\n",
       "\\hline\n",
       "\t17 & 여수근 & 남자   & 21     & 1      & 무     & A      & 169.2  & 62.2  \\\\\n",
       "\\end{tabular}\n"
      ],
      "text/markdown": [
       "\n",
       "| <!--/--> | name | sex | age | grade | absence | bloodtype | height | weight |\n",
       "|---|---|---|---|---|---|---|---|---|\n",
       "| 17 | 여수근 | 남자   | 21     | 1      | 무     | A      | 169.2  | 62.2   |\n",
       "\n"
      ],
      "text/plain": [
       "   name   sex  age grade absence bloodtype height weight\n",
       "17 여수근 남자 21  1     무      A         169.2  62.2  "
      ]
     },
     "metadata": {},
     "output_type": "display_data"
    }
   ],
   "source": [
    "tail(df_csv,1)"
   ]
  },
  {
   "cell_type": "code",
   "execution_count": 72,
   "metadata": {},
   "outputs": [
    {
     "data": {
      "text/html": [
       "<ol class=list-inline>\n",
       "\t<li>0.00249596601387274</li>\n",
       "\t<li>0.00183175439560572</li>\n",
       "\t<li>0.00261551020408163</li>\n",
       "\t<li>0.0025844071288624</li>\n",
       "\t<li>0.00175382653061224</li>\n",
       "\t<li>0.00198140527358634</li>\n",
       "\t<li>0.00188067940269954</li>\n",
       "\t<li>0.00175754730758132</li>\n",
       "\t<li>0.00201492361650543</li>\n",
       "\t<li>0.00197670455296649</li>\n",
       "\t<li>0.00222043870854987</li>\n",
       "\t<li>0.00233950617283951</li>\n",
       "\t<li>0.00210195508429866</li>\n",
       "\t<li>0.00171228404180295</li>\n",
       "\t<li>0.00180603214737222</li>\n",
       "\t<li>0.00246957358696065</li>\n",
       "\t<li>0.0021726494866679</li>\n",
       "</ol>\n"
      ],
      "text/latex": [
       "\\begin{enumerate*}\n",
       "\\item 0.00249596601387274\n",
       "\\item 0.00183175439560572\n",
       "\\item 0.00261551020408163\n",
       "\\item 0.0025844071288624\n",
       "\\item 0.00175382653061224\n",
       "\\item 0.00198140527358634\n",
       "\\item 0.00188067940269954\n",
       "\\item 0.00175754730758132\n",
       "\\item 0.00201492361650543\n",
       "\\item 0.00197670455296649\n",
       "\\item 0.00222043870854987\n",
       "\\item 0.00233950617283951\n",
       "\\item 0.00210195508429866\n",
       "\\item 0.00171228404180295\n",
       "\\item 0.00180603214737222\n",
       "\\item 0.00246957358696065\n",
       "\\item 0.0021726494866679\n",
       "\\end{enumerate*}\n"
      ],
      "text/markdown": [
       "1. 0.00249596601387274\n",
       "2. 0.00183175439560572\n",
       "3. 0.00261551020408163\n",
       "4. 0.0025844071288624\n",
       "5. 0.00175382653061224\n",
       "6. 0.00198140527358634\n",
       "7. 0.00188067940269954\n",
       "8. 0.00175754730758132\n",
       "9. 0.00201492361650543\n",
       "10. 0.00197670455296649\n",
       "11. 0.00222043870854987\n",
       "12. 0.00233950617283951\n",
       "13. 0.00210195508429866\n",
       "14. 0.00171228404180295\n",
       "15. 0.00180603214737222\n",
       "16. 0.00246957358696065\n",
       "17. 0.0021726494866679\n",
       "\n",
       "\n"
      ],
      "text/plain": [
       " [1] 0.002495966 0.001831754 0.002615510 0.002584407 0.001753827 0.001981405\n",
       " [7] 0.001880679 0.001757547 0.002014924 0.001976705 0.002220439 0.002339506\n",
       "[13] 0.002101955 0.001712284 0.001806032 0.002469574 0.002172649"
      ]
     },
     "metadata": {},
     "output_type": "display_data"
    }
   ],
   "source": [
    "## 데이터프레임에 변수추가\n",
    "bmi <- df_csv$weight/df_csv$height^2\n",
    "bmi"
   ]
  },
  {
   "cell_type": "code",
   "execution_count": null,
   "metadata": {},
   "outputs": [],
   "source": [
    "df_bmi <- cbind(df_csv,bmi)\n",
    "df_bmi"
   ]
  },
  {
   "cell_type": "code",
   "execution_count": null,
   "metadata": {},
   "outputs": [],
   "source": [
    "## 데이터프레임끼리 합치기\n",
    "## cbind : column 합치기\n",
    "## rbind : row 합치기\n",
    "df_1 <- read.csv('r-ggagi-data/example_studentlist.csv')\n",
    "df_2 <- read.csv('r-ggagi-data/omit.csv')\n",
    "df_1\n",
    "df_2"
   ]
  },
  {
   "cell_type": "code",
   "execution_count": null,
   "metadata": {},
   "outputs": [],
   "source": [
    "df_merge <- merge(df_1, df_2, by='name')\n",
    "df_merge"
   ]
  },
  {
   "cell_type": "code",
   "execution_count": null,
   "metadata": {},
   "outputs": [],
   "source": [
    "df_head <- head(df_merge)\n",
    "df_tail <- tail(df_merge)\n",
    "df_head\n",
    "df_tail"
   ]
  },
  {
   "cell_type": "code",
   "execution_count": null,
   "metadata": {},
   "outputs": [],
   "source": [
    "df_rbind <- rbind(df_head,df_tail)\n",
    "df_rbind"
   ]
  },
  {
   "cell_type": "code",
   "execution_count": null,
   "metadata": {},
   "outputs": [],
   "source": [
    "## list() : 여러 종류 데이터 객체 담기\n",
    "df <- df_merge\n",
    "n <- c(1:20)\n",
    "s <- c('a','b','c')\n",
    "b <- c(T,F,T,F,T)\n",
    "tmp_list1 <- list(head(df),n,s,b,mean)\n",
    "tmp_list1"
   ]
  },
  {
   "cell_type": "code",
   "execution_count": null,
   "metadata": {},
   "outputs": [],
   "source": [
    "tmp_list1[1] <- NULL\n",
    "tmp_list1"
   ]
  },
  {
   "cell_type": "code",
   "execution_count": null,
   "metadata": {},
   "outputs": [],
   "source": [
    "tmp_list2 <- list(DataFrame=df, Number=n, Strings=s, Bool=b, Func=mean)\n",
    "tmp_list2"
   ]
  },
  {
   "cell_type": "code",
   "execution_count": null,
   "metadata": {},
   "outputs": [],
   "source": [
    "tmp_list2[2]\n",
    "tmp_list2['Number']"
   ]
  },
  {
   "cell_type": "code",
   "execution_count": 84,
   "metadata": {},
   "outputs": [
    {
     "data": {
      "text/html": [
       "'list'"
      ],
      "text/latex": [
       "'list'"
      ],
      "text/markdown": [
       "'list'"
      ],
      "text/plain": [
       "[1] \"list\""
      ]
     },
     "metadata": {},
     "output_type": "display_data"
    },
    {
     "data": {
      "text/html": [
       "'integer'"
      ],
      "text/latex": [
       "'integer'"
      ],
      "text/markdown": [
       "'integer'"
      ],
      "text/plain": [
       "[1] \"integer\""
      ]
     },
     "metadata": {},
     "output_type": "display_data"
    }
   ],
   "source": [
    "class(tmp_list1[1])\n",
    "class(tmp_list1[[1]])"
   ]
  },
  {
   "cell_type": "code",
   "execution_count": 85,
   "metadata": {},
   "outputs": [
    {
     "data": {
      "text/html": [
       "'list'"
      ],
      "text/latex": [
       "'list'"
      ],
      "text/markdown": [
       "'list'"
      ],
      "text/plain": [
       "[1] \"list\""
      ]
     },
     "metadata": {},
     "output_type": "display_data"
    },
    {
     "data": {
      "text/html": [
       "'data.frame'"
      ],
      "text/latex": [
       "'data.frame'"
      ],
      "text/markdown": [
       "'data.frame'"
      ],
      "text/plain": [
       "[1] \"data.frame\""
      ]
     },
     "metadata": {},
     "output_type": "display_data"
    }
   ],
   "source": [
    "class(tmp_list2[1])\n",
    "class(tmp_list2[[1]])"
   ]
  },
  {
   "cell_type": "code",
   "execution_count": null,
   "metadata": {},
   "outputs": [],
   "source": [
    "tmp_list2[c(2,3)]\n",
    "tmp_list2[c('Number','String')]\n",
    "tmp_list2$Number\n",
    "tmp_list2$String"
   ]
  },
  {
   "cell_type": "code",
   "execution_count": null,
   "metadata": {},
   "outputs": [],
   "source": [
    "height_sex <- split(df$height, df$sex)\n",
    "height_sex"
   ]
  },
  {
   "cell_type": "code",
   "execution_count": 90,
   "metadata": {},
   "outputs": [
    {
     "data": {
      "text/html": [
       "<ol class=list-inline>\n",
       "\t<li>165.3</li>\n",
       "\t<li>168.6</li>\n",
       "\t<li>162.2</li>\n",
       "\t<li>182.1</li>\n",
       "\t<li>167.1</li>\n",
       "\t<li>176.1</li>\n",
       "\t<li>169.2</li>\n",
       "\t<li>178.5</li>\n",
       "\t<li>180</li>\n",
       "\t<li>175</li>\n",
       "</ol>\n"
      ],
      "text/latex": [
       "\\begin{enumerate*}\n",
       "\\item 165.3\n",
       "\\item 168.6\n",
       "\\item 162.2\n",
       "\\item 182.1\n",
       "\\item 167.1\n",
       "\\item 176.1\n",
       "\\item 169.2\n",
       "\\item 178.5\n",
       "\\item 180\n",
       "\\item 175\n",
       "\\end{enumerate*}\n"
      ],
      "text/markdown": [
       "1. 165.3\n",
       "2. 168.6\n",
       "3. 162.2\n",
       "4. 182.1\n",
       "5. 167.1\n",
       "6. 176.1\n",
       "7. 169.2\n",
       "8. 178.5\n",
       "9. 180\n",
       "10. 175\n",
       "\n",
       "\n"
      ],
      "text/plain": [
       " [1] 165.3 168.6 162.2 182.1 167.1 176.1 169.2 178.5 180.0 175.0"
      ]
     },
     "metadata": {},
     "output_type": "display_data"
    }
   ],
   "source": [
    "height_sex$'남자'"
   ]
  },
  {
   "cell_type": "code",
   "execution_count": null,
   "metadata": {},
   "outputs": [],
   "source": [
    "mean(height_sex)\n",
    "mean(height_sex[1])\n",
    "mean(height_sex[[1]])"
   ]
  },
  {
   "cell_type": "code",
   "execution_count": 91,
   "metadata": {},
   "outputs": [
    {
     "data": {
      "text/html": [
       "<dl class=dl-horizontal>\n",
       "\t<dt>남자</dt>\n",
       "\t\t<dd>172.41</dd>\n",
       "\t<dt>여자</dt>\n",
       "\t\t<dd>166.642857142857</dd>\n",
       "</dl>\n"
      ],
      "text/latex": [
       "\\begin{description*}\n",
       "\\item[남자] 172.41\n",
       "\\item[여자] 166.642857142857\n",
       "\\end{description*}\n"
      ],
      "text/markdown": [
       "남자\n",
       ":   172.41여자\n",
       ":   166.642857142857\n",
       "\n"
      ],
      "text/plain": [
       "    남자     여자 \n",
       "172.4100 166.6429 "
      ]
     },
     "metadata": {},
     "output_type": "display_data"
    }
   ],
   "source": [
    "## 평균\n",
    "height_sex_mean <- sapply(height_sex,mean)\n",
    "height_sex_mean"
   ]
  },
  {
   "cell_type": "code",
   "execution_count": 94,
   "metadata": {},
   "outputs": [
    {
     "data": {
      "text/html": [
       "172.41"
      ],
      "text/latex": [
       "172.41"
      ],
      "text/markdown": [
       "172.41"
      ],
      "text/plain": [
       "[1] 172.41"
      ]
     },
     "metadata": {},
     "output_type": "display_data"
    }
   ],
   "source": [
    "height_sex_mean[[1]]"
   ]
  },
  {
   "cell_type": "code",
   "execution_count": 95,
   "metadata": {},
   "outputs": [
    {
     "data": {
      "text/html": [
       "<dl class=dl-horizontal>\n",
       "\t<dt>남자</dt>\n",
       "\t\t<dd>6.80464710489987</dd>\n",
       "\t<dt>여자</dt>\n",
       "\t\t<dd>8.48741365058818</dd>\n",
       "</dl>\n"
      ],
      "text/latex": [
       "\\begin{description*}\n",
       "\\item[남자] 6.80464710489987\n",
       "\\item[여자] 8.48741365058818\n",
       "\\end{description*}\n"
      ],
      "text/markdown": [
       "남자\n",
       ":   6.80464710489987여자\n",
       ":   8.48741365058818\n",
       "\n"
      ],
      "text/plain": [
       "    남자     여자 \n",
       "6.804647 8.487414 "
      ]
     },
     "metadata": {},
     "output_type": "display_data"
    }
   ],
   "source": [
    "## 표준편차\n",
    "height_sex_sd <- sapply(height_sex, sd)\n",
    "height_sex_sd"
   ]
  },
  {
   "cell_type": "code",
   "execution_count": 96,
   "metadata": {},
   "outputs": [
    {
     "data": {
      "text/html": [
       "<table>\n",
       "<thead><tr><th scope=col>남자</th><th scope=col>여자</th></tr></thead>\n",
       "<tbody>\n",
       "\t<tr><td>162.2</td><td>155.2</td></tr>\n",
       "\t<tr><td>182.1</td><td>176.9</td></tr>\n",
       "</tbody>\n",
       "</table>\n"
      ],
      "text/latex": [
       "\\begin{tabular}{ll}\n",
       " 남자 & 여자\\\\\n",
       "\\hline\n",
       "\t 162.2 & 155.2\\\\\n",
       "\t 182.1 & 176.9\\\\\n",
       "\\end{tabular}\n"
      ],
      "text/markdown": [
       "\n",
       "| 남자 | 여자 |\n",
       "|---|---|\n",
       "| 162.2 | 155.2 |\n",
       "| 182.1 | 176.9 |\n",
       "\n"
      ],
      "text/plain": [
       "     남자  여자 \n",
       "[1,] 162.2 155.2\n",
       "[2,] 182.1 176.9"
      ]
     },
     "metadata": {},
     "output_type": "display_data"
    }
   ],
   "source": [
    "## 리스트 범위\n",
    "height_sex_range <- sapply(height_sex, range)\n",
    "height_sex_range"
   ]
  },
  {
   "cell_type": "code",
   "execution_count": 106,
   "metadata": {},
   "outputs": [
    {
     "data": {
      "text/html": [
       "<ol class=list-inline>\n",
       "\t<li>155.2</li>\n",
       "\t<li>176.9</li>\n",
       "</ol>\n"
      ],
      "text/latex": [
       "\\begin{enumerate*}\n",
       "\\item 155.2\n",
       "\\item 176.9\n",
       "\\end{enumerate*}\n"
      ],
      "text/markdown": [
       "1. 155.2\n",
       "2. 176.9\n",
       "\n",
       "\n"
      ],
      "text/plain": [
       "[1] 155.2 176.9"
      ]
     },
     "metadata": {},
     "output_type": "display_data"
    }
   ],
   "source": [
    "height_sex_range[,2]"
   ]
  },
  {
   "cell_type": "code",
   "execution_count": 97,
   "metadata": {},
   "outputs": [
    {
     "data": {
      "text/plain": [
       "\n",
       " A AB  B  O \n",
       " 4  3  5  5 "
      ]
     },
     "metadata": {},
     "output_type": "display_data"
    }
   ],
   "source": [
    "## 도수분포표\n",
    "blood_type_table <- table(df$bloodtype)\n",
    "blood_type_table"
   ]
  },
  {
   "cell_type": "code",
   "execution_count": 103,
   "metadata": {},
   "outputs": [
    {
     "data": {
      "text/plain": [
       "\n",
       "        A        AB         B         O \n",
       "0.2352941 0.1764706 0.2941176 0.2941176 "
      ]
     },
     "metadata": {},
     "output_type": "display_data"
    },
    {
     "data": {
      "text/html": [
       "1"
      ],
      "text/latex": [
       "1"
      ],
      "text/markdown": [
       "1"
      ],
      "text/plain": [
       "[1] 1"
      ]
     },
     "metadata": {},
     "output_type": "display_data"
    }
   ],
   "source": [
    "## 상대도수분포표\n",
    "blood_type_prop_table <- prop.table(blood_type_table)\n",
    "blood_type_prop_table\n",
    "sum(blood_type_prop_table)"
   ]
  },
  {
   "cell_type": "code",
   "execution_count": 107,
   "metadata": {},
   "outputs": [
    {
     "data": {
      "text/plain": [
       "\n",
       "남자 여자 \n",
       "  10    7 "
      ]
     },
     "metadata": {},
     "output_type": "display_data"
    }
   ],
   "source": [
    "sex_table <- table(df$sex)\n",
    "sex_table"
   ]
  },
  {
   "cell_type": "code",
   "execution_count": 113,
   "metadata": {},
   "outputs": [],
   "source": [
    "blood_type_rbind <- rbind(blood_type_table, blood_type_prop_table)"
   ]
  },
  {
   "cell_type": "code",
   "execution_count": 116,
   "metadata": {},
   "outputs": [
    {
     "data": {
      "text/html": [
       "<table>\n",
       "<thead><tr><th></th><th scope=col>A</th><th scope=col>AB</th><th scope=col>B</th><th scope=col>O</th><th scope=col>Sum</th></tr></thead>\n",
       "<tbody>\n",
       "\t<tr><th scope=row>blood_type_table</th><td>4.0000000</td><td>3.0000000</td><td>5.0000000</td><td>5.0000000</td><td>17       </td></tr>\n",
       "\t<tr><th scope=row>blood_type_prop_table</th><td>0.2352941</td><td>0.1764706</td><td>0.2941176</td><td>0.2941176</td><td> 1       </td></tr>\n",
       "</tbody>\n",
       "</table>\n"
      ],
      "text/latex": [
       "\\begin{tabular}{r|lllll}\n",
       "  & A & AB & B & O & Sum\\\\\n",
       "\\hline\n",
       "\tblood\\_type\\_table & 4.0000000 & 3.0000000 & 5.0000000 & 5.0000000 & 17       \\\\\n",
       "\tblood\\_type\\_prop\\_table & 0.2352941 & 0.1764706 & 0.2941176 & 0.2941176 &  1       \\\\\n",
       "\\end{tabular}\n"
      ],
      "text/markdown": [
       "\n",
       "| <!--/--> | A | AB | B | O | Sum |\n",
       "|---|---|---|---|---|---|\n",
       "| blood_type_table | 4.0000000 | 3.0000000 | 5.0000000 | 5.0000000 | 17        |\n",
       "| blood_type_prop_table | 0.2352941 | 0.1764706 | 0.2941176 | 0.2941176 |  1        |\n",
       "\n"
      ],
      "text/plain": [
       "                      A         AB        B         O         Sum\n",
       "blood_type_table      4.0000000 3.0000000 5.0000000 5.0000000 17 \n",
       "blood_type_prop_table 0.2352941 0.1764706 0.2941176 0.2941176  1 "
      ]
     },
     "metadata": {},
     "output_type": "display_data"
    }
   ],
   "source": [
    "## 합계구하기, margin : 1=열, 2=행\n",
    "blood_type_rbind_sum <- addmargins(blood_type_rbind, margin=2)\n",
    "blood_type_rbind_sum"
   ]
  },
  {
   "cell_type": "code",
   "execution_count": 115,
   "metadata": {},
   "outputs": [
    {
     "data": {
      "text/html": [
       "<table>\n",
       "<thead><tr><th></th><th scope=col>A</th><th scope=col>AB</th><th scope=col>B</th><th scope=col>O</th></tr></thead>\n",
       "<tbody>\n",
       "\t<tr><th scope=row>blood_type_table</th><td>4.0000000</td><td>3.0000000</td><td>5.0000000</td><td>5.0000000</td></tr>\n",
       "\t<tr><th scope=row>blood_type_prop_table</th><td>0.2352941</td><td>0.1764706</td><td>0.2941176</td><td>0.2941176</td></tr>\n",
       "\t<tr><th scope=row>Sum</th><td>4.2352941</td><td>3.1764706</td><td>5.2941176</td><td>5.2941176</td></tr>\n",
       "</tbody>\n",
       "</table>\n"
      ],
      "text/latex": [
       "\\begin{tabular}{r|llll}\n",
       "  & A & AB & B & O\\\\\n",
       "\\hline\n",
       "\tblood\\_type\\_table & 4.0000000 & 3.0000000 & 5.0000000 & 5.0000000\\\\\n",
       "\tblood\\_type\\_prop\\_table & 0.2352941 & 0.1764706 & 0.2941176 & 0.2941176\\\\\n",
       "\tSum & 4.2352941 & 3.1764706 & 5.2941176 & 5.2941176\\\\\n",
       "\\end{tabular}\n"
      ],
      "text/markdown": [
       "\n",
       "| <!--/--> | A | AB | B | O |\n",
       "|---|---|---|---|---|\n",
       "| blood_type_table | 4.0000000 | 3.0000000 | 5.0000000 | 5.0000000 |\n",
       "| blood_type_prop_table | 0.2352941 | 0.1764706 | 0.2941176 | 0.2941176 |\n",
       "| Sum | 4.2352941 | 3.1764706 | 5.2941176 | 5.2941176 |\n",
       "\n"
      ],
      "text/plain": [
       "                      A         AB        B         O        \n",
       "blood_type_table      4.0000000 3.0000000 5.0000000 5.0000000\n",
       "blood_type_prop_table 0.2352941 0.1764706 0.2941176 0.2941176\n",
       "Sum                   4.2352941 3.1764706 5.2941176 5.2941176"
      ]
     },
     "metadata": {},
     "output_type": "display_data"
    }
   ],
   "source": [
    "blood_type_rbind_sum1 <- addmargins(blood_type_rbind, margin=1)\n",
    "blood_type_rbind_sum1"
   ]
  },
  {
   "cell_type": "code",
   "execution_count": 129,
   "metadata": {},
   "outputs": [
    {
     "data": {
      "text/html": [
       "<ol class=list-inline>\n",
       "\t<li>(155,162]</li>\n",
       "\t<li>(162,169]</li>\n",
       "\t<li>(162,169]</li>\n",
       "\t<li>(155,162]</li>\n",
       "\t<li>(162,169]</li>\n",
       "\t<li>(175,182]</li>\n",
       "\t<li>(162,169]</li>\n",
       "\t<li>(162,169]</li>\n",
       "\t<li>(175,182]</li>\n",
       "\t<li>(162,169]</li>\n",
       "\t<li>(169,175]</li>\n",
       "\t<li>(169,175]</li>\n",
       "\t<li>(175,182]</li>\n",
       "\t<li>(175,182]</li>\n",
       "\t<li>(175,182]</li>\n",
       "\t<li>(175,182]</li>\n",
       "\t<li>(169,175]</li>\n",
       "</ol>\n",
       "\n",
       "<details>\n",
       "\t<summary style=display:list-item;cursor:pointer>\n",
       "\t\t<strong>Levels</strong>:\n",
       "\t</summary>\n",
       "\t<ol class=list-inline>\n",
       "\t\t<li>'(155,162]'</li>\n",
       "\t\t<li>'(162,169]'</li>\n",
       "\t\t<li>'(169,175]'</li>\n",
       "\t\t<li>'(175,182]'</li>\n",
       "\t</ol>\n",
       "</details>"
      ],
      "text/latex": [
       "\\begin{enumerate*}\n",
       "\\item (155,162{]}\n",
       "\\item (162,169{]}\n",
       "\\item (162,169{]}\n",
       "\\item (155,162{]}\n",
       "\\item (162,169{]}\n",
       "\\item (175,182{]}\n",
       "\\item (162,169{]}\n",
       "\\item (162,169{]}\n",
       "\\item (175,182{]}\n",
       "\\item (162,169{]}\n",
       "\\item (169,175{]}\n",
       "\\item (169,175{]}\n",
       "\\item (175,182{]}\n",
       "\\item (175,182{]}\n",
       "\\item (175,182{]}\n",
       "\\item (175,182{]}\n",
       "\\item (169,175{]}\n",
       "\\end{enumerate*}\n",
       "\n",
       "\\emph{Levels}: \\begin{enumerate*}\n",
       "\\item '(155,162{]}'\n",
       "\\item '(162,169{]}'\n",
       "\\item '(169,175{]}'\n",
       "\\item '(175,182{]}'\n",
       "\\end{enumerate*}\n"
      ],
      "text/markdown": [
       "1. (155,162]\n",
       "2. (162,169]\n",
       "3. (162,169]\n",
       "4. (155,162]\n",
       "5. (162,169]\n",
       "6. (175,182]\n",
       "7. (162,169]\n",
       "8. (162,169]\n",
       "9. (175,182]\n",
       "10. (162,169]\n",
       "11. (169,175]\n",
       "12. (169,175]\n",
       "13. (175,182]\n",
       "14. (175,182]\n",
       "15. (175,182]\n",
       "16. (175,182]\n",
       "17. (169,175]\n",
       "\n",
       "\n",
       "\n",
       "**Levels**: 1. '(155,162]'\n",
       "2. '(162,169]'\n",
       "3. '(169,175]'\n",
       "4. '(175,182]'\n",
       "\n",
       "\n"
      ],
      "text/plain": [
       " [1] (155,162] (162,169] (162,169] (155,162] (162,169] (175,182] (162,169]\n",
       " [8] (162,169] (175,182] (162,169] (169,175] (169,175] (175,182] (175,182]\n",
       "[15] (175,182] (175,182] (169,175]\n",
       "Levels: (155,162] (162,169] (169,175] (175,182]"
      ]
     },
     "metadata": {},
     "output_type": "display_data"
    }
   ],
   "source": [
    "## 연속형 변수\n",
    "## 구간나누기 cut()\n",
    "height_break_4 <- cut(df$height, breaks = 4)\n",
    "height_break_4"
   ]
  },
  {
   "cell_type": "code",
   "execution_count": 122,
   "metadata": {},
   "outputs": [
    {
     "data": {
      "text/plain": [
       "height_break_4\n",
       "(155,162] (162,169] (169,175] (175,182] \n",
       "        2         6         3         6 "
      ]
     },
     "metadata": {},
     "output_type": "display_data"
    }
   ],
   "source": [
    "height_break_4_table <- table(height_break_4)\n",
    "height_break_4_table"
   ]
  },
  {
   "cell_type": "code",
   "execution_count": 123,
   "metadata": {},
   "outputs": [
    {
     "data": {
      "text/plain": [
       "height_break_4\n",
       "(155,162] (162,169] (169,175] (175,182] \n",
       "0.1176471 0.3529412 0.1764706 0.3529412 "
      ]
     },
     "metadata": {},
     "output_type": "display_data"
    }
   ],
   "source": [
    "height_break_4_prop_table <- prop.table(height_break_4_table)\n",
    "height_break_4_prop_table"
   ]
  },
  {
   "cell_type": "code",
   "execution_count": 130,
   "metadata": {},
   "outputs": [
    {
     "data": {
      "text/html": [
       "<table>\n",
       "<thead><tr><th></th><th scope=col>(155,162]</th><th scope=col>(162,169]</th><th scope=col>(169,175]</th><th scope=col>(175,182]</th></tr></thead>\n",
       "<tbody>\n",
       "\t<tr><th scope=row>height_break_4_table</th><td>2.0000000</td><td>6.0000000</td><td>3.0000000</td><td>6.0000000</td></tr>\n",
       "\t<tr><th scope=row>height_break_4_prop_table</th><td>0.1176471</td><td>0.3529412</td><td>0.1764706</td><td>0.3529412</td></tr>\n",
       "</tbody>\n",
       "</table>\n"
      ],
      "text/latex": [
       "\\begin{tabular}{r|llll}\n",
       "  & (155,162{]} & (162,169{]} & (169,175{]} & (175,182{]}\\\\\n",
       "\\hline\n",
       "\theight\\_break\\_4\\_table & 2.0000000 & 6.0000000 & 3.0000000 & 6.0000000\\\\\n",
       "\theight\\_break\\_4\\_prop\\_table & 0.1176471 & 0.3529412 & 0.1764706 & 0.3529412\\\\\n",
       "\\end{tabular}\n"
      ],
      "text/markdown": [
       "\n",
       "| <!--/--> | (155,162] | (162,169] | (169,175] | (175,182] |\n",
       "|---|---|---|---|---|\n",
       "| height_break_4_table | 2.0000000 | 6.0000000 | 3.0000000 | 6.0000000 |\n",
       "| height_break_4_prop_table | 0.1176471 | 0.3529412 | 0.1764706 | 0.3529412 |\n",
       "\n"
      ],
      "text/plain": [
       "                          (155,162] (162,169] (169,175] (175,182]\n",
       "height_break_4_table      2.0000000 6.0000000 3.0000000 6.0000000\n",
       "height_break_4_prop_table 0.1176471 0.3529412 0.1764706 0.3529412"
      ]
     },
     "metadata": {},
     "output_type": "display_data"
    }
   ],
   "source": [
    "height_break_4_rbind <- rbind(height_break_4_table, height_break_4_prop_table)\n",
    "height_break_4_rbind"
   ]
  },
  {
   "cell_type": "code",
   "execution_count": 132,
   "metadata": {},
   "outputs": [
    {
     "data": {
      "text/html": [
       "<table>\n",
       "<thead><tr><th></th><th scope=col>(155,162]</th><th scope=col>(162,169]</th><th scope=col>(169,175]</th><th scope=col>(175,182]</th></tr></thead>\n",
       "<tbody>\n",
       "\t<tr><th scope=row>도수</th><td>2.0000000</td><td>6.0000000</td><td>3.0000000</td><td>6.0000000</td></tr>\n",
       "\t<tr><th scope=row>상대도수</th><td>0.1176471</td><td>0.3529412</td><td>0.1764706</td><td>0.3529412</td></tr>\n",
       "\t<tr><th scope=row>누적도수</th><td>0.1176471</td><td>0.4705882</td><td>0.6470588</td><td>1.0000000</td></tr>\n",
       "</tbody>\n",
       "</table>\n"
      ],
      "text/latex": [
       "\\begin{tabular}{r|llll}\n",
       "  & (155,162{]} & (162,169{]} & (169,175{]} & (175,182{]}\\\\\n",
       "\\hline\n",
       "\t도수 & 2.0000000 & 6.0000000 & 3.0000000 & 6.0000000\\\\\n",
       "\t상대도수 & 0.1176471 & 0.3529412 & 0.1764706 & 0.3529412\\\\\n",
       "\t누적도수 & 0.1176471 & 0.4705882 & 0.6470588 & 1.0000000\\\\\n",
       "\\end{tabular}\n"
      ],
      "text/markdown": [
       "\n",
       "| <!--/--> | (155,162] | (162,169] | (169,175] | (175,182] |\n",
       "|---|---|---|---|---|\n",
       "| 도수 | 2.0000000 | 6.0000000 | 3.0000000 | 6.0000000 |\n",
       "| 상대도수 | 0.1176471 | 0.3529412 | 0.1764706 | 0.3529412 |\n",
       "| 누적도수 | 0.1176471 | 0.4705882 | 0.6470588 | 1.0000000 |\n",
       "\n"
      ],
      "text/plain": [
       "         (155,162] (162,169] (169,175] (175,182]\n",
       "도수     2.0000000 6.0000000 3.0000000 6.0000000\n",
       "상대도수 0.1176471 0.3529412 0.1764706 0.3529412\n",
       "누적도수 0.1176471 0.4705882 0.6470588 1.0000000"
      ]
     },
     "metadata": {},
     "output_type": "display_data"
    }
   ],
   "source": [
    "height_break_4_cumsum <- rbind(height_break_4_rbind, cumsum(height_break_4_rbind[2,]))\n",
    "rownames(height_break_4_cumsum) <- c('도수','상대도수','누적도수')\n",
    "height_break_4_cumsum"
   ]
  },
  {
   "cell_type": "code",
   "execution_count": null,
   "metadata": {},
   "outputs": [],
   "source": []
  },
  {
   "cell_type": "code",
   "execution_count": 136,
   "metadata": {},
   "outputs": [
    {
     "name": "stdout",
     "output_type": "stream",
     "text": [
      "'data.frame':\t100 obs. of  7 variables:\n",
      " $ sex      : Factor w/ 2 levels \"남자\",\"여자\": 1 2 1 1 2 1 1 2 1 2 ...\n",
      " $ age      : int  20 24 28 22 23 25 25 28 27 21 ...\n",
      " $ grade    : int  2 2 2 2 2 2 2 4 3 2 ...\n",
      " $ absence  : Factor w/ 2 levels \"무\",\"유\": 1 2 1 1 1 2 1 2 2 2 ...\n",
      " $ bloodtype: Factor w/ 4 levels \"A\",\"AB\",\"B\",\"O\": 4 4 4 2 4 1 4 4 4 4 ...\n",
      " $ height   : num  157 161 160 159 161 ...\n",
      " $ weight   : num  52.3 53.6 53.4 52.2 53.1 50.1 49.9 53.4 53.9 53.1 ...\n"
     ]
    }
   ],
   "source": [
    "## 실습.\n",
    "test_csv = read.csv('r-ggagi-data/example_studentlist2.csv')\n",
    "str(test_csv)\n",
    "\n",
    "grade_dosu = table(test_csv$grade)\n",
    "\n",
    "height_cut = cut(test_csv$height, breaks = 5)\n",
    "weight_cut = cut(test_csv$weight, breaks=5)\n",
    "\n",
    "height_dosu = table(height_cut)\n",
    "weight_dosu = table(weight_cut)\n",
    "grade_dosu\n",
    "height_dosu\n",
    "weight_dosu\n",
    "\n",
    "prop_grade = prop.table(grade_dosu)\n",
    "prop_height = prop.table(height_dosu)\n",
    "prop_weight = prop.table(weight_dosu)\n",
    "\n",
    "cum_grade = cumsum(prop_grade)\n",
    "cum_height = cumsum(prop_height)\n",
    "cum_weight = cumsum(prop_weight)\n",
    "\n",
    "grade_rbind <- rbind(grade_dosu,prop_grade, cum_grade)\n",
    "rownames(grade_rbind) <- c('도수','상대도수','누적도수')\n",
    "\n",
    "height_rbind <- rbind(height_dosu, prop_height, cum_height)\n",
    "rownames(height_rbind) <- c('도수','상대도수','누적도수')\n",
    "\n",
    "weight_rbind <- rbind(weight_dosu, prop_weight, cum_weight)\n",
    "rownames(weight_rbind) <- c('도수','상대도수','누적도수')\n",
    "\n",
    "grade_rbind\n",
    "height_rbind\n",
    "weight_rbind"
   ]
  },
  {
   "cell_type": "code",
   "execution_count": 160,
   "metadata": {},
   "outputs": [
    {
     "data": {
      "text/plain": [
       "      \n",
       "       A AB B O\n",
       "  남자 2  2 4 2\n",
       "  여자 2  1 1 3"
      ]
     },
     "metadata": {},
     "output_type": "display_data"
    }
   ],
   "source": [
    "## 분할표 - 2개변수의 빈도수\n",
    "sex_blood_table <- table(df$sex, df$bloodtype)\n",
    "sex_blood_table\n",
    "# sex_blood_table <- table(df$bloodtype, df$sex)\n",
    "# sex_blood_table"
   ]
  },
  {
   "cell_type": "code",
   "execution_count": 165,
   "metadata": {},
   "outputs": [
    {
     "data": {
      "text/html": [
       "<table>\n",
       "<thead><tr><th></th><th scope=col>A</th><th scope=col>AB</th><th scope=col>B</th><th scope=col>O</th><th scope=col>Sum</th></tr></thead>\n",
       "<tbody>\n",
       "\t<tr><th scope=row>남자</th><td>2 </td><td>2 </td><td>4 </td><td>2 </td><td>10</td></tr>\n",
       "\t<tr><th scope=row>여자</th><td>2 </td><td>1 </td><td>1 </td><td>3 </td><td> 7</td></tr>\n",
       "\t<tr><th scope=row>Sum</th><td>4 </td><td>3 </td><td>5 </td><td>5 </td><td>17</td></tr>\n",
       "</tbody>\n",
       "</table>\n"
      ],
      "text/latex": [
       "\\begin{tabular}{r|lllll}\n",
       "  & A & AB & B & O & Sum\\\\\n",
       "\\hline\n",
       "\t남자 & 2  & 2  & 4  & 2  & 10\\\\\n",
       "\t여자 & 2  & 1  & 1  & 3  &  7\\\\\n",
       "\tSum & 4  & 3  & 5  & 5  & 17\\\\\n",
       "\\end{tabular}\n"
      ],
      "text/markdown": [
       "\n",
       "| <!--/--> | A | AB | B | O | Sum |\n",
       "|---|---|---|---|---|---|\n",
       "| 남자 | 2  | 2  | 4  | 2  | 10 |\n",
       "| 여자 | 2  | 1  | 1  | 3  |  7 |\n",
       "| Sum | 4  | 3  | 5  | 5  | 17 |\n",
       "\n"
      ],
      "text/plain": [
       "      \n",
       "       A AB B O Sum\n",
       "  남자 2 2  4 2 10 \n",
       "  여자 2 1  1 3  7 \n",
       "  Sum  4 3  5 5 17 "
      ]
     },
     "metadata": {},
     "output_type": "display_data"
    }
   ],
   "source": [
    "addmargins(sex_blood_table)"
   ]
  },
  {
   "cell_type": "code",
   "execution_count": 167,
   "metadata": {},
   "outputs": [
    {
     "data": {
      "text/html": [
       "<table>\n",
       "<thead><tr><th></th><th scope=col>A</th><th scope=col>AB</th><th scope=col>B</th><th scope=col>O</th><th scope=col>Sum</th></tr></thead>\n",
       "<tbody>\n",
       "\t<tr><th scope=row>남자</th><td>0.1176471 </td><td>0.11764706</td><td>0.23529412</td><td>0.1176471 </td><td>0.5882353 </td></tr>\n",
       "\t<tr><th scope=row>여자</th><td>0.1176471 </td><td>0.05882353</td><td>0.05882353</td><td>0.1764706 </td><td>0.4117647 </td></tr>\n",
       "\t<tr><th scope=row>Sum</th><td>0.2352941 </td><td>0.17647059</td><td>0.29411765</td><td>0.2941176 </td><td>1.0000000 </td></tr>\n",
       "</tbody>\n",
       "</table>\n"
      ],
      "text/latex": [
       "\\begin{tabular}{r|lllll}\n",
       "  & A & AB & B & O & Sum\\\\\n",
       "\\hline\n",
       "\t남자 & 0.1176471  & 0.11764706 & 0.23529412 & 0.1176471  & 0.5882353 \\\\\n",
       "\t여자 & 0.1176471  & 0.05882353 & 0.05882353 & 0.1764706  & 0.4117647 \\\\\n",
       "\tSum & 0.2352941  & 0.17647059 & 0.29411765 & 0.2941176  & 1.0000000 \\\\\n",
       "\\end{tabular}\n"
      ],
      "text/markdown": [
       "\n",
       "| <!--/--> | A | AB | B | O | Sum |\n",
       "|---|---|---|---|---|---|\n",
       "| 남자 | 0.1176471  | 0.11764706 | 0.23529412 | 0.1176471  | 0.5882353  |\n",
       "| 여자 | 0.1176471  | 0.05882353 | 0.05882353 | 0.1764706  | 0.4117647  |\n",
       "| Sum | 0.2352941  | 0.17647059 | 0.29411765 | 0.2941176  | 1.0000000  |\n",
       "\n"
      ],
      "text/plain": [
       "      \n",
       "       A         AB         B          O         Sum      \n",
       "  남자 0.1176471 0.11764706 0.23529412 0.1176471 0.5882353\n",
       "  여자 0.1176471 0.05882353 0.05882353 0.1764706 0.4117647\n",
       "  Sum  0.2352941 0.17647059 0.29411765 0.2941176 1.0000000"
      ]
     },
     "metadata": {},
     "output_type": "display_data"
    }
   ],
   "source": [
    "sex_blood_prop_table <- prop.table(sex_blood_table)\n",
    "addmargins(sex_blood_prop_table)"
   ]
  },
  {
   "cell_type": "code",
   "execution_count": 169,
   "metadata": {},
   "outputs": [
    {
     "data": {
      "text/plain": [
       "      \n",
       "               A        AB         B         O\n",
       "  남자 0.2000000 0.2000000 0.4000000 0.2000000\n",
       "  여자 0.2857143 0.1428571 0.1428571 0.4285714"
      ]
     },
     "metadata": {},
     "output_type": "display_data"
    }
   ],
   "source": [
    "## 행간 비율, 행의 합이 1\n",
    "sex_blood_prop_table_margin_1 <- prop.table(sex_blood_table, margin=1)\n",
    "sex_blood_prop_table_margin_1"
   ]
  },
  {
   "cell_type": "code",
   "execution_count": 170,
   "metadata": {},
   "outputs": [
    {
     "data": {
      "text/plain": [
       "      \n",
       "               A        AB         B         O\n",
       "  남자 0.5000000 0.6666667 0.8000000 0.4000000\n",
       "  여자 0.5000000 0.3333333 0.2000000 0.6000000"
      ]
     },
     "metadata": {},
     "output_type": "display_data"
    }
   ],
   "source": [
    "## 열간 비율, 열의 합이 1\n",
    "sex_blood_prop_table_margin_2 <- prop.table(sex_blood_table, margin=2)\n",
    "sex_blood_prop_table_margin_2"
   ]
  },
  {
   "cell_type": "code",
   "execution_count": 174,
   "metadata": {},
   "outputs": [
    {
     "data": {
      "text/html": [
       "<ol class=list-inline>\n",
       "\t<li>TRUE</li>\n",
       "\t<li>TRUE</li>\n",
       "\t<li>TRUE</li>\n",
       "\t<li>TRUE</li>\n",
       "\t<li>FALSE</li>\n",
       "\t<li>TRUE</li>\n",
       "\t<li>TRUE</li>\n",
       "\t<li>TRUE</li>\n",
       "\t<li>TRUE</li>\n",
       "\t<li>TRUE</li>\n",
       "</ol>\n"
      ],
      "text/latex": [
       "\\begin{enumerate*}\n",
       "\\item TRUE\n",
       "\\item TRUE\n",
       "\\item TRUE\n",
       "\\item TRUE\n",
       "\\item FALSE\n",
       "\\item TRUE\n",
       "\\item TRUE\n",
       "\\item TRUE\n",
       "\\item TRUE\n",
       "\\item TRUE\n",
       "\\end{enumerate*}\n"
      ],
      "text/markdown": [
       "1. TRUE\n",
       "2. TRUE\n",
       "3. TRUE\n",
       "4. TRUE\n",
       "5. FALSE\n",
       "6. TRUE\n",
       "7. TRUE\n",
       "8. TRUE\n",
       "9. TRUE\n",
       "10. TRUE\n",
       "\n",
       "\n"
      ],
      "text/plain": [
       " [1]  TRUE  TRUE  TRUE  TRUE FALSE  TRUE  TRUE  TRUE  TRUE  TRUE"
      ]
     },
     "metadata": {},
     "output_type": "display_data"
    },
    {
     "data": {
      "text/html": [
       "<ol class=list-inline>\n",
       "\t<li>1</li>\n",
       "\t<li>2</li>\n",
       "\t<li>3</li>\n",
       "\t<li>4</li>\n",
       "\t<li>6</li>\n",
       "\t<li>7</li>\n",
       "\t<li>8</li>\n",
       "\t<li>9</li>\n",
       "\t<li>10</li>\n",
       "</ol>\n"
      ],
      "text/latex": [
       "\\begin{enumerate*}\n",
       "\\item 1\n",
       "\\item 2\n",
       "\\item 3\n",
       "\\item 4\n",
       "\\item 6\n",
       "\\item 7\n",
       "\\item 8\n",
       "\\item 9\n",
       "\\item 10\n",
       "\\end{enumerate*}\n"
      ],
      "text/markdown": [
       "1. 1\n",
       "2. 2\n",
       "3. 3\n",
       "4. 4\n",
       "5. 6\n",
       "6. 7\n",
       "7. 8\n",
       "8. 9\n",
       "9. 10\n",
       "\n",
       "\n"
      ],
      "text/plain": [
       "[1]  1  2  3  4  6  7  8  9 10"
      ]
     },
     "metadata": {},
     "output_type": "display_data"
    },
    {
     "data": {
      "text/html": [
       "<ol class=list-inline>\n",
       "\t<li>1</li>\n",
       "\t<li>2</li>\n",
       "\t<li>3</li>\n",
       "\t<li>4</li>\n",
       "\t<li>6</li>\n",
       "\t<li>7</li>\n",
       "\t<li>8</li>\n",
       "\t<li>9</li>\n",
       "\t<li>10</li>\n",
       "</ol>\n"
      ],
      "text/latex": [
       "\\begin{enumerate*}\n",
       "\\item 1\n",
       "\\item 2\n",
       "\\item 3\n",
       "\\item 4\n",
       "\\item 6\n",
       "\\item 7\n",
       "\\item 8\n",
       "\\item 9\n",
       "\\item 10\n",
       "\\end{enumerate*}\n"
      ],
      "text/markdown": [
       "1. 1\n",
       "2. 2\n",
       "3. 3\n",
       "4. 4\n",
       "5. 6\n",
       "6. 7\n",
       "7. 8\n",
       "8. 9\n",
       "9. 10\n",
       "\n",
       "\n"
      ],
      "text/plain": [
       "[1]  1  2  3  4  6  7  8  9 10\n",
       "attr(,\"na.action\")\n",
       "[1] 5\n",
       "attr(,\"class\")\n",
       "[1] \"omit\""
      ]
     },
     "metadata": {},
     "output_type": "display_data"
    }
   ],
   "source": [
    "## NA - 값이 없는 경우\n",
    "a <- c(1,2,3,4,NA,6,7,8,9,10)\n",
    "complete.cases(a)\n",
    "\n",
    "a[complete.cases(a)]\n",
    "\n",
    "na.omit(a)"
   ]
  }
 ],
 "metadata": {
  "kernelspec": {
   "display_name": "R",
   "language": "R",
   "name": "ir"
  },
  "language_info": {
   "codemirror_mode": "r",
   "file_extension": ".r",
   "mimetype": "text/x-r-source",
   "name": "R",
   "pygments_lexer": "r",
   "version": "3.6.1"
  }
 },
 "nbformat": 4,
 "nbformat_minor": 4
}
