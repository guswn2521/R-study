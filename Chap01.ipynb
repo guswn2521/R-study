{
 "cells": [
  {
   "cell_type": "code",
   "execution_count": 1,
   "metadata": {},
   "outputs": [
    {
     "name": "stderr",
     "output_type": "stream",
     "text": [
      "also installing the dependencies 'desc', 'pkgbuild', 'rprojroot', 'pkgload', 'praise', 'rlang', 'testthat', 'isoband'\n",
      "\n"
     ]
    },
    {
     "name": "stdout",
     "output_type": "stream",
     "text": [
      "package 'desc' successfully unpacked and MD5 sums checked\n",
      "package 'pkgbuild' successfully unpacked and MD5 sums checked\n",
      "package 'rprojroot' successfully unpacked and MD5 sums checked\n",
      "package 'pkgload' successfully unpacked and MD5 sums checked\n",
      "package 'praise' successfully unpacked and MD5 sums checked\n",
      "package 'rlang' successfully unpacked and MD5 sums checked\n",
      "package 'testthat' successfully unpacked and MD5 sums checked\n",
      "package 'isoband' successfully unpacked and MD5 sums checked\n",
      "package 'ggplot2' successfully unpacked and MD5 sums checked\n",
      "\n",
      "The downloaded binary packages are in\n",
      "\tC:\\Users\\205\\AppData\\Local\\Temp\\RtmpyeJLsF\\downloaded_packages\n"
     ]
    }
   ],
   "source": [
    "install.packages('ggplot2')"
   ]
  },
  {
   "cell_type": "code",
   "execution_count": 2,
   "metadata": {},
   "outputs": [
    {
     "name": "stdout",
     "output_type": "stream",
     "text": [
      "package 'ggthemes' successfully unpacked and MD5 sums checked\n",
      "\n",
      "The downloaded binary packages are in\n",
      "\tC:\\Users\\205\\AppData\\Local\\Temp\\RtmpyeJLsF\\downloaded_packages\n"
     ]
    }
   ],
   "source": [
    "install.packages('ggthemes')"
   ]
  },
  {
   "cell_type": "code",
   "execution_count": 3,
   "metadata": {},
   "outputs": [
    {
     "name": "stdout",
     "output_type": "stream",
     "text": [
      "package 'data.table' successfully unpacked and MD5 sums checked\n",
      "\n",
      "The downloaded binary packages are in\n",
      "\tC:\\Users\\205\\AppData\\Local\\Temp\\RtmpyeJLsF\\downloaded_packages\n"
     ]
    }
   ],
   "source": [
    "install.packages('data.table')"
   ]
  },
  {
   "cell_type": "code",
   "execution_count": 5,
   "metadata": {},
   "outputs": [
    {
     "name": "stderr",
     "output_type": "stream",
     "text": [
      "also installing the dependencies 'ini', 'fs', 'gh', 'rematch2', 'processx', 'rex', 'crosstalk', 'xopen', 'brew', 'commonmark', 'purrr', 'usethis', 'callr', 'cli', 'covr', 'digest', 'DT', 'ellipsis', 'glue', 'git2r', 'httr', 'jsonlite', 'memoise', 'rcmdcheck', 'remotes', 'roxygen2', 'rstudioapi', 'rversions', 'sessioninfo'\n",
      "\n"
     ]
    },
    {
     "name": "stdout",
     "output_type": "stream",
     "text": [
      "\n",
      "  There is a binary version available but the source version is later:\n",
      "   binary source needs_compilation\n",
      "fs  1.4.1  1.4.2              TRUE\n",
      "\n",
      "  Binaries will be installed\n",
      "package 'ini' successfully unpacked and MD5 sums checked\n",
      "package 'fs' successfully unpacked and MD5 sums checked\n",
      "package 'gh' successfully unpacked and MD5 sums checked\n",
      "package 'rematch2' successfully unpacked and MD5 sums checked\n",
      "package 'processx' successfully unpacked and MD5 sums checked\n",
      "package 'rex' successfully unpacked and MD5 sums checked\n",
      "package 'crosstalk' successfully unpacked and MD5 sums checked\n",
      "package 'xopen' successfully unpacked and MD5 sums checked\n",
      "package 'brew' successfully unpacked and MD5 sums checked\n",
      "package 'commonmark' successfully unpacked and MD5 sums checked\n",
      "package 'purrr' successfully unpacked and MD5 sums checked\n",
      "package 'usethis' successfully unpacked and MD5 sums checked\n",
      "package 'callr' successfully unpacked and MD5 sums checked\n",
      "package 'cli' successfully unpacked and MD5 sums checked\n",
      "package 'covr' successfully unpacked and MD5 sums checked\n",
      "package 'digest' successfully unpacked and MD5 sums checked\n"
     ]
    },
    {
     "name": "stderr",
     "output_type": "stream",
     "text": [
      "Warning message:\n",
      "\"cannot remove prior installation of package 'digest'\"Warning message in file.copy(savedcopy, lib, recursive = TRUE):\n",
      "\"C:\\Users\\205\\anaconda3\\envs\\r_study\\Lib\\R\\library\\00LOCK\\digest\\libs\\x64\\digest.dll를 C:\\Users\\205\\anaconda3\\envs\\r_study\\Lib\\R\\library\\digest\\libs\\x64\\digest.dll로 복사하는데 문제가 발생했습니다: Permission denied\"Warning message:\n",
      "\"restored 'digest'\""
     ]
    },
    {
     "name": "stdout",
     "output_type": "stream",
     "text": [
      "package 'DT' successfully unpacked and MD5 sums checked\n",
      "package 'ellipsis' successfully unpacked and MD5 sums checked\n",
      "package 'glue' successfully unpacked and MD5 sums checked\n",
      "package 'git2r' successfully unpacked and MD5 sums checked\n",
      "package 'httr' successfully unpacked and MD5 sums checked\n",
      "package 'jsonlite' successfully unpacked and MD5 sums checked\n"
     ]
    },
    {
     "name": "stderr",
     "output_type": "stream",
     "text": [
      "Warning message:\n",
      "\"cannot remove prior installation of package 'jsonlite'\"Warning message in file.copy(savedcopy, lib, recursive = TRUE):\n",
      "\"C:\\Users\\205\\anaconda3\\envs\\r_study\\Lib\\R\\library\\00LOCK\\jsonlite\\libs\\x64\\jsonlite.dll를 C:\\Users\\205\\anaconda3\\envs\\r_study\\Lib\\R\\library\\jsonlite\\libs\\x64\\jsonlite.dll로 복사하는데 문제가 발생했습니다: Permission denied\"Warning message:\n",
      "\"restored 'jsonlite'\""
     ]
    },
    {
     "name": "stdout",
     "output_type": "stream",
     "text": [
      "package 'memoise' successfully unpacked and MD5 sums checked\n",
      "package 'rcmdcheck' successfully unpacked and MD5 sums checked\n",
      "package 'remotes' successfully unpacked and MD5 sums checked\n",
      "package 'roxygen2' successfully unpacked and MD5 sums checked\n",
      "package 'rstudioapi' successfully unpacked and MD5 sums checked\n",
      "package 'rversions' successfully unpacked and MD5 sums checked\n",
      "package 'sessioninfo' successfully unpacked and MD5 sums checked\n",
      "package 'devtools' successfully unpacked and MD5 sums checked\n",
      "\n",
      "The downloaded binary packages are in\n",
      "\tC:\\Users\\205\\AppData\\Local\\Temp\\RtmpyeJLsF\\downloaded_packages\n"
     ]
    }
   ],
   "source": [
    "install.packages('devtools')"
   ]
  },
  {
   "cell_type": "code",
   "execution_count": 6,
   "metadata": {},
   "outputs": [
    {
     "name": "stderr",
     "output_type": "stream",
     "text": [
      "also installing the dependencies 'pillar', 'lifecycle', 'tibble', 'tidyselect', 'vctrs'\n",
      "\n"
     ]
    },
    {
     "name": "stdout",
     "output_type": "stream",
     "text": [
      "package 'pillar' successfully unpacked and MD5 sums checked\n",
      "package 'lifecycle' successfully unpacked and MD5 sums checked\n",
      "package 'tibble' successfully unpacked and MD5 sums checked\n",
      "package 'tidyselect' successfully unpacked and MD5 sums checked\n",
      "package 'vctrs' successfully unpacked and MD5 sums checked\n",
      "package 'dplyr' successfully unpacked and MD5 sums checked\n",
      "\n",
      "The downloaded binary packages are in\n",
      "\tC:\\Users\\205\\AppData\\Local\\Temp\\RtmpyeJLsF\\downloaded_packages\n"
     ]
    }
   ],
   "source": [
    "install.packages('dplyr')"
   ]
  },
  {
   "cell_type": "code",
   "execution_count": 7,
   "metadata": {},
   "outputs": [
    {
     "name": "stdout",
     "output_type": "stream",
     "text": [
      "package 'plyr' successfully unpacked and MD5 sums checked\n",
      "\n",
      "The downloaded binary packages are in\n",
      "\tC:\\Users\\205\\AppData\\Local\\Temp\\RtmpyeJLsF\\downloaded_packages\n"
     ]
    }
   ],
   "source": [
    "install.packages('plyr')"
   ]
  },
  {
   "cell_type": "code",
   "execution_count": 8,
   "metadata": {},
   "outputs": [
    {
     "name": "stdout",
     "output_type": "stream",
     "text": [
      "package 'reshape2' successfully unpacked and MD5 sums checked\n",
      "\n",
      "The downloaded binary packages are in\n",
      "\tC:\\Users\\205\\AppData\\Local\\Temp\\RtmpyeJLsF\\downloaded_packages\n"
     ]
    }
   ],
   "source": [
    "install.packages('reshape2')"
   ]
  },
  {
   "cell_type": "code",
   "execution_count": 9,
   "metadata": {},
   "outputs": [
    {
     "name": "stderr",
     "output_type": "stream",
     "text": [
      "also installing the dependency 'farver'\n",
      "\n"
     ]
    },
    {
     "name": "stdout",
     "output_type": "stream",
     "text": [
      "package 'farver' successfully unpacked and MD5 sums checked\n",
      "package 'scales' successfully unpacked and MD5 sums checked\n",
      "\n",
      "The downloaded binary packages are in\n",
      "\tC:\\Users\\205\\AppData\\Local\\Temp\\RtmpyeJLsF\\downloaded_packages\n"
     ]
    }
   ],
   "source": [
    "install.packages('scales')"
   ]
  },
  {
   "cell_type": "code",
   "execution_count": 10,
   "metadata": {},
   "outputs": [
    {
     "name": "stdout",
     "output_type": "stream",
     "text": [
      "package 'stringr' successfully unpacked and MD5 sums checked\n",
      "\n",
      "The downloaded binary packages are in\n",
      "\tC:\\Users\\205\\AppData\\Local\\Temp\\RtmpyeJLsF\\downloaded_packages\n"
     ]
    }
   ],
   "source": [
    "install.packages('stringr')"
   ]
  },
  {
   "cell_type": "code",
   "execution_count": 11,
   "metadata": {},
   "outputs": [],
   "source": [
    "library()"
   ]
  },
  {
   "cell_type": "code",
   "execution_count": null,
   "metadata": {},
   "outputs": [],
   "source": [
    "installed.packages()"
   ]
  },
  {
   "cell_type": "code",
   "execution_count": null,
   "metadata": {},
   "outputs": [],
   "source": [
    "installed.packages()[,c('Package','Version')]    ## 설치된 패키지중 일부만 확인"
   ]
  },
  {
   "cell_type": "code",
   "execution_count": 14,
   "metadata": {},
   "outputs": [],
   "source": [
    "help('rep')    ## 메서드 설명"
   ]
  },
  {
   "cell_type": "code",
   "execution_count": 15,
   "metadata": {},
   "outputs": [],
   "source": [
    "## ?rep    위와 같음."
   ]
  },
  {
   "cell_type": "code",
   "execution_count": null,
   "metadata": {},
   "outputs": [],
   "source": []
  },
  {
   "cell_type": "markdown",
   "metadata": {},
   "source": [
    "## R에서 외부데이터 읽기"
   ]
  },
  {
   "cell_type": "code",
   "execution_count": 18,
   "metadata": {},
   "outputs": [],
   "source": [
    "# csv\n",
    "List <- read.csv('r-ggagi-data//example_studentlist.csv')\n",
    "List"
   ]
  },
  {
   "cell_type": "code",
   "execution_count": null,
   "metadata": {},
   "outputs": [],
   "source": [
    "List <- read.csv('r-ggagi-data//example_studentlist.csv', header = F)       ## F = FALSE\n",
    "List"
   ]
  },
  {
   "cell_type": "code",
   "execution_count": null,
   "metadata": {},
   "outputs": [],
   "source": [
    "## TXT\n",
    "## read.table() : headaer = F, 구분자 tab\n",
    "List <- read.table('r-ggagi-data/studentlist.txt')\n",
    "List"
   ]
  },
  {
   "cell_type": "code",
   "execution_count": null,
   "metadata": {},
   "outputs": [],
   "source": [
    "List <- read.table('r-ggagi-data/studentlist.txt', header = T)\n",
    "List"
   ]
  },
  {
   "cell_type": "code",
   "execution_count": null,
   "metadata": {},
   "outputs": [],
   "source": [
    "read.table('r-ggagi-data/studentlist2.txt', header = T,sep = ';')"
   ]
  },
  {
   "cell_type": "code",
   "execution_count": null,
   "metadata": {},
   "outputs": [],
   "source": [
    "## Excel"
   ]
  },
  {
   "cell_type": "code",
   "execution_count": 30,
   "metadata": {},
   "outputs": [
    {
     "name": "stdout",
     "output_type": "stream",
     "text": [
      "package 'readxl' successfully unpacked and MD5 sums checked\n",
      "\n",
      "The downloaded binary packages are in\n",
      "\tC:\\Users\\205\\AppData\\Local\\Temp\\RtmpyeJLsF\\downloaded_packages\n"
     ]
    }
   ],
   "source": [
    "install.packages('readxl')"
   ]
  },
  {
   "cell_type": "code",
   "execution_count": 32,
   "metadata": {},
   "outputs": [],
   "source": [
    "library('readxl')"
   ]
  },
  {
   "cell_type": "code",
   "execution_count": 35,
   "metadata": {},
   "outputs": [
    {
     "data": {
      "text/html": [
       "<table>\n",
       "<thead><tr><th scope=col>name</th><th scope=col>sex</th><th scope=col>age</th><th scope=col>grade</th><th scope=col>absence</th><th scope=col>bloodtype</th><th scope=col>height</th><th scope=col>weight</th></tr></thead>\n",
       "<tbody>\n",
       "\t<tr><td>김길동</td><td>남자  </td><td>23    </td><td>3     </td><td>유    </td><td>O     </td><td>165.3 </td><td>68.2  </td></tr>\n",
       "\t<tr><td>이미린</td><td>여자  </td><td>22    </td><td>2     </td><td>무    </td><td>AB    </td><td>170.1 </td><td>53.0  </td></tr>\n",
       "\t<tr><td>홍길동</td><td>남자  </td><td>24    </td><td>4     </td><td>무    </td><td>B     </td><td>175.0 </td><td>80.1  </td></tr>\n",
       "\t<tr><td>김철수</td><td>남자  </td><td>23    </td><td>3     </td><td>무    </td><td>AB    </td><td>182.1 </td><td>85.7  </td></tr>\n",
       "\t<tr><td>손세수</td><td>여자  </td><td>20    </td><td>1     </td><td>유    </td><td>A     </td><td>168.0 </td><td>49.5  </td></tr>\n",
       "\t<tr><td>박미희</td><td>여자  </td><td>21    </td><td>2     </td><td>무    </td><td>O     </td><td>162.0 </td><td>52.0  </td></tr>\n",
       "\t<tr><td>강수친</td><td>여자  </td><td>22    </td><td>1     </td><td>무    </td><td>O     </td><td>155.2 </td><td>45.3  </td></tr>\n",
       "\t<tr><td>이희수</td><td>여자  </td><td>23    </td><td>1     </td><td>무    </td><td>A     </td><td>176.9 </td><td>55.0  </td></tr>\n",
       "\t<tr><td>이철린</td><td>남자  </td><td>23    </td><td>3     </td><td>무    </td><td>B     </td><td>178.5 </td><td>64.2  </td></tr>\n",
       "\t<tr><td>방희철</td><td>남자  </td><td>22    </td><td>2     </td><td>무    </td><td>B     </td><td>176.1 </td><td>61.3  </td></tr>\n",
       "\t<tr><td>박수호</td><td>남자  </td><td>24    </td><td>4     </td><td>유    </td><td>O     </td><td>167.1 </td><td>62.0  </td></tr>\n",
       "\t<tr><td>임동민</td><td>남자  </td><td>22    </td><td>2     </td><td>무    </td><td>AB    </td><td>180.0 </td><td>75.8  </td></tr>\n",
       "\t<tr><td>김민수</td><td>남자  </td><td>21    </td><td>1     </td><td>무    </td><td>A     </td><td>162.2 </td><td>55.3  </td></tr>\n",
       "\t<tr><td>이희진</td><td>여자  </td><td>23    </td><td>3     </td><td>무    </td><td>O     </td><td>176.1 </td><td>53.1  </td></tr>\n",
       "\t<tr><td>김미진</td><td>여자  </td><td>22    </td><td>2     </td><td>무    </td><td>B     </td><td>158.2 </td><td>45.2  </td></tr>\n",
       "\t<tr><td>김동수</td><td>남자  </td><td>24    </td><td>4     </td><td>유    </td><td>B     </td><td>168.6 </td><td>70.2  </td></tr>\n",
       "\t<tr><td>여수근</td><td>남자  </td><td>21    </td><td>1     </td><td>무    </td><td>A     </td><td>169.2 </td><td>62.2  </td></tr>\n",
       "</tbody>\n",
       "</table>\n"
      ],
      "text/latex": [
       "\\begin{tabular}{r|llllllll}\n",
       " name & sex & age & grade & absence & bloodtype & height & weight\\\\\n",
       "\\hline\n",
       "\t 김길동 & 남자   & 23     & 3      & 유     & O      & 165.3  & 68.2  \\\\\n",
       "\t 이미린 & 여자   & 22     & 2      & 무     & AB     & 170.1  & 53.0  \\\\\n",
       "\t 홍길동 & 남자   & 24     & 4      & 무     & B      & 175.0  & 80.1  \\\\\n",
       "\t 김철수 & 남자   & 23     & 3      & 무     & AB     & 182.1  & 85.7  \\\\\n",
       "\t 손세수 & 여자   & 20     & 1      & 유     & A      & 168.0  & 49.5  \\\\\n",
       "\t 박미희 & 여자   & 21     & 2      & 무     & O      & 162.0  & 52.0  \\\\\n",
       "\t 강수친 & 여자   & 22     & 1      & 무     & O      & 155.2  & 45.3  \\\\\n",
       "\t 이희수 & 여자   & 23     & 1      & 무     & A      & 176.9  & 55.0  \\\\\n",
       "\t 이철린 & 남자   & 23     & 3      & 무     & B      & 178.5  & 64.2  \\\\\n",
       "\t 방희철 & 남자   & 22     & 2      & 무     & B      & 176.1  & 61.3  \\\\\n",
       "\t 박수호 & 남자   & 24     & 4      & 유     & O      & 167.1  & 62.0  \\\\\n",
       "\t 임동민 & 남자   & 22     & 2      & 무     & AB     & 180.0  & 75.8  \\\\\n",
       "\t 김민수 & 남자   & 21     & 1      & 무     & A      & 162.2  & 55.3  \\\\\n",
       "\t 이희진 & 여자   & 23     & 3      & 무     & O      & 176.1  & 53.1  \\\\\n",
       "\t 김미진 & 여자   & 22     & 2      & 무     & B      & 158.2  & 45.2  \\\\\n",
       "\t 김동수 & 남자   & 24     & 4      & 유     & B      & 168.6  & 70.2  \\\\\n",
       "\t 여수근 & 남자   & 21     & 1      & 무     & A      & 169.2  & 62.2  \\\\\n",
       "\\end{tabular}\n"
      ],
      "text/markdown": [
       "\n",
       "| name | sex | age | grade | absence | bloodtype | height | weight |\n",
       "|---|---|---|---|---|---|---|---|\n",
       "| 김길동 | 남자   | 23     | 3      | 유     | O      | 165.3  | 68.2   |\n",
       "| 이미린 | 여자   | 22     | 2      | 무     | AB     | 170.1  | 53.0   |\n",
       "| 홍길동 | 남자   | 24     | 4      | 무     | B      | 175.0  | 80.1   |\n",
       "| 김철수 | 남자   | 23     | 3      | 무     | AB     | 182.1  | 85.7   |\n",
       "| 손세수 | 여자   | 20     | 1      | 유     | A      | 168.0  | 49.5   |\n",
       "| 박미희 | 여자   | 21     | 2      | 무     | O      | 162.0  | 52.0   |\n",
       "| 강수친 | 여자   | 22     | 1      | 무     | O      | 155.2  | 45.3   |\n",
       "| 이희수 | 여자   | 23     | 1      | 무     | A      | 176.9  | 55.0   |\n",
       "| 이철린 | 남자   | 23     | 3      | 무     | B      | 178.5  | 64.2   |\n",
       "| 방희철 | 남자   | 22     | 2      | 무     | B      | 176.1  | 61.3   |\n",
       "| 박수호 | 남자   | 24     | 4      | 유     | O      | 167.1  | 62.0   |\n",
       "| 임동민 | 남자   | 22     | 2      | 무     | AB     | 180.0  | 75.8   |\n",
       "| 김민수 | 남자   | 21     | 1      | 무     | A      | 162.2  | 55.3   |\n",
       "| 이희진 | 여자   | 23     | 3      | 무     | O      | 176.1  | 53.1   |\n",
       "| 김미진 | 여자   | 22     | 2      | 무     | B      | 158.2  | 45.2   |\n",
       "| 김동수 | 남자   | 24     | 4      | 유     | B      | 168.6  | 70.2   |\n",
       "| 여수근 | 남자   | 21     | 1      | 무     | A      | 169.2  | 62.2   |\n",
       "\n"
      ],
      "text/plain": [
       "   name   sex  age grade absence bloodtype height weight\n",
       "1  김길동 남자 23  3     유      O         165.3  68.2  \n",
       "2  이미린 여자 22  2     무      AB        170.1  53.0  \n",
       "3  홍길동 남자 24  4     무      B         175.0  80.1  \n",
       "4  김철수 남자 23  3     무      AB        182.1  85.7  \n",
       "5  손세수 여자 20  1     유      A         168.0  49.5  \n",
       "6  박미희 여자 21  2     무      O         162.0  52.0  \n",
       "7  강수친 여자 22  1     무      O         155.2  45.3  \n",
       "8  이희수 여자 23  1     무      A         176.9  55.0  \n",
       "9  이철린 남자 23  3     무      B         178.5  64.2  \n",
       "10 방희철 남자 22  2     무      B         176.1  61.3  \n",
       "11 박수호 남자 24  4     유      O         167.1  62.0  \n",
       "12 임동민 남자 22  2     무      AB        180.0  75.8  \n",
       "13 김민수 남자 21  1     무      A         162.2  55.3  \n",
       "14 이희진 여자 23  3     무      O         176.1  53.1  \n",
       "15 김미진 여자 22  2     무      B         158.2  45.2  \n",
       "16 김동수 남자 24  4     유      B         168.6  70.2  \n",
       "17 여수근 남자 21  1     무      A         169.2  62.2  "
      ]
     },
     "metadata": {},
     "output_type": "display_data"
    }
   ],
   "source": [
    "df <- read_excel(path='r-ggagi-data/studentlist.xlsx',sheet = 'Sheet1',col_names = T)\n",
    "df"
   ]
  },
  {
   "cell_type": "code",
   "execution_count": 34,
   "metadata": {},
   "outputs": [
    {
     "name": "stderr",
     "output_type": "stream",
     "text": [
      "New names:\n",
      "* `` -> ...1\n",
      "* `` -> ...2\n",
      "* `` -> ...3\n",
      "* `` -> ...4\n",
      "* `` -> ...5\n",
      "* ...\n"
     ]
    },
    {
     "data": {
      "text/html": [
       "<table>\n",
       "<thead><tr><th scope=col>...1</th><th scope=col>...2</th><th scope=col>...3</th><th scope=col>...4</th><th scope=col>...5</th><th scope=col>...6</th><th scope=col>...7</th><th scope=col>...8</th></tr></thead>\n",
       "<tbody>\n",
       "\t<tr><td>name              </td><td>sex               </td><td>age               </td><td>grade             </td><td>absence           </td><td>bloodtype         </td><td>height            </td><td>weight            </td></tr>\n",
       "\t<tr><td>김길동            </td><td>남자              </td><td>23                </td><td>3                 </td><td>유                </td><td>O                 </td><td>165.3             </td><td>68.2              </td></tr>\n",
       "\t<tr><td>이미린            </td><td>여자              </td><td>22                </td><td>2                 </td><td>무                </td><td>AB                </td><td>170.1             </td><td>53                </td></tr>\n",
       "\t<tr><td>홍길동            </td><td>남자              </td><td>24                </td><td>4                 </td><td>무                </td><td>B                 </td><td>175               </td><td>80.099999999999994</td></tr>\n",
       "\t<tr><td>김철수            </td><td>남자              </td><td>23                </td><td>3                 </td><td>무                </td><td>AB                </td><td>182.1             </td><td>85.7              </td></tr>\n",
       "\t<tr><td>손세수            </td><td>여자              </td><td>20                </td><td>1                 </td><td>유                </td><td>A                 </td><td>168               </td><td>49.5              </td></tr>\n",
       "\t<tr><td>박미희            </td><td>여자              </td><td>21                </td><td>2                 </td><td>무                </td><td>O                 </td><td>162               </td><td>52                </td></tr>\n",
       "\t<tr><td>강수친            </td><td>여자              </td><td>22                </td><td>1                 </td><td>무                </td><td>O                 </td><td>155.19999999999999</td><td>45.3              </td></tr>\n",
       "\t<tr><td>이희수            </td><td>여자              </td><td>23                </td><td>1                 </td><td>무                </td><td>A                 </td><td>176.9             </td><td>55                </td></tr>\n",
       "\t<tr><td>이철린            </td><td>남자              </td><td>23                </td><td>3                 </td><td>무                </td><td>B                 </td><td>178.5             </td><td>64.2              </td></tr>\n",
       "\t<tr><td>방희철            </td><td>남자              </td><td>22                </td><td>2                 </td><td>무                </td><td>B                 </td><td>176.1             </td><td>61.3              </td></tr>\n",
       "\t<tr><td>박수호            </td><td>남자              </td><td>24                </td><td>4                 </td><td>유                </td><td>O                 </td><td>167.1             </td><td>62                </td></tr>\n",
       "\t<tr><td>임동민            </td><td>남자              </td><td>22                </td><td>2                 </td><td>무                </td><td>AB                </td><td>180               </td><td>75.8              </td></tr>\n",
       "\t<tr><td>김민수            </td><td>남자              </td><td>21                </td><td>1                 </td><td>무                </td><td>A                 </td><td>162.19999999999999</td><td>55.3              </td></tr>\n",
       "\t<tr><td>이희진            </td><td>여자              </td><td>23                </td><td>3                 </td><td>무                </td><td>O                 </td><td>176.1             </td><td>53.1              </td></tr>\n",
       "\t<tr><td>김미진            </td><td>여자              </td><td>22                </td><td>2                 </td><td>무                </td><td>B                 </td><td>158.19999999999999</td><td>45.2              </td></tr>\n",
       "\t<tr><td>김동수            </td><td>남자              </td><td>24                </td><td>4                 </td><td>유                </td><td>B                 </td><td>168.6             </td><td>70.2              </td></tr>\n",
       "\t<tr><td>여수근            </td><td>남자              </td><td>21                </td><td>1                 </td><td>무                </td><td>A                 </td><td>169.2             </td><td>62.2              </td></tr>\n",
       "</tbody>\n",
       "</table>\n"
      ],
      "text/latex": [
       "\\begin{tabular}{r|llllllll}\n",
       " ...1 & ...2 & ...3 & ...4 & ...5 & ...6 & ...7 & ...8\\\\\n",
       "\\hline\n",
       "\t name               & sex                & age                & grade              & absence            & bloodtype          & height             & weight            \\\\\n",
       "\t 김길동             & 남자               & 23                 & 3                  & 유                 & O                  & 165.3              & 68.2              \\\\\n",
       "\t 이미린             & 여자               & 22                 & 2                  & 무                 & AB                 & 170.1              & 53                \\\\\n",
       "\t 홍길동             & 남자               & 24                 & 4                  & 무                 & B                  & 175                & 80.099999999999994\\\\\n",
       "\t 김철수             & 남자               & 23                 & 3                  & 무                 & AB                 & 182.1              & 85.7              \\\\\n",
       "\t 손세수             & 여자               & 20                 & 1                  & 유                 & A                  & 168                & 49.5              \\\\\n",
       "\t 박미희             & 여자               & 21                 & 2                  & 무                 & O                  & 162                & 52                \\\\\n",
       "\t 강수친             & 여자               & 22                 & 1                  & 무                 & O                  & 155.19999999999999 & 45.3              \\\\\n",
       "\t 이희수             & 여자               & 23                 & 1                  & 무                 & A                  & 176.9              & 55                \\\\\n",
       "\t 이철린             & 남자               & 23                 & 3                  & 무                 & B                  & 178.5              & 64.2              \\\\\n",
       "\t 방희철             & 남자               & 22                 & 2                  & 무                 & B                  & 176.1              & 61.3              \\\\\n",
       "\t 박수호             & 남자               & 24                 & 4                  & 유                 & O                  & 167.1              & 62                \\\\\n",
       "\t 임동민             & 남자               & 22                 & 2                  & 무                 & AB                 & 180                & 75.8              \\\\\n",
       "\t 김민수             & 남자               & 21                 & 1                  & 무                 & A                  & 162.19999999999999 & 55.3              \\\\\n",
       "\t 이희진             & 여자               & 23                 & 3                  & 무                 & O                  & 176.1              & 53.1              \\\\\n",
       "\t 김미진             & 여자               & 22                 & 2                  & 무                 & B                  & 158.19999999999999 & 45.2              \\\\\n",
       "\t 김동수             & 남자               & 24                 & 4                  & 유                 & B                  & 168.6              & 70.2              \\\\\n",
       "\t 여수근             & 남자               & 21                 & 1                  & 무                 & A                  & 169.2              & 62.2              \\\\\n",
       "\\end{tabular}\n"
      ],
      "text/markdown": [
       "\n",
       "| ...1 | ...2 | ...3 | ...4 | ...5 | ...6 | ...7 | ...8 |\n",
       "|---|---|---|---|---|---|---|---|\n",
       "| name               | sex                | age                | grade              | absence            | bloodtype          | height             | weight             |\n",
       "| 김길동             | 남자               | 23                 | 3                  | 유                 | O                  | 165.3              | 68.2               |\n",
       "| 이미린             | 여자               | 22                 | 2                  | 무                 | AB                 | 170.1              | 53                 |\n",
       "| 홍길동             | 남자               | 24                 | 4                  | 무                 | B                  | 175                | 80.099999999999994 |\n",
       "| 김철수             | 남자               | 23                 | 3                  | 무                 | AB                 | 182.1              | 85.7               |\n",
       "| 손세수             | 여자               | 20                 | 1                  | 유                 | A                  | 168                | 49.5               |\n",
       "| 박미희             | 여자               | 21                 | 2                  | 무                 | O                  | 162                | 52                 |\n",
       "| 강수친             | 여자               | 22                 | 1                  | 무                 | O                  | 155.19999999999999 | 45.3               |\n",
       "| 이희수             | 여자               | 23                 | 1                  | 무                 | A                  | 176.9              | 55                 |\n",
       "| 이철린             | 남자               | 23                 | 3                  | 무                 | B                  | 178.5              | 64.2               |\n",
       "| 방희철             | 남자               | 22                 | 2                  | 무                 | B                  | 176.1              | 61.3               |\n",
       "| 박수호             | 남자               | 24                 | 4                  | 유                 | O                  | 167.1              | 62                 |\n",
       "| 임동민             | 남자               | 22                 | 2                  | 무                 | AB                 | 180                | 75.8               |\n",
       "| 김민수             | 남자               | 21                 | 1                  | 무                 | A                  | 162.19999999999999 | 55.3               |\n",
       "| 이희진             | 여자               | 23                 | 3                  | 무                 | O                  | 176.1              | 53.1               |\n",
       "| 김미진             | 여자               | 22                 | 2                  | 무                 | B                  | 158.19999999999999 | 45.2               |\n",
       "| 김동수             | 남자               | 24                 | 4                  | 유                 | B                  | 168.6              | 70.2               |\n",
       "| 여수근             | 남자               | 21                 | 1                  | 무                 | A                  | 169.2              | 62.2               |\n",
       "\n"
      ],
      "text/plain": [
       "   ...1   ...2 ...3 ...4  ...5    ...6      ...7              \n",
       "1  name   sex  age  grade absence bloodtype height            \n",
       "2  김길동 남자 23   3     유      O         165.3             \n",
       "3  이미린 여자 22   2     무      AB        170.1             \n",
       "4  홍길동 남자 24   4     무      B         175               \n",
       "5  김철수 남자 23   3     무      AB        182.1             \n",
       "6  손세수 여자 20   1     유      A         168               \n",
       "7  박미희 여자 21   2     무      O         162               \n",
       "8  강수친 여자 22   1     무      O         155.19999999999999\n",
       "9  이희수 여자 23   1     무      A         176.9             \n",
       "10 이철린 남자 23   3     무      B         178.5             \n",
       "11 방희철 남자 22   2     무      B         176.1             \n",
       "12 박수호 남자 24   4     유      O         167.1             \n",
       "13 임동민 남자 22   2     무      AB        180               \n",
       "14 김민수 남자 21   1     무      A         162.19999999999999\n",
       "15 이희진 여자 23   3     무      O         176.1             \n",
       "16 김미진 여자 22   2     무      B         158.19999999999999\n",
       "17 김동수 남자 24   4     유      B         168.6             \n",
       "18 여수근 남자 21   1     무      A         169.2             \n",
       "   ...8              \n",
       "1  weight            \n",
       "2  68.2              \n",
       "3  53                \n",
       "4  80.099999999999994\n",
       "5  85.7              \n",
       "6  49.5              \n",
       "7  52                \n",
       "8  45.3              \n",
       "9  55                \n",
       "10 64.2              \n",
       "11 61.3              \n",
       "12 62                \n",
       "13 75.8              \n",
       "14 55.3              \n",
       "15 53.1              \n",
       "16 45.2              \n",
       "17 70.2              \n",
       "18 62.2              "
      ]
     },
     "metadata": {},
     "output_type": "display_data"
    }
   ],
   "source": [
    "df <- read_excel(path='r-ggagi-data/studentlist.xlsx',sheet = 'Sheet1',col_names = F)\n",
    "df"
   ]
  },
  {
   "cell_type": "code",
   "execution_count": 36,
   "metadata": {},
   "outputs": [],
   "source": [
    "## SPSS 프로그램 sav"
   ]
  },
  {
   "cell_type": "code",
   "execution_count": 40,
   "metadata": {},
   "outputs": [
    {
     "name": "stderr",
     "output_type": "stream",
     "text": [
      "Warning message:\n",
      "\"package 'foreign' is not available (for R version 3.6.1)\""
     ]
    }
   ],
   "source": [
    "install.packages('foreign')"
   ]
  },
  {
   "cell_type": "code",
   "execution_count": 41,
   "metadata": {},
   "outputs": [],
   "source": [
    "library('foreign')"
   ]
  },
  {
   "cell_type": "code",
   "execution_count": 42,
   "metadata": {},
   "outputs": [
    {
     "data": {
      "text/html": [
       "<dl>\n",
       "\t<dt>$ID</dt>\n",
       "\t\t<dd><ol class=list-inline>\n",
       "\t<li>1</li>\n",
       "\t<li>2</li>\n",
       "\t<li>3</li>\n",
       "</ol>\n",
       "</dd>\n",
       "\t<dt>$Score</dt>\n",
       "\t\t<dd><ol class=list-inline>\n",
       "\t<li>80</li>\n",
       "\t<li>90</li>\n",
       "\t<li>100</li>\n",
       "</ol>\n",
       "</dd>\n",
       "</dl>\n"
      ],
      "text/latex": [
       "\\begin{description}\n",
       "\\item[\\$ID] \\begin{enumerate*}\n",
       "\\item 1\n",
       "\\item 2\n",
       "\\item 3\n",
       "\\end{enumerate*}\n",
       "\n",
       "\\item[\\$Score] \\begin{enumerate*}\n",
       "\\item 80\n",
       "\\item 90\n",
       "\\item 100\n",
       "\\end{enumerate*}\n",
       "\n",
       "\\end{description}\n"
      ],
      "text/markdown": [
       "$ID\n",
       ":   1. 1\n",
       "2. 2\n",
       "3. 3\n",
       "\n",
       "\n",
       "\n",
       "$Score\n",
       ":   1. 80\n",
       "2. 90\n",
       "3. 100\n",
       "\n",
       "\n",
       "\n",
       "\n",
       "\n"
      ],
      "text/plain": [
       "$ID\n",
       "[1] 1 2 3\n",
       "\n",
       "$Score\n",
       "[1]  80  90 100\n",
       "\n",
       "attr(,\"label.table\")\n",
       "attr(,\"label.table\")$ID\n",
       "NULL\n",
       "\n",
       "attr(,\"label.table\")$Score\n",
       "NULL\n",
       "\n",
       "attr(,\"codepage\")\n",
       "[1] 51949"
      ]
     },
     "metadata": {},
     "output_type": "display_data"
    }
   ],
   "source": [
    "Score <- read.spss('r-ggagi-data/score.sav')\n",
    "Score"
   ]
  },
  {
   "cell_type": "code",
   "execution_count": 43,
   "metadata": {},
   "outputs": [],
   "source": [
    "## XML"
   ]
  },
  {
   "cell_type": "code",
   "execution_count": 44,
   "metadata": {},
   "outputs": [
    {
     "name": "stdout",
     "output_type": "stream",
     "text": [
      "package 'XML' successfully unpacked and MD5 sums checked\n",
      "\n",
      "The downloaded binary packages are in\n",
      "\tC:\\Users\\205\\AppData\\Local\\Temp\\RtmpyeJLsF\\downloaded_packages\n"
     ]
    }
   ],
   "source": [
    "install.packages('XML')"
   ]
  },
  {
   "cell_type": "code",
   "execution_count": 45,
   "metadata": {},
   "outputs": [
    {
     "name": "stderr",
     "output_type": "stream",
     "text": [
      "Warning message:\n",
      "\"package 'XML' was built under R version 3.6.3\""
     ]
    }
   ],
   "source": [
    "library('XML')"
   ]
  },
  {
   "cell_type": "code",
   "execution_count": 46,
   "metadata": {},
   "outputs": [
    {
     "data": {
      "text/plain": [
       "$doc\n",
       "$file\n",
       "[1] \"r-ggagi-data/score.xml\"\n",
       "\n",
       "$version\n",
       "[1] \"1.0\"\n",
       "\n",
       "$children\n",
       "$children$mathscore\n",
       "<mathscore>\n",
       " <student>\n",
       "  <name>Peter</name>\n",
       "  <score>100</score>\n",
       " </student>\n",
       " <student>\n",
       "  <name>Abel</name>\n",
       "  <score>90</score>\n",
       " </student>\n",
       " <student>\n",
       "  <name>Elin</name>\n",
       "  <score>80</score>\n",
       " </student>\n",
       "</mathscore>\n",
       "\n",
       "\n",
       "attr(,\"class\")\n",
       "[1] \"XMLDocumentContent\"\n",
       "\n",
       "$dtd\n",
       "$external\n",
       "NULL\n",
       "\n",
       "$internal\n",
       "NULL\n",
       "\n",
       "attr(,\"class\")\n",
       "[1] \"DTDList\"\n",
       "\n",
       "attr(,\"class\")\n",
       "[1] \"XMLDocument\"         \"XMLAbstractDocument\""
      ]
     },
     "metadata": {},
     "output_type": "display_data"
    }
   ],
   "source": [
    "DocFromXML <- xmlTreeParse('r-ggagi-data/score.xml')\n",
    "DocFromXML"
   ]
  },
  {
   "cell_type": "code",
   "execution_count": 50,
   "metadata": {},
   "outputs": [
    {
     "data": {
      "text/plain": [
       "<?xml version=\"1.0\"?>\n",
       "<mathscore>\n",
       "  <student>\n",
       "    <name>Peter</name>\n",
       "    <score>100</score>\n",
       "  </student>\n",
       "  <student>\n",
       "    <name>Abel</name>\n",
       "    <score>90</score>\n",
       "  </student>\n",
       "  <student>\n",
       "    <name>Elin</name>\n",
       "    <score>80</score>\n",
       "  </student>\n",
       "</mathscore>\n",
       " "
      ]
     },
     "metadata": {},
     "output_type": "display_data"
    }
   ],
   "source": [
    "DocFromXmL <- xmlTreeParse('r-ggagi-data/score.xml', useInternalNodes = T)\n",
    "DocFromXmL"
   ]
  },
  {
   "cell_type": "code",
   "execution_count": 52,
   "metadata": {},
   "outputs": [
    {
     "data": {
      "text/plain": [
       "<mathscore>\n",
       "  <student>\n",
       "    <name>Peter</name>\n",
       "    <score>100</score>\n",
       "  </student>\n",
       "  <student>\n",
       "    <name>Abel</name>\n",
       "    <score>90</score>\n",
       "  </student>\n",
       "  <student>\n",
       "    <name>Elin</name>\n",
       "    <score>80</score>\n",
       "  </student>\n",
       "</mathscore> "
      ]
     },
     "metadata": {},
     "output_type": "display_data"
    }
   ],
   "source": [
    "RootNode <- xmlRoot(DocFromXmL)\n",
    "RootNode"
   ]
  },
  {
   "cell_type": "code",
   "execution_count": 53,
   "metadata": {},
   "outputs": [
    {
     "data": {
      "text/html": [
       "<ol class=list-inline>\n",
       "\t<li>'Peter'</li>\n",
       "\t<li>'Abel'</li>\n",
       "\t<li>'Elin'</li>\n",
       "</ol>\n"
      ],
      "text/latex": [
       "\\begin{enumerate*}\n",
       "\\item 'Peter'\n",
       "\\item 'Abel'\n",
       "\\item 'Elin'\n",
       "\\end{enumerate*}\n"
      ],
      "text/markdown": [
       "1. 'Peter'\n",
       "2. 'Abel'\n",
       "3. 'Elin'\n",
       "\n",
       "\n"
      ],
      "text/plain": [
       "[1] \"Peter\" \"Abel\"  \"Elin\" "
      ]
     },
     "metadata": {},
     "output_type": "display_data"
    }
   ],
   "source": [
    "Names <- xpathSApply(RootNode, '//name',xmlValue)\n",
    "Names"
   ]
  },
  {
   "cell_type": "code",
   "execution_count": 57,
   "metadata": {},
   "outputs": [
    {
     "data": {
      "text/html": [
       "<ol class=list-inline>\n",
       "\t<li>'100'</li>\n",
       "\t<li>'90'</li>\n",
       "\t<li>'80'</li>\n",
       "</ol>\n"
      ],
      "text/latex": [
       "\\begin{enumerate*}\n",
       "\\item '100'\n",
       "\\item '90'\n",
       "\\item '80'\n",
       "\\end{enumerate*}\n"
      ],
      "text/markdown": [
       "1. '100'\n",
       "2. '90'\n",
       "3. '80'\n",
       "\n",
       "\n"
      ],
      "text/plain": [
       "[1] \"100\" \"90\"  \"80\" "
      ]
     },
     "metadata": {},
     "output_type": "display_data"
    }
   ],
   "source": [
    "Scores <- xpathSApply(RootNode, '//score',xmlValue)\n",
    "Scores"
   ]
  },
  {
   "cell_type": "code",
   "execution_count": 60,
   "metadata": {},
   "outputs": [
    {
     "data": {
      "text/html": [
       "<table>\n",
       "<thead><tr><th scope=col>NAME</th><th scope=col>SCORE</th></tr></thead>\n",
       "<tbody>\n",
       "\t<tr><td>Peter</td><td>100  </td></tr>\n",
       "\t<tr><td>Abel </td><td>90   </td></tr>\n",
       "\t<tr><td>Elin </td><td>80   </td></tr>\n",
       "</tbody>\n",
       "</table>\n"
      ],
      "text/latex": [
       "\\begin{tabular}{r|ll}\n",
       " NAME & SCORE\\\\\n",
       "\\hline\n",
       "\t Peter & 100  \\\\\n",
       "\t Abel  & 90   \\\\\n",
       "\t Elin  & 80   \\\\\n",
       "\\end{tabular}\n"
      ],
      "text/markdown": [
       "\n",
       "| NAME | SCORE |\n",
       "|---|---|\n",
       "| Peter | 100   |\n",
       "| Abel  | 90    |\n",
       "| Elin  | 80    |\n",
       "\n"
      ],
      "text/plain": [
       "  NAME  SCORE\n",
       "1 Peter 100  \n",
       "2 Abel  90   \n",
       "3 Elin  80   "
      ]
     },
     "metadata": {},
     "output_type": "display_data"
    }
   ],
   "source": [
    "NameScore = data.frame(NAME=Names, SCORE=Scores)\n",
    "NameScore"
   ]
  },
  {
   "cell_type": "code",
   "execution_count": 63,
   "metadata": {},
   "outputs": [
    {
     "data": {
      "text/html": [
       "<table>\n",
       "<thead><tr><th scope=col>NAME</th><th scope=col>SCORE</th></tr></thead>\n",
       "<tbody>\n",
       "\t<tr><td>Peter</td><td>100  </td></tr>\n",
       "\t<tr><td>Abel </td><td> 90  </td></tr>\n",
       "\t<tr><td>Elin </td><td> 80  </td></tr>\n",
       "</tbody>\n",
       "</table>\n"
      ],
      "text/latex": [
       "\\begin{tabular}{r|ll}\n",
       " NAME & SCORE\\\\\n",
       "\\hline\n",
       "\t Peter & 100  \\\\\n",
       "\t Abel  &  90  \\\\\n",
       "\t Elin  &  80  \\\\\n",
       "\\end{tabular}\n"
      ],
      "text/markdown": [
       "\n",
       "| NAME | SCORE |\n",
       "|---|---|\n",
       "| Peter | 100   |\n",
       "| Abel  |  90   |\n",
       "| Elin  |  80   |\n",
       "\n"
      ],
      "text/plain": [
       "  NAME  SCORE\n",
       "1 Peter 100  \n",
       "2 Abel   90  \n",
       "3 Elin   80  "
      ]
     },
     "metadata": {},
     "output_type": "display_data"
    }
   ],
   "source": [
    "## 데이터 복사하고 나서.\n",
    "List <- read.delim('clipboard', header=T)\n",
    "List"
   ]
  },
  {
   "cell_type": "code",
   "execution_count": 64,
   "metadata": {},
   "outputs": [],
   "source": [
    "## github로 패키지설치하기"
   ]
  },
  {
   "cell_type": "code",
   "execution_count": 65,
   "metadata": {},
   "outputs": [
    {
     "name": "stderr",
     "output_type": "stream",
     "text": [
      "Warning message:\n",
      "\"package 'devtools' was built under R version 3.6.3\"Loading required package: usethis\n",
      "Warning message:\n",
      "\"package 'usethis' was built under R version 3.6.3\""
     ]
    }
   ],
   "source": [
    "library('devtools')"
   ]
  },
  {
   "cell_type": "code",
   "execution_count": 67,
   "metadata": {},
   "outputs": [
    {
     "name": "stderr",
     "output_type": "stream",
     "text": [
      "Warning message:\n",
      "\"package 'yihui/knitr' is not available (for R version 3.6.1)\""
     ]
    }
   ],
   "source": [
    "## github.comm/yihui/knitr\n",
    "install.packages('yihui/knitr')"
   ]
  },
  {
   "cell_type": "code",
   "execution_count": null,
   "metadata": {},
   "outputs": [],
   "source": []
  }
 ],
 "metadata": {
  "kernelspec": {
   "display_name": "R",
   "language": "R",
   "name": "ir"
  },
  "language_info": {
   "codemirror_mode": "r",
   "file_extension": ".r",
   "mimetype": "text/x-r-source",
   "name": "R",
   "pygments_lexer": "r",
   "version": "3.6.1"
  }
 },
 "nbformat": 4,
 "nbformat_minor": 4
}
